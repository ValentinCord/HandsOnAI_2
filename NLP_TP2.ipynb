{
  "nbformat": 4,
  "nbformat_minor": 0,
  "metadata": {
    "colab": {
      "provenance": [],
      "include_colab_link": true
    },
    "kernelspec": {
      "name": "python3",
      "display_name": "Python 3"
    },
    "language_info": {
      "name": "python"
    },
    "accelerator": "GPU",
    "gpuClass": "standard",
    "widgets": {
      "application/vnd.jupyter.widget-state+json": {
        "4b9ea76c417f4d64ac57f28fd696f700": {
          "model_module": "@jupyter-widgets/controls",
          "model_name": "HBoxModel",
          "model_module_version": "1.5.0",
          "state": {
            "_dom_classes": [],
            "_model_module": "@jupyter-widgets/controls",
            "_model_module_version": "1.5.0",
            "_model_name": "HBoxModel",
            "_view_count": null,
            "_view_module": "@jupyter-widgets/controls",
            "_view_module_version": "1.5.0",
            "_view_name": "HBoxView",
            "box_style": "",
            "children": [
              "IPY_MODEL_f0c22638a39c430a88b752b884a52864",
              "IPY_MODEL_3fdcc7453b894677a016057e980cd616",
              "IPY_MODEL_16abee76e47742ea87a42f64d67859c0"
            ],
            "layout": "IPY_MODEL_ead2c56ac97649569225a7001d04bb3f"
          }
        },
        "f0c22638a39c430a88b752b884a52864": {
          "model_module": "@jupyter-widgets/controls",
          "model_name": "HTMLModel",
          "model_module_version": "1.5.0",
          "state": {
            "_dom_classes": [],
            "_model_module": "@jupyter-widgets/controls",
            "_model_module_version": "1.5.0",
            "_model_name": "HTMLModel",
            "_view_count": null,
            "_view_module": "@jupyter-widgets/controls",
            "_view_module_version": "1.5.0",
            "_view_name": "HTMLView",
            "description": "",
            "description_tooltip": null,
            "layout": "IPY_MODEL_6451d43089d84ab7bd8ea5efb0a3e072",
            "placeholder": "​",
            "style": "IPY_MODEL_66c03f4bc610471cbedb365268a8a24c",
            "value": "Downloading: 100%"
          }
        },
        "3fdcc7453b894677a016057e980cd616": {
          "model_module": "@jupyter-widgets/controls",
          "model_name": "FloatProgressModel",
          "model_module_version": "1.5.0",
          "state": {
            "_dom_classes": [],
            "_model_module": "@jupyter-widgets/controls",
            "_model_module_version": "1.5.0",
            "_model_name": "FloatProgressModel",
            "_view_count": null,
            "_view_module": "@jupyter-widgets/controls",
            "_view_module_version": "1.5.0",
            "_view_name": "ProgressView",
            "bar_style": "success",
            "description": "",
            "description_tooltip": null,
            "layout": "IPY_MODEL_14dfe65299494e879db0103274b52583",
            "max": 483,
            "min": 0,
            "orientation": "horizontal",
            "style": "IPY_MODEL_ecf26e07261f4216b530b16203d305d9",
            "value": 483
          }
        },
        "16abee76e47742ea87a42f64d67859c0": {
          "model_module": "@jupyter-widgets/controls",
          "model_name": "HTMLModel",
          "model_module_version": "1.5.0",
          "state": {
            "_dom_classes": [],
            "_model_module": "@jupyter-widgets/controls",
            "_model_module_version": "1.5.0",
            "_model_name": "HTMLModel",
            "_view_count": null,
            "_view_module": "@jupyter-widgets/controls",
            "_view_module_version": "1.5.0",
            "_view_name": "HTMLView",
            "description": "",
            "description_tooltip": null,
            "layout": "IPY_MODEL_fafa7c5e24b8417e8a894eb8591c6235",
            "placeholder": "​",
            "style": "IPY_MODEL_65460448ec874a01b9f4f3edb49f51e3",
            "value": " 483/483 [00:00&lt;00:00, 11.4kB/s]"
          }
        },
        "ead2c56ac97649569225a7001d04bb3f": {
          "model_module": "@jupyter-widgets/base",
          "model_name": "LayoutModel",
          "model_module_version": "1.2.0",
          "state": {
            "_model_module": "@jupyter-widgets/base",
            "_model_module_version": "1.2.0",
            "_model_name": "LayoutModel",
            "_view_count": null,
            "_view_module": "@jupyter-widgets/base",
            "_view_module_version": "1.2.0",
            "_view_name": "LayoutView",
            "align_content": null,
            "align_items": null,
            "align_self": null,
            "border": null,
            "bottom": null,
            "display": null,
            "flex": null,
            "flex_flow": null,
            "grid_area": null,
            "grid_auto_columns": null,
            "grid_auto_flow": null,
            "grid_auto_rows": null,
            "grid_column": null,
            "grid_gap": null,
            "grid_row": null,
            "grid_template_areas": null,
            "grid_template_columns": null,
            "grid_template_rows": null,
            "height": null,
            "justify_content": null,
            "justify_items": null,
            "left": null,
            "margin": null,
            "max_height": null,
            "max_width": null,
            "min_height": null,
            "min_width": null,
            "object_fit": null,
            "object_position": null,
            "order": null,
            "overflow": null,
            "overflow_x": null,
            "overflow_y": null,
            "padding": null,
            "right": null,
            "top": null,
            "visibility": null,
            "width": null
          }
        },
        "6451d43089d84ab7bd8ea5efb0a3e072": {
          "model_module": "@jupyter-widgets/base",
          "model_name": "LayoutModel",
          "model_module_version": "1.2.0",
          "state": {
            "_model_module": "@jupyter-widgets/base",
            "_model_module_version": "1.2.0",
            "_model_name": "LayoutModel",
            "_view_count": null,
            "_view_module": "@jupyter-widgets/base",
            "_view_module_version": "1.2.0",
            "_view_name": "LayoutView",
            "align_content": null,
            "align_items": null,
            "align_self": null,
            "border": null,
            "bottom": null,
            "display": null,
            "flex": null,
            "flex_flow": null,
            "grid_area": null,
            "grid_auto_columns": null,
            "grid_auto_flow": null,
            "grid_auto_rows": null,
            "grid_column": null,
            "grid_gap": null,
            "grid_row": null,
            "grid_template_areas": null,
            "grid_template_columns": null,
            "grid_template_rows": null,
            "height": null,
            "justify_content": null,
            "justify_items": null,
            "left": null,
            "margin": null,
            "max_height": null,
            "max_width": null,
            "min_height": null,
            "min_width": null,
            "object_fit": null,
            "object_position": null,
            "order": null,
            "overflow": null,
            "overflow_x": null,
            "overflow_y": null,
            "padding": null,
            "right": null,
            "top": null,
            "visibility": null,
            "width": null
          }
        },
        "66c03f4bc610471cbedb365268a8a24c": {
          "model_module": "@jupyter-widgets/controls",
          "model_name": "DescriptionStyleModel",
          "model_module_version": "1.5.0",
          "state": {
            "_model_module": "@jupyter-widgets/controls",
            "_model_module_version": "1.5.0",
            "_model_name": "DescriptionStyleModel",
            "_view_count": null,
            "_view_module": "@jupyter-widgets/base",
            "_view_module_version": "1.2.0",
            "_view_name": "StyleView",
            "description_width": ""
          }
        },
        "14dfe65299494e879db0103274b52583": {
          "model_module": "@jupyter-widgets/base",
          "model_name": "LayoutModel",
          "model_module_version": "1.2.0",
          "state": {
            "_model_module": "@jupyter-widgets/base",
            "_model_module_version": "1.2.0",
            "_model_name": "LayoutModel",
            "_view_count": null,
            "_view_module": "@jupyter-widgets/base",
            "_view_module_version": "1.2.0",
            "_view_name": "LayoutView",
            "align_content": null,
            "align_items": null,
            "align_self": null,
            "border": null,
            "bottom": null,
            "display": null,
            "flex": null,
            "flex_flow": null,
            "grid_area": null,
            "grid_auto_columns": null,
            "grid_auto_flow": null,
            "grid_auto_rows": null,
            "grid_column": null,
            "grid_gap": null,
            "grid_row": null,
            "grid_template_areas": null,
            "grid_template_columns": null,
            "grid_template_rows": null,
            "height": null,
            "justify_content": null,
            "justify_items": null,
            "left": null,
            "margin": null,
            "max_height": null,
            "max_width": null,
            "min_height": null,
            "min_width": null,
            "object_fit": null,
            "object_position": null,
            "order": null,
            "overflow": null,
            "overflow_x": null,
            "overflow_y": null,
            "padding": null,
            "right": null,
            "top": null,
            "visibility": null,
            "width": null
          }
        },
        "ecf26e07261f4216b530b16203d305d9": {
          "model_module": "@jupyter-widgets/controls",
          "model_name": "ProgressStyleModel",
          "model_module_version": "1.5.0",
          "state": {
            "_model_module": "@jupyter-widgets/controls",
            "_model_module_version": "1.5.0",
            "_model_name": "ProgressStyleModel",
            "_view_count": null,
            "_view_module": "@jupyter-widgets/base",
            "_view_module_version": "1.2.0",
            "_view_name": "StyleView",
            "bar_color": null,
            "description_width": ""
          }
        },
        "fafa7c5e24b8417e8a894eb8591c6235": {
          "model_module": "@jupyter-widgets/base",
          "model_name": "LayoutModel",
          "model_module_version": "1.2.0",
          "state": {
            "_model_module": "@jupyter-widgets/base",
            "_model_module_version": "1.2.0",
            "_model_name": "LayoutModel",
            "_view_count": null,
            "_view_module": "@jupyter-widgets/base",
            "_view_module_version": "1.2.0",
            "_view_name": "LayoutView",
            "align_content": null,
            "align_items": null,
            "align_self": null,
            "border": null,
            "bottom": null,
            "display": null,
            "flex": null,
            "flex_flow": null,
            "grid_area": null,
            "grid_auto_columns": null,
            "grid_auto_flow": null,
            "grid_auto_rows": null,
            "grid_column": null,
            "grid_gap": null,
            "grid_row": null,
            "grid_template_areas": null,
            "grid_template_columns": null,
            "grid_template_rows": null,
            "height": null,
            "justify_content": null,
            "justify_items": null,
            "left": null,
            "margin": null,
            "max_height": null,
            "max_width": null,
            "min_height": null,
            "min_width": null,
            "object_fit": null,
            "object_position": null,
            "order": null,
            "overflow": null,
            "overflow_x": null,
            "overflow_y": null,
            "padding": null,
            "right": null,
            "top": null,
            "visibility": null,
            "width": null
          }
        },
        "65460448ec874a01b9f4f3edb49f51e3": {
          "model_module": "@jupyter-widgets/controls",
          "model_name": "DescriptionStyleModel",
          "model_module_version": "1.5.0",
          "state": {
            "_model_module": "@jupyter-widgets/controls",
            "_model_module_version": "1.5.0",
            "_model_name": "DescriptionStyleModel",
            "_view_count": null,
            "_view_module": "@jupyter-widgets/base",
            "_view_module_version": "1.2.0",
            "_view_name": "StyleView",
            "description_width": ""
          }
        },
        "f5c91c11c2b54fffb5fefe58df005358": {
          "model_module": "@jupyter-widgets/controls",
          "model_name": "HBoxModel",
          "model_module_version": "1.5.0",
          "state": {
            "_dom_classes": [],
            "_model_module": "@jupyter-widgets/controls",
            "_model_module_version": "1.5.0",
            "_model_name": "HBoxModel",
            "_view_count": null,
            "_view_module": "@jupyter-widgets/controls",
            "_view_module_version": "1.5.0",
            "_view_name": "HBoxView",
            "box_style": "",
            "children": [
              "IPY_MODEL_00ecb10a5af9495c9137b514ba8f63cb",
              "IPY_MODEL_597193305b7d4f018005ab2fbc5ff949",
              "IPY_MODEL_291757ff34a94b5f8e69c78d48ad060e"
            ],
            "layout": "IPY_MODEL_a9bf41ad5bb145a1abeedb57e01601c5"
          }
        },
        "00ecb10a5af9495c9137b514ba8f63cb": {
          "model_module": "@jupyter-widgets/controls",
          "model_name": "HTMLModel",
          "model_module_version": "1.5.0",
          "state": {
            "_dom_classes": [],
            "_model_module": "@jupyter-widgets/controls",
            "_model_module_version": "1.5.0",
            "_model_name": "HTMLModel",
            "_view_count": null,
            "_view_module": "@jupyter-widgets/controls",
            "_view_module_version": "1.5.0",
            "_view_name": "HTMLView",
            "description": "",
            "description_tooltip": null,
            "layout": "IPY_MODEL_568d12d1587448f5b0708946e6dc053e",
            "placeholder": "​",
            "style": "IPY_MODEL_f09f3faa213d48058929863543dd029b",
            "value": "Downloading: 100%"
          }
        },
        "597193305b7d4f018005ab2fbc5ff949": {
          "model_module": "@jupyter-widgets/controls",
          "model_name": "FloatProgressModel",
          "model_module_version": "1.5.0",
          "state": {
            "_dom_classes": [],
            "_model_module": "@jupyter-widgets/controls",
            "_model_module_version": "1.5.0",
            "_model_name": "FloatProgressModel",
            "_view_count": null,
            "_view_module": "@jupyter-widgets/controls",
            "_view_module_version": "1.5.0",
            "_view_name": "ProgressView",
            "bar_style": "success",
            "description": "",
            "description_tooltip": null,
            "layout": "IPY_MODEL_0cf3119e6ba5442fa174243122097e90",
            "max": 267967963,
            "min": 0,
            "orientation": "horizontal",
            "style": "IPY_MODEL_e010fff1c7fb4f27b271cacf4cb19205",
            "value": 267967963
          }
        },
        "291757ff34a94b5f8e69c78d48ad060e": {
          "model_module": "@jupyter-widgets/controls",
          "model_name": "HTMLModel",
          "model_module_version": "1.5.0",
          "state": {
            "_dom_classes": [],
            "_model_module": "@jupyter-widgets/controls",
            "_model_module_version": "1.5.0",
            "_model_name": "HTMLModel",
            "_view_count": null,
            "_view_module": "@jupyter-widgets/controls",
            "_view_module_version": "1.5.0",
            "_view_name": "HTMLView",
            "description": "",
            "description_tooltip": null,
            "layout": "IPY_MODEL_95d3289f295340919f7bbb0097265a18",
            "placeholder": "​",
            "style": "IPY_MODEL_ad41c0219bde4e428240688d98bfdf4e",
            "value": " 268M/268M [00:03&lt;00:00, 74.9MB/s]"
          }
        },
        "a9bf41ad5bb145a1abeedb57e01601c5": {
          "model_module": "@jupyter-widgets/base",
          "model_name": "LayoutModel",
          "model_module_version": "1.2.0",
          "state": {
            "_model_module": "@jupyter-widgets/base",
            "_model_module_version": "1.2.0",
            "_model_name": "LayoutModel",
            "_view_count": null,
            "_view_module": "@jupyter-widgets/base",
            "_view_module_version": "1.2.0",
            "_view_name": "LayoutView",
            "align_content": null,
            "align_items": null,
            "align_self": null,
            "border": null,
            "bottom": null,
            "display": null,
            "flex": null,
            "flex_flow": null,
            "grid_area": null,
            "grid_auto_columns": null,
            "grid_auto_flow": null,
            "grid_auto_rows": null,
            "grid_column": null,
            "grid_gap": null,
            "grid_row": null,
            "grid_template_areas": null,
            "grid_template_columns": null,
            "grid_template_rows": null,
            "height": null,
            "justify_content": null,
            "justify_items": null,
            "left": null,
            "margin": null,
            "max_height": null,
            "max_width": null,
            "min_height": null,
            "min_width": null,
            "object_fit": null,
            "object_position": null,
            "order": null,
            "overflow": null,
            "overflow_x": null,
            "overflow_y": null,
            "padding": null,
            "right": null,
            "top": null,
            "visibility": null,
            "width": null
          }
        },
        "568d12d1587448f5b0708946e6dc053e": {
          "model_module": "@jupyter-widgets/base",
          "model_name": "LayoutModel",
          "model_module_version": "1.2.0",
          "state": {
            "_model_module": "@jupyter-widgets/base",
            "_model_module_version": "1.2.0",
            "_model_name": "LayoutModel",
            "_view_count": null,
            "_view_module": "@jupyter-widgets/base",
            "_view_module_version": "1.2.0",
            "_view_name": "LayoutView",
            "align_content": null,
            "align_items": null,
            "align_self": null,
            "border": null,
            "bottom": null,
            "display": null,
            "flex": null,
            "flex_flow": null,
            "grid_area": null,
            "grid_auto_columns": null,
            "grid_auto_flow": null,
            "grid_auto_rows": null,
            "grid_column": null,
            "grid_gap": null,
            "grid_row": null,
            "grid_template_areas": null,
            "grid_template_columns": null,
            "grid_template_rows": null,
            "height": null,
            "justify_content": null,
            "justify_items": null,
            "left": null,
            "margin": null,
            "max_height": null,
            "max_width": null,
            "min_height": null,
            "min_width": null,
            "object_fit": null,
            "object_position": null,
            "order": null,
            "overflow": null,
            "overflow_x": null,
            "overflow_y": null,
            "padding": null,
            "right": null,
            "top": null,
            "visibility": null,
            "width": null
          }
        },
        "f09f3faa213d48058929863543dd029b": {
          "model_module": "@jupyter-widgets/controls",
          "model_name": "DescriptionStyleModel",
          "model_module_version": "1.5.0",
          "state": {
            "_model_module": "@jupyter-widgets/controls",
            "_model_module_version": "1.5.0",
            "_model_name": "DescriptionStyleModel",
            "_view_count": null,
            "_view_module": "@jupyter-widgets/base",
            "_view_module_version": "1.2.0",
            "_view_name": "StyleView",
            "description_width": ""
          }
        },
        "0cf3119e6ba5442fa174243122097e90": {
          "model_module": "@jupyter-widgets/base",
          "model_name": "LayoutModel",
          "model_module_version": "1.2.0",
          "state": {
            "_model_module": "@jupyter-widgets/base",
            "_model_module_version": "1.2.0",
            "_model_name": "LayoutModel",
            "_view_count": null,
            "_view_module": "@jupyter-widgets/base",
            "_view_module_version": "1.2.0",
            "_view_name": "LayoutView",
            "align_content": null,
            "align_items": null,
            "align_self": null,
            "border": null,
            "bottom": null,
            "display": null,
            "flex": null,
            "flex_flow": null,
            "grid_area": null,
            "grid_auto_columns": null,
            "grid_auto_flow": null,
            "grid_auto_rows": null,
            "grid_column": null,
            "grid_gap": null,
            "grid_row": null,
            "grid_template_areas": null,
            "grid_template_columns": null,
            "grid_template_rows": null,
            "height": null,
            "justify_content": null,
            "justify_items": null,
            "left": null,
            "margin": null,
            "max_height": null,
            "max_width": null,
            "min_height": null,
            "min_width": null,
            "object_fit": null,
            "object_position": null,
            "order": null,
            "overflow": null,
            "overflow_x": null,
            "overflow_y": null,
            "padding": null,
            "right": null,
            "top": null,
            "visibility": null,
            "width": null
          }
        },
        "e010fff1c7fb4f27b271cacf4cb19205": {
          "model_module": "@jupyter-widgets/controls",
          "model_name": "ProgressStyleModel",
          "model_module_version": "1.5.0",
          "state": {
            "_model_module": "@jupyter-widgets/controls",
            "_model_module_version": "1.5.0",
            "_model_name": "ProgressStyleModel",
            "_view_count": null,
            "_view_module": "@jupyter-widgets/base",
            "_view_module_version": "1.2.0",
            "_view_name": "StyleView",
            "bar_color": null,
            "description_width": ""
          }
        },
        "95d3289f295340919f7bbb0097265a18": {
          "model_module": "@jupyter-widgets/base",
          "model_name": "LayoutModel",
          "model_module_version": "1.2.0",
          "state": {
            "_model_module": "@jupyter-widgets/base",
            "_model_module_version": "1.2.0",
            "_model_name": "LayoutModel",
            "_view_count": null,
            "_view_module": "@jupyter-widgets/base",
            "_view_module_version": "1.2.0",
            "_view_name": "LayoutView",
            "align_content": null,
            "align_items": null,
            "align_self": null,
            "border": null,
            "bottom": null,
            "display": null,
            "flex": null,
            "flex_flow": null,
            "grid_area": null,
            "grid_auto_columns": null,
            "grid_auto_flow": null,
            "grid_auto_rows": null,
            "grid_column": null,
            "grid_gap": null,
            "grid_row": null,
            "grid_template_areas": null,
            "grid_template_columns": null,
            "grid_template_rows": null,
            "height": null,
            "justify_content": null,
            "justify_items": null,
            "left": null,
            "margin": null,
            "max_height": null,
            "max_width": null,
            "min_height": null,
            "min_width": null,
            "object_fit": null,
            "object_position": null,
            "order": null,
            "overflow": null,
            "overflow_x": null,
            "overflow_y": null,
            "padding": null,
            "right": null,
            "top": null,
            "visibility": null,
            "width": null
          }
        },
        "ad41c0219bde4e428240688d98bfdf4e": {
          "model_module": "@jupyter-widgets/controls",
          "model_name": "DescriptionStyleModel",
          "model_module_version": "1.5.0",
          "state": {
            "_model_module": "@jupyter-widgets/controls",
            "_model_module_version": "1.5.0",
            "_model_name": "DescriptionStyleModel",
            "_view_count": null,
            "_view_module": "@jupyter-widgets/base",
            "_view_module_version": "1.2.0",
            "_view_name": "StyleView",
            "description_width": ""
          }
        },
        "a8cb20fa915e4e0ba7b7793f6fcbd035": {
          "model_module": "@jupyter-widgets/controls",
          "model_name": "HBoxModel",
          "model_module_version": "1.5.0",
          "state": {
            "_dom_classes": [],
            "_model_module": "@jupyter-widgets/controls",
            "_model_module_version": "1.5.0",
            "_model_name": "HBoxModel",
            "_view_count": null,
            "_view_module": "@jupyter-widgets/controls",
            "_view_module_version": "1.5.0",
            "_view_name": "HBoxView",
            "box_style": "",
            "children": [
              "IPY_MODEL_85b432763fd24a1c935a0cb8e93c1237",
              "IPY_MODEL_da8261b0fd4d40b084a1270097bc9809",
              "IPY_MODEL_6f901ec827f64359beb5cdfd472d6ab8"
            ],
            "layout": "IPY_MODEL_be4f16f9817a49b7a640bd03eae3b89b"
          }
        },
        "85b432763fd24a1c935a0cb8e93c1237": {
          "model_module": "@jupyter-widgets/controls",
          "model_name": "HTMLModel",
          "model_module_version": "1.5.0",
          "state": {
            "_dom_classes": [],
            "_model_module": "@jupyter-widgets/controls",
            "_model_module_version": "1.5.0",
            "_model_name": "HTMLModel",
            "_view_count": null,
            "_view_module": "@jupyter-widgets/controls",
            "_view_module_version": "1.5.0",
            "_view_name": "HTMLView",
            "description": "",
            "description_tooltip": null,
            "layout": "IPY_MODEL_58782ab95a8e46eb96b32b84a093abc0",
            "placeholder": "​",
            "style": "IPY_MODEL_1c80c32c1d394d73901ab9f57ab47ad8",
            "value": "Downloading: 100%"
          }
        },
        "da8261b0fd4d40b084a1270097bc9809": {
          "model_module": "@jupyter-widgets/controls",
          "model_name": "FloatProgressModel",
          "model_module_version": "1.5.0",
          "state": {
            "_dom_classes": [],
            "_model_module": "@jupyter-widgets/controls",
            "_model_module_version": "1.5.0",
            "_model_name": "FloatProgressModel",
            "_view_count": null,
            "_view_module": "@jupyter-widgets/controls",
            "_view_module_version": "1.5.0",
            "_view_name": "ProgressView",
            "bar_style": "success",
            "description": "",
            "description_tooltip": null,
            "layout": "IPY_MODEL_4920e29e9f3746f5a63647ac8bb13ec0",
            "max": 28,
            "min": 0,
            "orientation": "horizontal",
            "style": "IPY_MODEL_d73f6111faab44bd96877716077d7143",
            "value": 28
          }
        },
        "6f901ec827f64359beb5cdfd472d6ab8": {
          "model_module": "@jupyter-widgets/controls",
          "model_name": "HTMLModel",
          "model_module_version": "1.5.0",
          "state": {
            "_dom_classes": [],
            "_model_module": "@jupyter-widgets/controls",
            "_model_module_version": "1.5.0",
            "_model_name": "HTMLModel",
            "_view_count": null,
            "_view_module": "@jupyter-widgets/controls",
            "_view_module_version": "1.5.0",
            "_view_name": "HTMLView",
            "description": "",
            "description_tooltip": null,
            "layout": "IPY_MODEL_ee76269441604e9fa2eb748fb9491c14",
            "placeholder": "​",
            "style": "IPY_MODEL_5796499297a440348d976f244ad59c1a",
            "value": " 28.0/28.0 [00:00&lt;00:00, 397B/s]"
          }
        },
        "be4f16f9817a49b7a640bd03eae3b89b": {
          "model_module": "@jupyter-widgets/base",
          "model_name": "LayoutModel",
          "model_module_version": "1.2.0",
          "state": {
            "_model_module": "@jupyter-widgets/base",
            "_model_module_version": "1.2.0",
            "_model_name": "LayoutModel",
            "_view_count": null,
            "_view_module": "@jupyter-widgets/base",
            "_view_module_version": "1.2.0",
            "_view_name": "LayoutView",
            "align_content": null,
            "align_items": null,
            "align_self": null,
            "border": null,
            "bottom": null,
            "display": null,
            "flex": null,
            "flex_flow": null,
            "grid_area": null,
            "grid_auto_columns": null,
            "grid_auto_flow": null,
            "grid_auto_rows": null,
            "grid_column": null,
            "grid_gap": null,
            "grid_row": null,
            "grid_template_areas": null,
            "grid_template_columns": null,
            "grid_template_rows": null,
            "height": null,
            "justify_content": null,
            "justify_items": null,
            "left": null,
            "margin": null,
            "max_height": null,
            "max_width": null,
            "min_height": null,
            "min_width": null,
            "object_fit": null,
            "object_position": null,
            "order": null,
            "overflow": null,
            "overflow_x": null,
            "overflow_y": null,
            "padding": null,
            "right": null,
            "top": null,
            "visibility": null,
            "width": null
          }
        },
        "58782ab95a8e46eb96b32b84a093abc0": {
          "model_module": "@jupyter-widgets/base",
          "model_name": "LayoutModel",
          "model_module_version": "1.2.0",
          "state": {
            "_model_module": "@jupyter-widgets/base",
            "_model_module_version": "1.2.0",
            "_model_name": "LayoutModel",
            "_view_count": null,
            "_view_module": "@jupyter-widgets/base",
            "_view_module_version": "1.2.0",
            "_view_name": "LayoutView",
            "align_content": null,
            "align_items": null,
            "align_self": null,
            "border": null,
            "bottom": null,
            "display": null,
            "flex": null,
            "flex_flow": null,
            "grid_area": null,
            "grid_auto_columns": null,
            "grid_auto_flow": null,
            "grid_auto_rows": null,
            "grid_column": null,
            "grid_gap": null,
            "grid_row": null,
            "grid_template_areas": null,
            "grid_template_columns": null,
            "grid_template_rows": null,
            "height": null,
            "justify_content": null,
            "justify_items": null,
            "left": null,
            "margin": null,
            "max_height": null,
            "max_width": null,
            "min_height": null,
            "min_width": null,
            "object_fit": null,
            "object_position": null,
            "order": null,
            "overflow": null,
            "overflow_x": null,
            "overflow_y": null,
            "padding": null,
            "right": null,
            "top": null,
            "visibility": null,
            "width": null
          }
        },
        "1c80c32c1d394d73901ab9f57ab47ad8": {
          "model_module": "@jupyter-widgets/controls",
          "model_name": "DescriptionStyleModel",
          "model_module_version": "1.5.0",
          "state": {
            "_model_module": "@jupyter-widgets/controls",
            "_model_module_version": "1.5.0",
            "_model_name": "DescriptionStyleModel",
            "_view_count": null,
            "_view_module": "@jupyter-widgets/base",
            "_view_module_version": "1.2.0",
            "_view_name": "StyleView",
            "description_width": ""
          }
        },
        "4920e29e9f3746f5a63647ac8bb13ec0": {
          "model_module": "@jupyter-widgets/base",
          "model_name": "LayoutModel",
          "model_module_version": "1.2.0",
          "state": {
            "_model_module": "@jupyter-widgets/base",
            "_model_module_version": "1.2.0",
            "_model_name": "LayoutModel",
            "_view_count": null,
            "_view_module": "@jupyter-widgets/base",
            "_view_module_version": "1.2.0",
            "_view_name": "LayoutView",
            "align_content": null,
            "align_items": null,
            "align_self": null,
            "border": null,
            "bottom": null,
            "display": null,
            "flex": null,
            "flex_flow": null,
            "grid_area": null,
            "grid_auto_columns": null,
            "grid_auto_flow": null,
            "grid_auto_rows": null,
            "grid_column": null,
            "grid_gap": null,
            "grid_row": null,
            "grid_template_areas": null,
            "grid_template_columns": null,
            "grid_template_rows": null,
            "height": null,
            "justify_content": null,
            "justify_items": null,
            "left": null,
            "margin": null,
            "max_height": null,
            "max_width": null,
            "min_height": null,
            "min_width": null,
            "object_fit": null,
            "object_position": null,
            "order": null,
            "overflow": null,
            "overflow_x": null,
            "overflow_y": null,
            "padding": null,
            "right": null,
            "top": null,
            "visibility": null,
            "width": null
          }
        },
        "d73f6111faab44bd96877716077d7143": {
          "model_module": "@jupyter-widgets/controls",
          "model_name": "ProgressStyleModel",
          "model_module_version": "1.5.0",
          "state": {
            "_model_module": "@jupyter-widgets/controls",
            "_model_module_version": "1.5.0",
            "_model_name": "ProgressStyleModel",
            "_view_count": null,
            "_view_module": "@jupyter-widgets/base",
            "_view_module_version": "1.2.0",
            "_view_name": "StyleView",
            "bar_color": null,
            "description_width": ""
          }
        },
        "ee76269441604e9fa2eb748fb9491c14": {
          "model_module": "@jupyter-widgets/base",
          "model_name": "LayoutModel",
          "model_module_version": "1.2.0",
          "state": {
            "_model_module": "@jupyter-widgets/base",
            "_model_module_version": "1.2.0",
            "_model_name": "LayoutModel",
            "_view_count": null,
            "_view_module": "@jupyter-widgets/base",
            "_view_module_version": "1.2.0",
            "_view_name": "LayoutView",
            "align_content": null,
            "align_items": null,
            "align_self": null,
            "border": null,
            "bottom": null,
            "display": null,
            "flex": null,
            "flex_flow": null,
            "grid_area": null,
            "grid_auto_columns": null,
            "grid_auto_flow": null,
            "grid_auto_rows": null,
            "grid_column": null,
            "grid_gap": null,
            "grid_row": null,
            "grid_template_areas": null,
            "grid_template_columns": null,
            "grid_template_rows": null,
            "height": null,
            "justify_content": null,
            "justify_items": null,
            "left": null,
            "margin": null,
            "max_height": null,
            "max_width": null,
            "min_height": null,
            "min_width": null,
            "object_fit": null,
            "object_position": null,
            "order": null,
            "overflow": null,
            "overflow_x": null,
            "overflow_y": null,
            "padding": null,
            "right": null,
            "top": null,
            "visibility": null,
            "width": null
          }
        },
        "5796499297a440348d976f244ad59c1a": {
          "model_module": "@jupyter-widgets/controls",
          "model_name": "DescriptionStyleModel",
          "model_module_version": "1.5.0",
          "state": {
            "_model_module": "@jupyter-widgets/controls",
            "_model_module_version": "1.5.0",
            "_model_name": "DescriptionStyleModel",
            "_view_count": null,
            "_view_module": "@jupyter-widgets/base",
            "_view_module_version": "1.2.0",
            "_view_name": "StyleView",
            "description_width": ""
          }
        },
        "243c2a5ae94642a0ad1ac49290813ec5": {
          "model_module": "@jupyter-widgets/controls",
          "model_name": "HBoxModel",
          "model_module_version": "1.5.0",
          "state": {
            "_dom_classes": [],
            "_model_module": "@jupyter-widgets/controls",
            "_model_module_version": "1.5.0",
            "_model_name": "HBoxModel",
            "_view_count": null,
            "_view_module": "@jupyter-widgets/controls",
            "_view_module_version": "1.5.0",
            "_view_name": "HBoxView",
            "box_style": "",
            "children": [
              "IPY_MODEL_59e8ddd5016f4fe1a07ff401697b9dd8",
              "IPY_MODEL_447ccbba1e3f42538512023e374d3b05",
              "IPY_MODEL_68f1d667238847a5af4b9fe15ada96bd"
            ],
            "layout": "IPY_MODEL_0efc53387ddc494a9ace83bac496d4d8"
          }
        },
        "59e8ddd5016f4fe1a07ff401697b9dd8": {
          "model_module": "@jupyter-widgets/controls",
          "model_name": "HTMLModel",
          "model_module_version": "1.5.0",
          "state": {
            "_dom_classes": [],
            "_model_module": "@jupyter-widgets/controls",
            "_model_module_version": "1.5.0",
            "_model_name": "HTMLModel",
            "_view_count": null,
            "_view_module": "@jupyter-widgets/controls",
            "_view_module_version": "1.5.0",
            "_view_name": "HTMLView",
            "description": "",
            "description_tooltip": null,
            "layout": "IPY_MODEL_d87d7a3f4e294bd18fed4511b9c37d3e",
            "placeholder": "​",
            "style": "IPY_MODEL_97cf56ce8f8b48fdb7ca617f7c3ef70a",
            "value": "Downloading: 100%"
          }
        },
        "447ccbba1e3f42538512023e374d3b05": {
          "model_module": "@jupyter-widgets/controls",
          "model_name": "FloatProgressModel",
          "model_module_version": "1.5.0",
          "state": {
            "_dom_classes": [],
            "_model_module": "@jupyter-widgets/controls",
            "_model_module_version": "1.5.0",
            "_model_name": "FloatProgressModel",
            "_view_count": null,
            "_view_module": "@jupyter-widgets/controls",
            "_view_module_version": "1.5.0",
            "_view_name": "ProgressView",
            "bar_style": "success",
            "description": "",
            "description_tooltip": null,
            "layout": "IPY_MODEL_7170dd3fef644bb5b4bebc4921444fb5",
            "max": 231508,
            "min": 0,
            "orientation": "horizontal",
            "style": "IPY_MODEL_0fcb54eb23794afca5303bd26c306bd4",
            "value": 231508
          }
        },
        "68f1d667238847a5af4b9fe15ada96bd": {
          "model_module": "@jupyter-widgets/controls",
          "model_name": "HTMLModel",
          "model_module_version": "1.5.0",
          "state": {
            "_dom_classes": [],
            "_model_module": "@jupyter-widgets/controls",
            "_model_module_version": "1.5.0",
            "_model_name": "HTMLModel",
            "_view_count": null,
            "_view_module": "@jupyter-widgets/controls",
            "_view_module_version": "1.5.0",
            "_view_name": "HTMLView",
            "description": "",
            "description_tooltip": null,
            "layout": "IPY_MODEL_e348567bed514e45a0187c37777e1546",
            "placeholder": "​",
            "style": "IPY_MODEL_aaf9e787729a4843a7a81a1cc5420eb7",
            "value": " 232k/232k [00:02&lt;00:00, 62.2kB/s]"
          }
        },
        "0efc53387ddc494a9ace83bac496d4d8": {
          "model_module": "@jupyter-widgets/base",
          "model_name": "LayoutModel",
          "model_module_version": "1.2.0",
          "state": {
            "_model_module": "@jupyter-widgets/base",
            "_model_module_version": "1.2.0",
            "_model_name": "LayoutModel",
            "_view_count": null,
            "_view_module": "@jupyter-widgets/base",
            "_view_module_version": "1.2.0",
            "_view_name": "LayoutView",
            "align_content": null,
            "align_items": null,
            "align_self": null,
            "border": null,
            "bottom": null,
            "display": null,
            "flex": null,
            "flex_flow": null,
            "grid_area": null,
            "grid_auto_columns": null,
            "grid_auto_flow": null,
            "grid_auto_rows": null,
            "grid_column": null,
            "grid_gap": null,
            "grid_row": null,
            "grid_template_areas": null,
            "grid_template_columns": null,
            "grid_template_rows": null,
            "height": null,
            "justify_content": null,
            "justify_items": null,
            "left": null,
            "margin": null,
            "max_height": null,
            "max_width": null,
            "min_height": null,
            "min_width": null,
            "object_fit": null,
            "object_position": null,
            "order": null,
            "overflow": null,
            "overflow_x": null,
            "overflow_y": null,
            "padding": null,
            "right": null,
            "top": null,
            "visibility": null,
            "width": null
          }
        },
        "d87d7a3f4e294bd18fed4511b9c37d3e": {
          "model_module": "@jupyter-widgets/base",
          "model_name": "LayoutModel",
          "model_module_version": "1.2.0",
          "state": {
            "_model_module": "@jupyter-widgets/base",
            "_model_module_version": "1.2.0",
            "_model_name": "LayoutModel",
            "_view_count": null,
            "_view_module": "@jupyter-widgets/base",
            "_view_module_version": "1.2.0",
            "_view_name": "LayoutView",
            "align_content": null,
            "align_items": null,
            "align_self": null,
            "border": null,
            "bottom": null,
            "display": null,
            "flex": null,
            "flex_flow": null,
            "grid_area": null,
            "grid_auto_columns": null,
            "grid_auto_flow": null,
            "grid_auto_rows": null,
            "grid_column": null,
            "grid_gap": null,
            "grid_row": null,
            "grid_template_areas": null,
            "grid_template_columns": null,
            "grid_template_rows": null,
            "height": null,
            "justify_content": null,
            "justify_items": null,
            "left": null,
            "margin": null,
            "max_height": null,
            "max_width": null,
            "min_height": null,
            "min_width": null,
            "object_fit": null,
            "object_position": null,
            "order": null,
            "overflow": null,
            "overflow_x": null,
            "overflow_y": null,
            "padding": null,
            "right": null,
            "top": null,
            "visibility": null,
            "width": null
          }
        },
        "97cf56ce8f8b48fdb7ca617f7c3ef70a": {
          "model_module": "@jupyter-widgets/controls",
          "model_name": "DescriptionStyleModel",
          "model_module_version": "1.5.0",
          "state": {
            "_model_module": "@jupyter-widgets/controls",
            "_model_module_version": "1.5.0",
            "_model_name": "DescriptionStyleModel",
            "_view_count": null,
            "_view_module": "@jupyter-widgets/base",
            "_view_module_version": "1.2.0",
            "_view_name": "StyleView",
            "description_width": ""
          }
        },
        "7170dd3fef644bb5b4bebc4921444fb5": {
          "model_module": "@jupyter-widgets/base",
          "model_name": "LayoutModel",
          "model_module_version": "1.2.0",
          "state": {
            "_model_module": "@jupyter-widgets/base",
            "_model_module_version": "1.2.0",
            "_model_name": "LayoutModel",
            "_view_count": null,
            "_view_module": "@jupyter-widgets/base",
            "_view_module_version": "1.2.0",
            "_view_name": "LayoutView",
            "align_content": null,
            "align_items": null,
            "align_self": null,
            "border": null,
            "bottom": null,
            "display": null,
            "flex": null,
            "flex_flow": null,
            "grid_area": null,
            "grid_auto_columns": null,
            "grid_auto_flow": null,
            "grid_auto_rows": null,
            "grid_column": null,
            "grid_gap": null,
            "grid_row": null,
            "grid_template_areas": null,
            "grid_template_columns": null,
            "grid_template_rows": null,
            "height": null,
            "justify_content": null,
            "justify_items": null,
            "left": null,
            "margin": null,
            "max_height": null,
            "max_width": null,
            "min_height": null,
            "min_width": null,
            "object_fit": null,
            "object_position": null,
            "order": null,
            "overflow": null,
            "overflow_x": null,
            "overflow_y": null,
            "padding": null,
            "right": null,
            "top": null,
            "visibility": null,
            "width": null
          }
        },
        "0fcb54eb23794afca5303bd26c306bd4": {
          "model_module": "@jupyter-widgets/controls",
          "model_name": "ProgressStyleModel",
          "model_module_version": "1.5.0",
          "state": {
            "_model_module": "@jupyter-widgets/controls",
            "_model_module_version": "1.5.0",
            "_model_name": "ProgressStyleModel",
            "_view_count": null,
            "_view_module": "@jupyter-widgets/base",
            "_view_module_version": "1.2.0",
            "_view_name": "StyleView",
            "bar_color": null,
            "description_width": ""
          }
        },
        "e348567bed514e45a0187c37777e1546": {
          "model_module": "@jupyter-widgets/base",
          "model_name": "LayoutModel",
          "model_module_version": "1.2.0",
          "state": {
            "_model_module": "@jupyter-widgets/base",
            "_model_module_version": "1.2.0",
            "_model_name": "LayoutModel",
            "_view_count": null,
            "_view_module": "@jupyter-widgets/base",
            "_view_module_version": "1.2.0",
            "_view_name": "LayoutView",
            "align_content": null,
            "align_items": null,
            "align_self": null,
            "border": null,
            "bottom": null,
            "display": null,
            "flex": null,
            "flex_flow": null,
            "grid_area": null,
            "grid_auto_columns": null,
            "grid_auto_flow": null,
            "grid_auto_rows": null,
            "grid_column": null,
            "grid_gap": null,
            "grid_row": null,
            "grid_template_areas": null,
            "grid_template_columns": null,
            "grid_template_rows": null,
            "height": null,
            "justify_content": null,
            "justify_items": null,
            "left": null,
            "margin": null,
            "max_height": null,
            "max_width": null,
            "min_height": null,
            "min_width": null,
            "object_fit": null,
            "object_position": null,
            "order": null,
            "overflow": null,
            "overflow_x": null,
            "overflow_y": null,
            "padding": null,
            "right": null,
            "top": null,
            "visibility": null,
            "width": null
          }
        },
        "aaf9e787729a4843a7a81a1cc5420eb7": {
          "model_module": "@jupyter-widgets/controls",
          "model_name": "DescriptionStyleModel",
          "model_module_version": "1.5.0",
          "state": {
            "_model_module": "@jupyter-widgets/controls",
            "_model_module_version": "1.5.0",
            "_model_name": "DescriptionStyleModel",
            "_view_count": null,
            "_view_module": "@jupyter-widgets/base",
            "_view_module_version": "1.2.0",
            "_view_name": "StyleView",
            "description_width": ""
          }
        },
        "1c4c2a35b5b74924be416de2b7b8fe0f": {
          "model_module": "@jupyter-widgets/controls",
          "model_name": "HBoxModel",
          "model_module_version": "1.5.0",
          "state": {
            "_dom_classes": [],
            "_model_module": "@jupyter-widgets/controls",
            "_model_module_version": "1.5.0",
            "_model_name": "HBoxModel",
            "_view_count": null,
            "_view_module": "@jupyter-widgets/controls",
            "_view_module_version": "1.5.0",
            "_view_name": "HBoxView",
            "box_style": "",
            "children": [
              "IPY_MODEL_debfa4edf3014b1e9862dd9dac0fc7bb",
              "IPY_MODEL_48ae4192a48b4dc7bc26a6e52f1757f7",
              "IPY_MODEL_71d3c2682eca418eb825391c63943ce7"
            ],
            "layout": "IPY_MODEL_793b70ce1a274b2eb8ca4cd2bcffbf88"
          }
        },
        "debfa4edf3014b1e9862dd9dac0fc7bb": {
          "model_module": "@jupyter-widgets/controls",
          "model_name": "HTMLModel",
          "model_module_version": "1.5.0",
          "state": {
            "_dom_classes": [],
            "_model_module": "@jupyter-widgets/controls",
            "_model_module_version": "1.5.0",
            "_model_name": "HTMLModel",
            "_view_count": null,
            "_view_module": "@jupyter-widgets/controls",
            "_view_module_version": "1.5.0",
            "_view_name": "HTMLView",
            "description": "",
            "description_tooltip": null,
            "layout": "IPY_MODEL_a46021b9133f44af85a76cf256b53969",
            "placeholder": "​",
            "style": "IPY_MODEL_e24484eeef5a4a8d8c72aef6cefdf6c1",
            "value": "Downloading: 100%"
          }
        },
        "48ae4192a48b4dc7bc26a6e52f1757f7": {
          "model_module": "@jupyter-widgets/controls",
          "model_name": "FloatProgressModel",
          "model_module_version": "1.5.0",
          "state": {
            "_dom_classes": [],
            "_model_module": "@jupyter-widgets/controls",
            "_model_module_version": "1.5.0",
            "_model_name": "FloatProgressModel",
            "_view_count": null,
            "_view_module": "@jupyter-widgets/controls",
            "_view_module_version": "1.5.0",
            "_view_name": "ProgressView",
            "bar_style": "success",
            "description": "",
            "description_tooltip": null,
            "layout": "IPY_MODEL_a7f962a8d8f94979869f04ecefb9f27c",
            "max": 466062,
            "min": 0,
            "orientation": "horizontal",
            "style": "IPY_MODEL_ea68974f2647408b90c71dcacbc7eaf1",
            "value": 466062
          }
        },
        "71d3c2682eca418eb825391c63943ce7": {
          "model_module": "@jupyter-widgets/controls",
          "model_name": "HTMLModel",
          "model_module_version": "1.5.0",
          "state": {
            "_dom_classes": [],
            "_model_module": "@jupyter-widgets/controls",
            "_model_module_version": "1.5.0",
            "_model_name": "HTMLModel",
            "_view_count": null,
            "_view_module": "@jupyter-widgets/controls",
            "_view_module_version": "1.5.0",
            "_view_name": "HTMLView",
            "description": "",
            "description_tooltip": null,
            "layout": "IPY_MODEL_2727abe632be4441b205787f1874a6e0",
            "placeholder": "​",
            "style": "IPY_MODEL_1c6bf23f8a83481fbe62fda8d37834bf",
            "value": " 466k/466k [00:01&lt;00:00, 396kB/s]"
          }
        },
        "793b70ce1a274b2eb8ca4cd2bcffbf88": {
          "model_module": "@jupyter-widgets/base",
          "model_name": "LayoutModel",
          "model_module_version": "1.2.0",
          "state": {
            "_model_module": "@jupyter-widgets/base",
            "_model_module_version": "1.2.0",
            "_model_name": "LayoutModel",
            "_view_count": null,
            "_view_module": "@jupyter-widgets/base",
            "_view_module_version": "1.2.0",
            "_view_name": "LayoutView",
            "align_content": null,
            "align_items": null,
            "align_self": null,
            "border": null,
            "bottom": null,
            "display": null,
            "flex": null,
            "flex_flow": null,
            "grid_area": null,
            "grid_auto_columns": null,
            "grid_auto_flow": null,
            "grid_auto_rows": null,
            "grid_column": null,
            "grid_gap": null,
            "grid_row": null,
            "grid_template_areas": null,
            "grid_template_columns": null,
            "grid_template_rows": null,
            "height": null,
            "justify_content": null,
            "justify_items": null,
            "left": null,
            "margin": null,
            "max_height": null,
            "max_width": null,
            "min_height": null,
            "min_width": null,
            "object_fit": null,
            "object_position": null,
            "order": null,
            "overflow": null,
            "overflow_x": null,
            "overflow_y": null,
            "padding": null,
            "right": null,
            "top": null,
            "visibility": null,
            "width": null
          }
        },
        "a46021b9133f44af85a76cf256b53969": {
          "model_module": "@jupyter-widgets/base",
          "model_name": "LayoutModel",
          "model_module_version": "1.2.0",
          "state": {
            "_model_module": "@jupyter-widgets/base",
            "_model_module_version": "1.2.0",
            "_model_name": "LayoutModel",
            "_view_count": null,
            "_view_module": "@jupyter-widgets/base",
            "_view_module_version": "1.2.0",
            "_view_name": "LayoutView",
            "align_content": null,
            "align_items": null,
            "align_self": null,
            "border": null,
            "bottom": null,
            "display": null,
            "flex": null,
            "flex_flow": null,
            "grid_area": null,
            "grid_auto_columns": null,
            "grid_auto_flow": null,
            "grid_auto_rows": null,
            "grid_column": null,
            "grid_gap": null,
            "grid_row": null,
            "grid_template_areas": null,
            "grid_template_columns": null,
            "grid_template_rows": null,
            "height": null,
            "justify_content": null,
            "justify_items": null,
            "left": null,
            "margin": null,
            "max_height": null,
            "max_width": null,
            "min_height": null,
            "min_width": null,
            "object_fit": null,
            "object_position": null,
            "order": null,
            "overflow": null,
            "overflow_x": null,
            "overflow_y": null,
            "padding": null,
            "right": null,
            "top": null,
            "visibility": null,
            "width": null
          }
        },
        "e24484eeef5a4a8d8c72aef6cefdf6c1": {
          "model_module": "@jupyter-widgets/controls",
          "model_name": "DescriptionStyleModel",
          "model_module_version": "1.5.0",
          "state": {
            "_model_module": "@jupyter-widgets/controls",
            "_model_module_version": "1.5.0",
            "_model_name": "DescriptionStyleModel",
            "_view_count": null,
            "_view_module": "@jupyter-widgets/base",
            "_view_module_version": "1.2.0",
            "_view_name": "StyleView",
            "description_width": ""
          }
        },
        "a7f962a8d8f94979869f04ecefb9f27c": {
          "model_module": "@jupyter-widgets/base",
          "model_name": "LayoutModel",
          "model_module_version": "1.2.0",
          "state": {
            "_model_module": "@jupyter-widgets/base",
            "_model_module_version": "1.2.0",
            "_model_name": "LayoutModel",
            "_view_count": null,
            "_view_module": "@jupyter-widgets/base",
            "_view_module_version": "1.2.0",
            "_view_name": "LayoutView",
            "align_content": null,
            "align_items": null,
            "align_self": null,
            "border": null,
            "bottom": null,
            "display": null,
            "flex": null,
            "flex_flow": null,
            "grid_area": null,
            "grid_auto_columns": null,
            "grid_auto_flow": null,
            "grid_auto_rows": null,
            "grid_column": null,
            "grid_gap": null,
            "grid_row": null,
            "grid_template_areas": null,
            "grid_template_columns": null,
            "grid_template_rows": null,
            "height": null,
            "justify_content": null,
            "justify_items": null,
            "left": null,
            "margin": null,
            "max_height": null,
            "max_width": null,
            "min_height": null,
            "min_width": null,
            "object_fit": null,
            "object_position": null,
            "order": null,
            "overflow": null,
            "overflow_x": null,
            "overflow_y": null,
            "padding": null,
            "right": null,
            "top": null,
            "visibility": null,
            "width": null
          }
        },
        "ea68974f2647408b90c71dcacbc7eaf1": {
          "model_module": "@jupyter-widgets/controls",
          "model_name": "ProgressStyleModel",
          "model_module_version": "1.5.0",
          "state": {
            "_model_module": "@jupyter-widgets/controls",
            "_model_module_version": "1.5.0",
            "_model_name": "ProgressStyleModel",
            "_view_count": null,
            "_view_module": "@jupyter-widgets/base",
            "_view_module_version": "1.2.0",
            "_view_name": "StyleView",
            "bar_color": null,
            "description_width": ""
          }
        },
        "2727abe632be4441b205787f1874a6e0": {
          "model_module": "@jupyter-widgets/base",
          "model_name": "LayoutModel",
          "model_module_version": "1.2.0",
          "state": {
            "_model_module": "@jupyter-widgets/base",
            "_model_module_version": "1.2.0",
            "_model_name": "LayoutModel",
            "_view_count": null,
            "_view_module": "@jupyter-widgets/base",
            "_view_module_version": "1.2.0",
            "_view_name": "LayoutView",
            "align_content": null,
            "align_items": null,
            "align_self": null,
            "border": null,
            "bottom": null,
            "display": null,
            "flex": null,
            "flex_flow": null,
            "grid_area": null,
            "grid_auto_columns": null,
            "grid_auto_flow": null,
            "grid_auto_rows": null,
            "grid_column": null,
            "grid_gap": null,
            "grid_row": null,
            "grid_template_areas": null,
            "grid_template_columns": null,
            "grid_template_rows": null,
            "height": null,
            "justify_content": null,
            "justify_items": null,
            "left": null,
            "margin": null,
            "max_height": null,
            "max_width": null,
            "min_height": null,
            "min_width": null,
            "object_fit": null,
            "object_position": null,
            "order": null,
            "overflow": null,
            "overflow_x": null,
            "overflow_y": null,
            "padding": null,
            "right": null,
            "top": null,
            "visibility": null,
            "width": null
          }
        },
        "1c6bf23f8a83481fbe62fda8d37834bf": {
          "model_module": "@jupyter-widgets/controls",
          "model_name": "DescriptionStyleModel",
          "model_module_version": "1.5.0",
          "state": {
            "_model_module": "@jupyter-widgets/controls",
            "_model_module_version": "1.5.0",
            "_model_name": "DescriptionStyleModel",
            "_view_count": null,
            "_view_module": "@jupyter-widgets/base",
            "_view_module_version": "1.2.0",
            "_view_name": "StyleView",
            "description_width": ""
          }
        }
      }
    }
  },
  "cells": [
    {
      "cell_type": "markdown",
      "metadata": {
        "id": "view-in-github",
        "colab_type": "text"
      },
      "source": [
        "<a href=\"https://colab.research.google.com/github/ValentinCord/HandsOnAI_2/blob/main/NLP_TP2.ipynb\" target=\"_parent\"><img src=\"https://colab.research.google.com/assets/colab-badge.svg\" alt=\"Open In Colab\"/></a>"
      ]
    },
    {
      "cell_type": "code",
      "source": [
        "!rm -rf sample_data"
      ],
      "metadata": {
        "id": "9NBGroUDYfTn"
      },
      "execution_count": 1,
      "outputs": []
    },
    {
      "cell_type": "code",
      "source": [
        "from google.colab import drive\n",
        "drive.mount('/content/drive', force_remount = True)"
      ],
      "metadata": {
        "id": "w844LGUkpjC7",
        "outputId": "d34fd5ff-112b-4c94-9c0e-45fb4caa6aa0",
        "colab": {
          "base_uri": "https://localhost:8080/"
        }
      },
      "execution_count": 2,
      "outputs": [
        {
          "output_type": "stream",
          "name": "stdout",
          "text": [
            "Mounted at /content/drive\n"
          ]
        }
      ]
    },
    {
      "cell_type": "markdown",
      "source": [
        "## **Installation de librairies**"
      ],
      "metadata": {
        "id": "CxSQeTSAx9nA"
      }
    },
    {
      "cell_type": "code",
      "source": [
        "!pip install transformers\n",
        "!pip install datasets"
      ],
      "metadata": {
        "id": "UL3K32_vyATT"
      },
      "execution_count": null,
      "outputs": []
    },
    {
      "cell_type": "code",
      "source": [
        "import os\n",
        "import numpy as np\n",
        "np.set_printoptions(edgeitems = 3,\n",
        "                    infstr = 'inf',\n",
        "                    linewidth = 150, \n",
        "                    nanstr = 'nan', precision = 3, \n",
        "                    suppress = False, \n",
        "                    threshold = 1000, \n",
        "                    formatter = None)"
      ],
      "metadata": {
        "id": "Y1JcFys6t1QK"
      },
      "execution_count": null,
      "outputs": []
    },
    {
      "cell_type": "markdown",
      "source": [
        "# **1. Chargement des bases de données**"
      ],
      "metadata": {
        "id": "b-Fj2VOarnz6"
      }
    },
    {
      "cell_type": "markdown",
      "source": [
        "## 1.1. Sklearn sur le jeu de données 20newsgroup\n",
        "\n",
        "Commençons par importer le jeu de données 20newsgroup (https://scikit-learn.org/0.19/datasets/twenty_newsgroups.html). Ce jeu de données contient 18 000 news sur 20 thématiques différentes. Il est également divisé en deux sous-ensembles: le *training set*, pour entrainer un modèle, et le *test set* pour évaluer le modèle entrainé.\n",
        "\n",
        "Dans le bloc de code suivant, nous importons le *training set* (subset='train'). Nous précisons également que les données de cet ensemble doivent être mélangées (shuffle=True). La variable *random_state* permet de fixer la *seed* des opérations aléatoires, ce qui garantit d'obtenir le même résultat à chaque exécution."
      ],
      "metadata": {
        "id": "STxUq5bksF9u"
      }
    },
    {
      "cell_type": "code",
      "source": [
        "from sklearn.datasets import fetch_20newsgroups\n",
        "\n",
        "news_ds_train = fetch_20newsgroups(subset = 'train', shuffle = True, random_state = 42)"
      ],
      "metadata": {
        "id": "sTVPXmYNvC3N"
      },
      "execution_count": 4,
      "outputs": []
    },
    {
      "cell_type": "markdown",
      "source": [
        "Dans le bloc de code suivant, plusieurs éléments sont affichés :\n",
        "* La liste des topics abordés dans le jeu de données\n",
        "* Le nombre de news \n",
        "* Le contenu de la 1ère news\n",
        "* Le topic de la 1ère news"
      ],
      "metadata": {
        "id": "sLKHZqN1vI0_"
      }
    },
    {
      "cell_type": "code",
      "source": [
        "print(\"Liste des topics\")\n",
        "print(news_ds_train.target_names)\n",
        "print(\"\\nNombre de news\")\n",
        "print(len(news_ds_train.data))\n",
        "print(\"\\nAffichage de la 1ère news\")\n",
        "print(news_ds_train.data[0])\n",
        "print(\"\\nTopic de la 1ère news\")\n",
        "print(news_ds_train.target_names[news_ds_train.target[0]])"
      ],
      "metadata": {
        "id": "fzWrEwDbvnA0",
        "outputId": "6a68ceea-be81-4471-a0e4-8a34ac8fd339",
        "colab": {
          "base_uri": "https://localhost:8080/"
        }
      },
      "execution_count": 8,
      "outputs": [
        {
          "output_type": "stream",
          "name": "stdout",
          "text": [
            "Liste des topics\n",
            "['alt.atheism', 'comp.graphics', 'comp.os.ms-windows.misc', 'comp.sys.ibm.pc.hardware', 'comp.sys.mac.hardware', 'comp.windows.x', 'misc.forsale', 'rec.autos', 'rec.motorcycles', 'rec.sport.baseball', 'rec.sport.hockey', 'sci.crypt', 'sci.electronics', 'sci.med', 'sci.space', 'soc.religion.christian', 'talk.politics.guns', 'talk.politics.mideast', 'talk.politics.misc', 'talk.religion.misc']\n",
            "\n",
            "Nombre de news\n",
            "11314\n",
            "\n",
            "Affichage de la 1ère news\n",
            "From: lerxst@wam.umd.edu (where's my thing)\n",
            "Subject: WHAT car is this!?\n",
            "Nntp-Posting-Host: rac3.wam.umd.edu\n",
            "Organization: University of Maryland, College Park\n",
            "Lines: 15\n",
            "\n",
            " I was wondering if anyone out there could enlighten me on this car I saw\n",
            "the other day. It was a 2-door sports car, looked to be from the late 60s/\n",
            "early 70s. It was called a Bricklin. The doors were really small. In addition,\n",
            "the front bumper was separate from the rest of the body. This is \n",
            "all I know. If anyone can tellme a model name, engine specs, years\n",
            "of production, where this car is made, history, or whatever info you\n",
            "have on this funky looking car, please e-mail.\n",
            "\n",
            "Thanks,\n",
            "- IL\n",
            "   ---- brought to you by your neighborhood Lerxst ----\n",
            "\n",
            "\n",
            "\n",
            "\n",
            "\n",
            "\n",
            "Topic de la 1ère news\n",
            "rec.autos\n"
          ]
        }
      ]
    },
    {
      "cell_type": "markdown",
      "source": [
        "Si nous ne souhaitons pas travailler avec tous les topics, il est possible de déterminer dès le chargement du jeu de données les catégories que l'on souhaite utiliser."
      ],
      "metadata": {
        "id": "aPwasbpRv3Ys"
      }
    },
    {
      "cell_type": "code",
      "source": [
        "categories = ['alt.atheism', 'soc.religion.christian','comp.graphics', 'sci.med']\n",
        "news_ds_train = fetch_20newsgroups(subset='train', categories=categories, shuffle=True, random_state=42)\n",
        "print(news_ds_train.target_names)"
      ],
      "metadata": {
        "id": "C0tDMwpkwH92"
      },
      "execution_count": null,
      "outputs": []
    },
    {
      "cell_type": "markdown",
      "source": [
        "## 1.2. Huggingface sur le jeu de données 20newsgroup\n",
        "\n",
        "Le chargement du jeu de données avec Huggingface est très similaire à celui de sklearn, à quelques détails près. Le bloc de code suivant vous montre comment procéder avec Huggingface pour obtenir les mêmes résultats qu'avec sklearn."
      ],
      "metadata": {
        "id": "_j7z_05wxvVS"
      }
    },
    {
      "cell_type": "code",
      "source": [
        "from datasets import load_dataset\n",
        "\n",
        "hugging_news_train = load_dataset('SetFit/20_newsgroups', split = 'train')\n",
        "categories = ['alt.atheism', 'soc.religion.christian','comp.graphics', 'sci.med']\n",
        "hugging_news_train = hugging_news_train.filter(lambda row: row['label_text'] in categories)\n",
        "\n",
        "print(\"Nombre de news\")\n",
        "print(len(hugging_news_train))\n",
        "print(\"\\nAffichage de la 1ère news\")\n",
        "print(hugging_news_train[0])\n",
        "print(\"\\nTopic de la 1ère news\")\n",
        "print(hugging_news_train[0]['label_text'])"
      ],
      "metadata": {
        "id": "NFkAKMrL5F1v"
      },
      "execution_count": null,
      "outputs": []
    },
    {
      "cell_type": "markdown",
      "source": [
        "# **2. Classification de textes**"
      ],
      "metadata": {
        "id": "PWGDx4pc5ffa"
      }
    },
    {
      "cell_type": "markdown",
      "source": [
        "## 2.1. Classification avec sklearn\n",
        "Dans cette section, nous allons entrainer un modèle pour classifier les news du jeu de données 20newsgroup avec la librairie sklearn.\n",
        "\n",
        "Dans le bloc de code suivant, commencez par importer le jeu de données comme nous l'avons vu au point 1.1. Conservez les topics suivants : \n",
        "* alt.atheism\n",
        "* comp.graphics\n",
        "* rec.motorcycles\n",
        "* sci.crypt\n",
        "* sci.med\n",
        "\n",
        "Ne mélangez pas les news du *test set*."
      ],
      "metadata": {
        "id": "06cE5KD76oA4"
      }
    },
    {
      "cell_type": "markdown",
      "source": [
        "Sur base de ce que nous avons fait la semaine passée, comptez le nombre d'occurence des mots dans le corpus que nous venons de créer (ce corpus correspond à la variable *news_ds_train.data*).\n",
        "\n",
        "Vectorisez ensuite ce corpus avec TF-IDF. Enregistrez ces features du corpus dans la variable *corpus_X*."
      ],
      "metadata": {
        "id": "3w0pg7Ww8A8O"
      }
    },
    {
      "cell_type": "code",
      "source": [
        "categories = ['alt.atheism', 'comp.graphics', 'rec.motorcycles', 'sci.crypt','sci.med']\n",
        "news_ds_train = fetch_20newsgroups(subset = 'train', categories = categories, shuffle = True, random_state = 42)\n",
        "print(news_ds_train.target_names)\n",
        "\n",
        "categories = ['alt.atheism', 'comp.graphics', 'rec.motorcycles', 'sci.crypt','sci.med']\n",
        "news_ds_test = fetch_20newsgroups(subset = 'test', categories = categories, shuffle = True, random_state = 42)"
      ],
      "metadata": {
        "id": "HdnT7qaS8Mbx",
        "outputId": "99c8b13f-44fa-409d-be1f-e7318a9d3bbf",
        "colab": {
          "base_uri": "https://localhost:8080/"
        }
      },
      "execution_count": 28,
      "outputs": [
        {
          "output_type": "stream",
          "name": "stdout",
          "text": [
            "['alt.atheism', 'comp.graphics', 'rec.motorcycles', 'sci.crypt', 'sci.med']\n"
          ]
        }
      ]
    },
    {
      "cell_type": "code",
      "source": [
        "import sklearn.feature_extraction.text as skl_text\n",
        "\n",
        "vectorizer = skl_text.TfidfVectorizer()\n",
        "corpus_X = vectorizer.fit_transform(news_ds_train.data).toarray()\n",
        "\n",
        "from sklearn.model_selection import train_test_split\n",
        "\n",
        "X_train, X_test, y_train, y_test = train_test_split(corpus_X, news_ds_train.target, test_size = 0.25, random_state = 0)\n",
        "\n",
        "print(vectorizer.get_feature_names_out())\n",
        "print(len(vectorizer.get_feature_names_out()))"
      ],
      "metadata": {
        "id": "97jEmLS2GH3Y",
        "outputId": "c84353b1-f80e-4d2d-e21f-6fa17d3958b1",
        "colab": {
          "base_uri": "https://localhost:8080/"
        }
      },
      "execution_count": 34,
      "outputs": [
        {
          "output_type": "stream",
          "name": "stdout",
          "text": [
            "['00' '000' '0000' ... 'érale' 'ête' 'íålittin']\n",
            "42672\n"
          ]
        }
      ]
    },
    {
      "cell_type": "markdown",
      "source": [
        "Nous allons maintenant entrainer un modèle appelé *Multinomial Naive Bayes* sur ce corpus. Les labels du corpus se trouvent dans la variable *news_ds_train.target*."
      ],
      "metadata": {
        "id": "WurEGc0h9bNA"
      }
    },
    {
      "cell_type": "code",
      "source": [
        "from sklearn.naive_bayes import MultinomialNB\n",
        "clf_sklearn = MultinomialNB().fit(X_train, y_train)"
      ],
      "metadata": {
        "id": "5sqTNejE9u7Z"
      },
      "execution_count": 35,
      "outputs": []
    },
    {
      "cell_type": "markdown",
      "source": [
        "Dans le bloc de code suivant, nous utilisons notre modèle entrainé sur des phrases pré-sélectionnées. Est-ce que votre modèle semble performant par rapport aux thématiques choisies ?"
      ],
      "metadata": {
        "id": "X7fgDcGc-R0j"
      }
    },
    {
      "cell_type": "code",
      "source": [
        "docs_new = ['Your post is based on the premise that the laws as they stand do not discriminate anybody', 'OpenGL on the GPU is fast']\n",
        "\n",
        "# Vectorisez avec TF-IDF ces phrases\n",
        "X_new_tfidf = vectorizer.fit_transform(docs_new)\n",
        "\n",
        "predicted = clf_sklearn.predict(corpus_X)\n",
        "\n",
        "for doc, category in zip(docs_new, predicted):\n",
        "    print('%r => %s' % (doc, news_ds_train.target_names[category]))"
      ],
      "metadata": {
        "id": "0A6Kjm-2-Yar",
        "outputId": "0764d9c4-a088-4b13-ee6a-8e7d81033b5f",
        "colab": {
          "base_uri": "https://localhost:8080/"
        }
      },
      "execution_count": 27,
      "outputs": [
        {
          "output_type": "stream",
          "name": "stdout",
          "text": [
            "'Your post is based on the premise that the laws as they stand do not discriminate anybody' => sci.med\n",
            "'OpenGL on the GPU is fast' => comp.graphics\n"
          ]
        }
      ]
    },
    {
      "cell_type": "markdown",
      "source": [
        "## 2.2. Classification avec les transformers de Huggingface"
      ],
      "metadata": {
        "id": "N9j06HpC_SSr"
      }
    },
    {
      "cell_type": "markdown",
      "source": [
        "Dans cette section, nous vous proposons d'entrainer un modèle pour classifier les news du jeu de données 20newsgroup avec la librairie transformer de Huggingface.\n",
        "\n",
        "Nous vous suggérons d'explorer l'utilisation de cette librairie sur base du lien suivant : https://huggingface.co/docs/transformers/tasks/sequence_classification "
      ],
      "metadata": {
        "id": "12gn4wbi_a70"
      }
    },
    {
      "cell_type": "code",
      "source": [
        "# Votre code ici"
      ],
      "metadata": {
        "id": "ONPAZoeimQv4"
      },
      "execution_count": null,
      "outputs": []
    },
    {
      "cell_type": "markdown",
      "source": [
        "# 3. Métriques de classification"
      ],
      "metadata": {
        "id": "YpsL7UP4MfN4"
      }
    },
    {
      "cell_type": "markdown",
      "source": [
        "## 3.1. Métriques de la classification avec sklearn\n",
        "\n",
        "Dans la section 2.1, nous avons entrainé un modèle de classification avec sklearn. Nous allons maintenant voir comment mesurer ses performances.\n",
        "\n",
        "Dans le bloc de code suivant, nous utilisons notre modèle sur le corpus d'entrainement afin de déterminer ses prédictions pour chaque news d'entrainement. Nous utilisons ensuite la fonction *classification_report* pour mesurer différentes métriques sur le modèle."
      ],
      "metadata": {
        "id": "47SmNfkWMjtW"
      }
    },
    {
      "cell_type": "code",
      "source": [
        "predicted = clf_sklearn.predict(corpus_X)\n",
        "\n",
        "from sklearn import metrics\n",
        "print(metrics.classification_report(news_ds_train.target, predicted, target_names = news_ds_train.target_names))"
      ],
      "metadata": {
        "id": "mP6zGb72Mxxx",
        "outputId": "17964e51-e244-43b0-ed89-2877a07542a1",
        "colab": {
          "base_uri": "https://localhost:8080/"
        }
      },
      "execution_count": 36,
      "outputs": [
        {
          "output_type": "stream",
          "name": "stdout",
          "text": [
            "                 precision    recall  f1-score   support\n",
            "\n",
            "    alt.atheism       1.00      0.99      1.00       480\n",
            "  comp.graphics       0.99      0.96      0.97       584\n",
            "rec.motorcycles       1.00      0.99      0.99       598\n",
            "      sci.crypt       0.94      0.99      0.97       595\n",
            "        sci.med       0.99      0.98      0.99       594\n",
            "\n",
            "       accuracy                           0.98      2851\n",
            "      macro avg       0.98      0.98      0.98      2851\n",
            "   weighted avg       0.98      0.98      0.98      2851\n",
            "\n"
          ]
        }
      ]
    },
    {
      "cell_type": "markdown",
      "source": [
        "En pratique, pour comparer des modèles entrainés, nous les évaluons sur le *test set*. Evaluez le modèle entrainé avec sklearn sur notre test set."
      ],
      "metadata": {
        "id": "Ww1EP5piNzMv"
      }
    },
    {
      "cell_type": "code",
      "source": [
        "predicted = clf_sklearn.predict(X_test)\n",
        "\n",
        "from sklearn import metrics\n",
        "print(metrics.classification_report(y_test, predicted, target_names = news_ds_test.target_names))"
      ],
      "metadata": {
        "id": "ngjNFhdbN-Nf",
        "outputId": "35cff8f5-e5ec-443c-b9df-25728725cd39",
        "colab": {
          "base_uri": "https://localhost:8080/"
        }
      },
      "execution_count": 39,
      "outputs": [
        {
          "output_type": "stream",
          "name": "stdout",
          "text": [
            "                 precision    recall  f1-score   support\n",
            "\n",
            "    alt.atheism       1.00      0.99      1.00       121\n",
            "  comp.graphics       0.97      0.90      0.93       143\n",
            "rec.motorcycles       0.99      0.97      0.98       159\n",
            "      sci.crypt       0.88      0.99      0.93       143\n",
            "        sci.med       0.99      0.97      0.98       147\n",
            "\n",
            "       accuracy                           0.96       713\n",
            "      macro avg       0.97      0.96      0.96       713\n",
            "   weighted avg       0.96      0.96      0.96       713\n",
            "\n"
          ]
        }
      ]
    },
    {
      "cell_type": "markdown",
      "source": [
        "Essayez maintenant d'entrainer un modèle MLPClassifier de sklearn. Aidez-vous de la procédure complète de l'entrainement effectué pour sklearn et comparez votre modèle à celui entrainé précédement."
      ],
      "metadata": {
        "id": "i05CuLrcQf0T"
      }
    },
    {
      "cell_type": "code",
      "source": [
        "from sklearn.neural_network import MLPClassifier\n",
        "\n",
        "# Chargez les datasets en conservant les mêmes catégories\n",
        "# Votre code ici\n",
        "\n",
        "# Utilisez TF-IDF pour convertir les données\n",
        "# Votre code ici\n",
        "\n",
        "# Initializez le MLPClassifier et entrainez-le\n",
        "# Votre code ici\n",
        "\n",
        "# Evaluez le modèle sur le training set\n",
        "# Votre code ici\n",
        "\n",
        "# Evaluez le modèle sur le test set\n",
        "# Votre code ici"
      ],
      "metadata": {
        "id": "_Ev8h20WQszW"
      },
      "execution_count": null,
      "outputs": []
    },
    {
      "cell_type": "markdown",
      "source": [
        "# 4. Modèles de langage"
      ],
      "metadata": {
        "id": "eRIPCS8JSQP-"
      }
    },
    {
      "cell_type": "markdown",
      "source": [
        "Dans cette section, nous allons travailler avec les modèles de langage et voir différentes tâches sur lesquelles ils peuvent être utilisées."
      ],
      "metadata": {
        "id": "lc7l9QzKSThn"
      }
    },
    {
      "cell_type": "code",
      "source": [
        "# Ce bloc charge des librairies qui seront utilisées dans la suite de cette section\n",
        "from transformers import AutoModelForCausalLM, AutoTokenizer, top_k_top_p_filtering\n",
        "import torch\n",
        "from torch import nn\n",
        "from transformers import GPT2LMHeadModel, GPT2TokenizerFast\n",
        "from tqdm import tqdm"
      ],
      "metadata": {
        "id": "jqL3w26mSl_f"
      },
      "execution_count": 40,
      "outputs": []
    },
    {
      "cell_type": "markdown",
      "source": [
        "## 4.1. Prédire la suite d'une phrase\n",
        "\n",
        "Un modèle de language peut être utilisé pour prédire le prochain mot d'une phrase. Pour ce faire nous utiliserons l'identifiant 'distilgpt2' et des modèles basés sur GPT-2 (voir bloc de code ci-dessous)."
      ],
      "metadata": {
        "id": "TwbS8bUdaNYO"
      }
    },
    {
      "cell_type": "code",
      "source": [
        "model_id = 'distilgpt2'\n",
        "model = GPT2LMHeadModel.from_pretrained(model_id)\n",
        "tokenizer = GPT2TokenizerFast.from_pretrained(model_id)"
      ],
      "metadata": {
        "id": "gCt4rOooSodn"
      },
      "execution_count": null,
      "outputs": []
    },
    {
      "cell_type": "markdown",
      "source": [
        "Le bloc de code suivant vous montre comment utiliser ces modèles pour générer la suite d'une phrase. Essayez différentes phrases et différents nombres de mots à générer. \n",
        "\n",
        "En cherchant en ligne les différentes fonctions utilisées dans ce bout de code, essayez de comprendre ce qui y est fait."
      ],
      "metadata": {
        "id": "NGOY8-4oajup"
      }
    },
    {
      "cell_type": "code",
      "source": [
        "sentence = \"The human reads a\"\n",
        "encodings = tokenizer(sentence, return_tensors='pt')\n",
        "print(encodings)\n",
        "\n",
        "words_to_generate = 5 # Nombre de mots à générer à la suite de la phrase d'exemple\n",
        "\n",
        "for i in tqdm(range(words_to_generate)):\n",
        "  with torch.no_grad():\n",
        "    encodings.input_ids = encodings.input_ids\n",
        "    output = model(encodings.input_ids).logits[:, -1, :]\n",
        "    # filter\n",
        "    filtered_next_token_logits = top_k_top_p_filtering(output, top_k=50, top_p=1.0)\n",
        "\n",
        "    # sample\n",
        "    probs = nn.functional.softmax(filtered_next_token_logits, dim=-1)\n",
        "    next_token = torch.multinomial(probs, num_samples=1)\n",
        "    encodings.input_ids = torch.cat((encodings.input_ids, next_token), dim=-1)\n",
        "    encodings.attention_mask = torch.cat((encodings.attention_mask, torch.tensor([[1]])), dim=-1)\n",
        "\n",
        "\n",
        "resulting_string = tokenizer.decode(encodings.input_ids.tolist()[0])\n",
        "print()\n",
        "print(resulting_string)"
      ],
      "metadata": {
        "id": "6hMqg23vSyxj",
        "outputId": "ba77bdbb-4818-4699-f807-68d83c16b13b",
        "colab": {
          "base_uri": "https://localhost:8080/"
        }
      },
      "execution_count": 46,
      "outputs": [
        {
          "output_type": "stream",
          "name": "stdout",
          "text": [
            "{'input_ids': tensor([[ 464, 1692, 9743,  257]]), 'attention_mask': tensor([[1, 1, 1, 1]])}\n"
          ]
        },
        {
          "output_type": "stream",
          "name": "stderr",
          "text": [
            "100%|██████████| 5/5 [00:00<00:00,  8.97it/s]"
          ]
        },
        {
          "output_type": "stream",
          "name": "stdout",
          "text": [
            "\n",
            "The human reads a paragraph or two or more\n"
          ]
        },
        {
          "output_type": "stream",
          "name": "stderr",
          "text": [
            "\n"
          ]
        }
      ]
    },
    {
      "cell_type": "markdown",
      "source": [
        "## 4.2. Fill-mask\n",
        "\n",
        "Dans cette tâche, un mot de la phrase est manquante (marquée par le token [MASK]). Un modèle de langage peut être utilisé pour calculer le mot le plus probable de la phrase."
      ],
      "metadata": {
        "id": "61QByxvKb0JQ"
      }
    },
    {
      "cell_type": "code",
      "source": [
        "from transformers import pipeline\n",
        "\n",
        "lm_unmasker = pipeline('fill-mask', model='distilbert-base-uncased')\n",
        "lm_unmasker(\"The human reads a [MASK]\")"
      ],
      "metadata": {
        "id": "8cScT9NRUkh6",
        "outputId": "16a6df74-fd31-4be4-89c6-038a60997bb5",
        "colab": {
          "base_uri": "https://localhost:8080/",
          "height": 524,
          "referenced_widgets": [
            "4b9ea76c417f4d64ac57f28fd696f700",
            "f0c22638a39c430a88b752b884a52864",
            "3fdcc7453b894677a016057e980cd616",
            "16abee76e47742ea87a42f64d67859c0",
            "ead2c56ac97649569225a7001d04bb3f",
            "6451d43089d84ab7bd8ea5efb0a3e072",
            "66c03f4bc610471cbedb365268a8a24c",
            "14dfe65299494e879db0103274b52583",
            "ecf26e07261f4216b530b16203d305d9",
            "fafa7c5e24b8417e8a894eb8591c6235",
            "65460448ec874a01b9f4f3edb49f51e3",
            "f5c91c11c2b54fffb5fefe58df005358",
            "00ecb10a5af9495c9137b514ba8f63cb",
            "597193305b7d4f018005ab2fbc5ff949",
            "291757ff34a94b5f8e69c78d48ad060e",
            "a9bf41ad5bb145a1abeedb57e01601c5",
            "568d12d1587448f5b0708946e6dc053e",
            "f09f3faa213d48058929863543dd029b",
            "0cf3119e6ba5442fa174243122097e90",
            "e010fff1c7fb4f27b271cacf4cb19205",
            "95d3289f295340919f7bbb0097265a18",
            "ad41c0219bde4e428240688d98bfdf4e",
            "a8cb20fa915e4e0ba7b7793f6fcbd035",
            "85b432763fd24a1c935a0cb8e93c1237",
            "da8261b0fd4d40b084a1270097bc9809",
            "6f901ec827f64359beb5cdfd472d6ab8",
            "be4f16f9817a49b7a640bd03eae3b89b",
            "58782ab95a8e46eb96b32b84a093abc0",
            "1c80c32c1d394d73901ab9f57ab47ad8",
            "4920e29e9f3746f5a63647ac8bb13ec0",
            "d73f6111faab44bd96877716077d7143",
            "ee76269441604e9fa2eb748fb9491c14",
            "5796499297a440348d976f244ad59c1a",
            "243c2a5ae94642a0ad1ac49290813ec5",
            "59e8ddd5016f4fe1a07ff401697b9dd8",
            "447ccbba1e3f42538512023e374d3b05",
            "68f1d667238847a5af4b9fe15ada96bd",
            "0efc53387ddc494a9ace83bac496d4d8",
            "d87d7a3f4e294bd18fed4511b9c37d3e",
            "97cf56ce8f8b48fdb7ca617f7c3ef70a",
            "7170dd3fef644bb5b4bebc4921444fb5",
            "0fcb54eb23794afca5303bd26c306bd4",
            "e348567bed514e45a0187c37777e1546",
            "aaf9e787729a4843a7a81a1cc5420eb7",
            "1c4c2a35b5b74924be416de2b7b8fe0f",
            "debfa4edf3014b1e9862dd9dac0fc7bb",
            "48ae4192a48b4dc7bc26a6e52f1757f7",
            "71d3c2682eca418eb825391c63943ce7",
            "793b70ce1a274b2eb8ca4cd2bcffbf88",
            "a46021b9133f44af85a76cf256b53969",
            "e24484eeef5a4a8d8c72aef6cefdf6c1",
            "a7f962a8d8f94979869f04ecefb9f27c",
            "ea68974f2647408b90c71dcacbc7eaf1",
            "2727abe632be4441b205787f1874a6e0",
            "1c6bf23f8a83481fbe62fda8d37834bf"
          ]
        }
      },
      "execution_count": 47,
      "outputs": [
        {
          "output_type": "display_data",
          "data": {
            "text/plain": [
              "Downloading:   0%|          | 0.00/483 [00:00<?, ?B/s]"
            ],
            "application/vnd.jupyter.widget-view+json": {
              "version_major": 2,
              "version_minor": 0,
              "model_id": "4b9ea76c417f4d64ac57f28fd696f700"
            }
          },
          "metadata": {}
        },
        {
          "output_type": "display_data",
          "data": {
            "text/plain": [
              "Downloading:   0%|          | 0.00/268M [00:00<?, ?B/s]"
            ],
            "application/vnd.jupyter.widget-view+json": {
              "version_major": 2,
              "version_minor": 0,
              "model_id": "f5c91c11c2b54fffb5fefe58df005358"
            }
          },
          "metadata": {}
        },
        {
          "output_type": "display_data",
          "data": {
            "text/plain": [
              "Downloading:   0%|          | 0.00/28.0 [00:00<?, ?B/s]"
            ],
            "application/vnd.jupyter.widget-view+json": {
              "version_major": 2,
              "version_minor": 0,
              "model_id": "a8cb20fa915e4e0ba7b7793f6fcbd035"
            }
          },
          "metadata": {}
        },
        {
          "output_type": "display_data",
          "data": {
            "text/plain": [
              "Downloading:   0%|          | 0.00/232k [00:00<?, ?B/s]"
            ],
            "application/vnd.jupyter.widget-view+json": {
              "version_major": 2,
              "version_minor": 0,
              "model_id": "243c2a5ae94642a0ad1ac49290813ec5"
            }
          },
          "metadata": {}
        },
        {
          "output_type": "display_data",
          "data": {
            "text/plain": [
              "Downloading:   0%|          | 0.00/466k [00:00<?, ?B/s]"
            ],
            "application/vnd.jupyter.widget-view+json": {
              "version_major": 2,
              "version_minor": 0,
              "model_id": "1c4c2a35b5b74924be416de2b7b8fe0f"
            }
          },
          "metadata": {}
        },
        {
          "output_type": "execute_result",
          "data": {
            "text/plain": [
              "[{'score': 0.32789847254753113,\n",
              "  'token': 1012,\n",
              "  'token_str': '.',\n",
              "  'sequence': 'the human reads a.'},\n",
              " {'score': 0.06196603178977966,\n",
              "  'token': 5961,\n",
              "  'token_str': 'poem',\n",
              "  'sequence': 'the human reads a poem'},\n",
              " {'score': 0.033230192959308624,\n",
              "  'token': 1024,\n",
              "  'token_str': ':',\n",
              "  'sequence': 'the human reads a :'},\n",
              " {'score': 0.03241956606507301,\n",
              "  'token': 999,\n",
              "  'token_str': '!',\n",
              "  'sequence': 'the human reads a!'},\n",
              " {'score': 0.02792378142476082,\n",
              "  'token': 3661,\n",
              "  'token_str': 'letter',\n",
              "  'sequence': 'the human reads a letter'}]"
            ]
          },
          "metadata": {},
          "execution_count": 47
        }
      ]
    },
    {
      "cell_type": "markdown",
      "source": [
        "Le mot manquant ne doit pas toujours être situé en fin de phrase :"
      ],
      "metadata": {
        "id": "GJ3buFzDci7l"
      }
    },
    {
      "cell_type": "code",
      "source": [
        "lm_unmasker(\"Paris is the [MASK] of France.\")"
      ],
      "metadata": {
        "id": "CscG6hJWV9Qa",
        "outputId": "0d021aa5-c77e-4227-d127-3d3c86b96189",
        "colab": {
          "base_uri": "https://localhost:8080/"
        }
      },
      "execution_count": 48,
      "outputs": [
        {
          "output_type": "execute_result",
          "data": {
            "text/plain": [
              "[{'score': 0.9815465807914734,\n",
              "  'token': 3007,\n",
              "  'token_str': 'capital',\n",
              "  'sequence': 'paris is the capital of france.'},\n",
              " {'score': 0.0033424370922148228,\n",
              "  'token': 14508,\n",
              "  'token_str': 'birthplace',\n",
              "  'sequence': 'paris is the birthplace of france.'},\n",
              " {'score': 0.0010447038803249598,\n",
              "  'token': 22037,\n",
              "  'token_str': 'northernmost',\n",
              "  'sequence': 'paris is the northernmost of france.'},\n",
              " {'score': 0.001004314050078392,\n",
              "  'token': 2803,\n",
              "  'token_str': 'centre',\n",
              "  'sequence': 'paris is the centre of france.'},\n",
              " {'score': 0.0007803135085850954,\n",
              "  'token': 21787,\n",
              "  'token_str': 'southernmost',\n",
              "  'sequence': 'paris is the southernmost of france.'}]"
            ]
          },
          "metadata": {},
          "execution_count": 48
        }
      ]
    },
    {
      "cell_type": "markdown",
      "source": [
        "## 4.3. Perplexité\n",
        "\n",
        "La perplexité d'un modèle du langage est inversément proportionnelle à la qualité de ce modèle. Une valeur de 1 (au plus petit, au mieux c'est) serait obtenue avec un modèle parfait. Une perplexité de 30 (à titre d'exemple) serait obtenu avec un modèle plutôt hésitant.\n",
        "\n",
        "Le bout de code charge une portion d'une variante du jeu de données 20 newsgroup. Le code qui suit vous montre comment calculer la perplexité de notre modèle du langage."
      ],
      "metadata": {
        "id": "q1Ke41IGYbw3"
      }
    },
    {
      "cell_type": "code",
      "source": [
        "test = load_dataset('newsgroup', 'bydate_alt.atheism', split='test')\n",
        "print('\\n\\n'.join(test['text']))\n",
        "encodings = tokenizer('\\n\\n'.join(test['text'][:10]), return_tensors='pt')\n",
        "print(encodings.input_ids.shape)"
      ],
      "metadata": {
        "id": "hwFWyGM6Yc1r"
      },
      "execution_count": null,
      "outputs": []
    },
    {
      "cell_type": "code",
      "source": [
        "context_length = 256\n",
        "stride = 512\n",
        "\n",
        "nlls = []\n",
        "for i in tqdm(range(0, encodings.input_ids.size(1), stride)):\n",
        "    begin_loc = max(i + stride - context_length, 0)\n",
        "    end_loc = min(i + stride, encodings.input_ids.size(1))\n",
        "    if end_loc <= begin_loc:\n",
        "      break\n",
        "\n",
        "    trg_len = end_loc - i    # may be different from stride on last loop\n",
        "    input_ids = encodings.input_ids[:,begin_loc:end_loc]\n",
        "    target_ids = input_ids.clone()\n",
        "    target_ids[:,:-trg_len] = -100\n",
        "\n",
        "    with torch.no_grad():\n",
        "        outputs = model(input_ids, labels=target_ids)\n",
        "        neg_log_likelihood = outputs[0] * trg_len\n",
        "\n",
        "    nlls.append(neg_log_likelihood)\n",
        "\n",
        "ppl = torch.exp(torch.stack(nlls).sum() / end_loc)\n",
        "print()\n",
        "print(ppl)"
      ],
      "metadata": {
        "id": "3AC8ygOrYjPm",
        "outputId": "c175eb5c-5301-48db-e15e-7a4e65f9f9e2",
        "colab": {
          "base_uri": "https://localhost:8080/"
        }
      },
      "execution_count": 51,
      "outputs": [
        {
          "output_type": "stream",
          "name": "stderr",
          "text": [
            " 93%|█████████▎| 13/14 [00:09<00:00,  1.34it/s]"
          ]
        },
        {
          "output_type": "stream",
          "name": "stdout",
          "text": [
            "\n",
            "tensor(49.3254)\n"
          ]
        },
        {
          "output_type": "stream",
          "name": "stderr",
          "text": [
            "\n"
          ]
        }
      ]
    },
    {
      "cell_type": "markdown",
      "source": [
        "# 5. Data Augmentation"
      ],
      "metadata": {
        "id": "vqrl7i51dbtp"
      }
    },
    {
      "cell_type": "markdown",
      "source": [
        "## 5.1. Augmentation de données avec word2vec\n",
        "\n",
        "Le bout de code suivant prépare le modèle word2vec pour vous."
      ],
      "metadata": {
        "id": "cCuJa3xcdeo5"
      }
    },
    {
      "cell_type": "code",
      "source": [
        "import os\n",
        "import gensim\n",
        "from gensim import downloader\n",
        "# Model loading\n",
        "if os.path.isdir(\"gensim-data\"):\n",
        "  from gensim.models import KeyedVectors\n",
        "  glove_model_en = KeyedVectors.load_word2vec_format(os.path.join('gensim-data', 'glove-wiki-gigaword-50', 'glove-wiki-gigaword-50.gz'))\n",
        "else:\n",
        "  glove_model_en = downloader.load(\"glove-wiki-gigaword-50\")\n",
        "  os.system('cp -R /root/gensim-data ./gensim-data')\n",
        "\n",
        "print(\"Loaded vocab size %i\" % len(glove_model_en.vocab.keys()))\n",
        "\n",
        "model = glove_model_en"
      ],
      "metadata": {
        "id": "VHVqTruDdhjq"
      },
      "execution_count": null,
      "outputs": []
    },
    {
      "cell_type": "markdown",
      "source": [
        "Le script suivant permet de remplacer les mots d'une phrase par les mots les plus similaires à ceux-ci. Observez le résultat. Quels sont les problèmes que l'on rencontre ?"
      ],
      "metadata": {
        "id": "lmbdPJSUdxKT"
      }
    },
    {
      "cell_type": "code",
      "source": [
        "sentence = \"The boy is running on the field\"\n",
        "augmented_sentence = []\n",
        "for w in sentence.lower().split(\" \"):\n",
        "  augmented_sentence.append(model.most_similar(w)[0][0])\n",
        "\n",
        "augmented_sentence = ' '.join(augmented_sentence)\n",
        "print(augmented_sentence)"
      ],
      "metadata": {
        "id": "ykE8eplDd3Z2"
      },
      "execution_count": null,
      "outputs": []
    },
    {
      "cell_type": "markdown",
      "source": [
        "Une solution à ces problèmes est de ne remplacer que certains mots (les noms ou les verbes). Utilisez la librairie spacy (cfr. séance précédente) pour remplacer chaque nom de la phrase par son mot le plus similaire.\n",
        "\n",
        "Par facilité, nous ne tiendrons pas compte des ponctuations."
      ],
      "metadata": {
        "id": "lImTV3HfdiHa"
      }
    },
    {
      "cell_type": "code",
      "source": [
        "# votre code ici"
      ],
      "metadata": {
        "id": "MELjI9SMeCQV"
      },
      "execution_count": null,
      "outputs": []
    },
    {
      "cell_type": "markdown",
      "source": [
        "Faites-en de même, mais en remplaçant les verbes !"
      ],
      "metadata": {
        "id": "Tvqbq3U-gCkq"
      }
    },
    {
      "cell_type": "code",
      "source": [
        "# votre code ici"
      ],
      "metadata": {
        "id": "11W0XqAVgGYN"
      },
      "execution_count": null,
      "outputs": []
    },
    {
      "cell_type": "markdown",
      "source": [
        "Quelles obsevations peut-on faire ?\n",
        "\n",
        "*Votre réponse ici*"
      ],
      "metadata": {
        "id": "6MDq_gq0gNCl"
      }
    },
    {
      "cell_type": "markdown",
      "source": [
        "## 5.2. Augmentation de données avec WordNet\n",
        "\n",
        "WordNet permet de trouver les mots synonymes d'un autre mot. Dans le code suivant, nous vous proposons une fonction utilisant WordNet pour trouver une liste de synonymes pour un mot donné."
      ],
      "metadata": {
        "id": "_y9i8A6NgdTS"
      }
    },
    {
      "cell_type": "code",
      "source": [
        "import nltk\n",
        "nltk.download('wordnet')\n",
        "nltk.download('punkt')\n",
        "nltk.download('omw-1.4')\n",
        "from nltk.corpus import wordnet\n",
        "\n",
        "from collections import OrderedDict\n",
        "from nltk.tokenize import word_tokenize\n",
        "def find_synonyms(word):\n",
        "  synonyms = []\n",
        "  for synset in wordnet.synsets(word):\n",
        "    for syn in synset.lemma_names():\n",
        "      synonyms.append(syn)\n",
        "\n",
        "  # using this to drop duplicates while maintaining word order (closest synonyms comes first)\n",
        "  synonyms_without_duplicates = list(OrderedDict.fromkeys(synonyms))\n",
        "  synonyms_without_duplicates.remove(word) # remove the word if it's in the list\n",
        "  return synonyms_without_duplicates"
      ],
      "metadata": {
        "id": "y_9HgfB_gygO"
      },
      "execution_count": null,
      "outputs": []
    },
    {
      "cell_type": "markdown",
      "source": [
        "Nous pouvons vérifier cette fonction avec le code suivant"
      ],
      "metadata": {
        "id": "4y1cit-Bg5io"
      }
    },
    {
      "cell_type": "code",
      "source": [
        "synonyms = find_synonyms(\"boy\")\n",
        "print(synonyms)"
      ],
      "metadata": {
        "id": "jJprp5UHg8sM"
      },
      "execution_count": null,
      "outputs": []
    },
    {
      "cell_type": "markdown",
      "source": [
        "Proposez maintenant un script similaire à ceux utilisés dans la Section 5.1 en utilisant WordNet pour remplacer les noms de la phrase par un synonyme."
      ],
      "metadata": {
        "id": "iY13IOpRhHm-"
      }
    },
    {
      "cell_type": "code",
      "source": [
        "# votre code ici"
      ],
      "metadata": {
        "id": "9gVOMJwWhVN4"
      },
      "execution_count": null,
      "outputs": []
    },
    {
      "cell_type": "markdown",
      "source": [
        "Quelles obsevations peut-on faire ?\n",
        "\n",
        "*Votre réponse ici*"
      ],
      "metadata": {
        "id": "_OWPO0_Lk6Im"
      }
    },
    {
      "cell_type": "markdown",
      "source": [
        "## 5.3. Augmentation de données avec un modèle de language\n",
        "\n",
        "En remplaçant les noms d'une phrase par le token [MASK], nous pouvons utiliser la tâche fill-mask et un modèle du langage (section 4.2) pour trouver des idées pour créer de nouvelles phrases.\n",
        "\n",
        "Implémentez cette idée dans le bloc de code suivant."
      ],
      "metadata": {
        "id": "bs55hBYVhozH"
      }
    },
    {
      "cell_type": "code",
      "source": [
        "# votre code ici"
      ],
      "metadata": {
        "id": "Fkyr09_ciP5_"
      },
      "execution_count": null,
      "outputs": []
    },
    {
      "cell_type": "markdown",
      "source": [
        "Quelles obsevations peut-on faire ?\n",
        "\n",
        "*Votre réponse ici*"
      ],
      "metadata": {
        "id": "6bbBeiX5k7W8"
      }
    },
    {
      "cell_type": "markdown",
      "source": [
        "## 5.4. Autres méthodes d'augmentation de données pour le NLP\n",
        "\n",
        "D'autres approches sont possibles pour augmenter les données dans une tâche de NLP. Nous vous invitons à consulter les documents suivants et de tenter d'expérimenter par vous-mêmes.\n",
        "\n",
        "* https://neptune.ai/blog/data-augmentation-nlp\n",
        "* https://github.com/makcedward/nlpaug"
      ],
      "metadata": {
        "id": "qPBBSJ-lk86a"
      }
    },
    {
      "cell_type": "code",
      "source": [
        "# vos expérimentations ici"
      ],
      "metadata": {
        "id": "bK_D3ZlDlrTL"
      },
      "execution_count": null,
      "outputs": []
    }
  ]
}