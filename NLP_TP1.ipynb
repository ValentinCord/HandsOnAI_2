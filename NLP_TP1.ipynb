{
  "nbformat": 4,
  "nbformat_minor": 0,
  "metadata": {
    "colab": {
      "provenance": [],
      "include_colab_link": true
    },
    "kernelspec": {
      "name": "python3",
      "display_name": "Python 3"
    },
    "language_info": {
      "name": "python"
    },
    "accelerator": "GPU",
    "gpuClass": "standard"
  },
  "cells": [
    {
      "cell_type": "markdown",
      "metadata": {
        "id": "view-in-github",
        "colab_type": "text"
      },
      "source": [
        "<a href=\"https://colab.research.google.com/github/ValentinCord/HandsOnAI_2/blob/main/NLP_TP1.ipynb\" target=\"_parent\"><img src=\"https://colab.research.google.com/assets/colab-badge.svg\" alt=\"Open In Colab\"/></a>"
      ]
    },
    {
      "cell_type": "code",
      "source": [
        "!rm -rf sample_data"
      ],
      "metadata": {
        "id": "Iv8xWrIPZ87m"
      },
      "execution_count": 1,
      "outputs": []
    },
    {
      "cell_type": "code",
      "source": [
        "from google.colab import drive\n",
        "drive.mount('/content/drive', force_remount = True)"
      ],
      "metadata": {
        "id": "w844LGUkpjC7",
        "colab": {
          "base_uri": "https://localhost:8080/"
        },
        "outputId": "4a14bee2-a0a9-4d7e-df33-76165c1b511d"
      },
      "execution_count": 3,
      "outputs": [
        {
          "output_type": "stream",
          "name": "stdout",
          "text": [
            "Mounted at /content/drive\n"
          ]
        }
      ]
    },
    {
      "cell_type": "code",
      "source": [
        "import os\n",
        "import numpy as np\n",
        "np.set_printoptions(edgeitems = 3,\n",
        "                    infstr = 'inf', \n",
        "                    linewidth = 150, \n",
        "                    nanstr = 'nan', \n",
        "                    precision = 3, \n",
        "                    suppress = False, \n",
        "                    threshold = 1000, \n",
        "                    formatter = None)"
      ],
      "metadata": {
        "id": "Y1JcFys6t1QK"
      },
      "execution_count": 4,
      "outputs": []
    },
    {
      "cell_type": "markdown",
      "source": [
        "# 1. Extraire des *sparse features* avec *TF-IDF*\n",
        "\n",
        "Resources utiles :\n",
        "* https://scikit-learn.org/stable/modules/generated/sklearn.feature_extraction.text.CountVectorizer.html\n",
        "* https://scikit-learn.org/stable/modules/generated/sklearn.feature_extraction.text.TfidfVectorizer.html"
      ],
      "metadata": {
        "id": "t7Wef0pYr5tE"
      }
    },
    {
      "cell_type": "markdown",
      "source": [
        "Importation de scikit-learn et définition d'un corpus de texte"
      ],
      "metadata": {
        "id": "PG6MRY0RsAqU"
      }
    },
    {
      "cell_type": "code",
      "source": [
        "import sklearn.feature_extraction.text as skl_text\n",
        "\n",
        "corpus = [\n",
        "  'This is the first document.',\n",
        "  'This document is the second document.',\n",
        "  'And this is the third one.',\n",
        "  'Is this the first document?',\n",
        "]"
      ],
      "metadata": {
        "id": "nni0Q8YAtsEa"
      },
      "execution_count": 7,
      "outputs": []
    },
    {
      "cell_type": "markdown",
      "source": [
        "## 1.1. Compter le nombre d'occurences des mots dans un corpus"
      ],
      "metadata": {
        "id": "odt8cklkuFHa"
      }
    },
    {
      "cell_type": "markdown",
      "source": [
        "Transformation du corpus avec le compteur de mots"
      ],
      "metadata": {
        "id": "sz5DwqYEvTQX"
      }
    },
    {
      "cell_type": "code",
      "source": [
        "vectorizer = skl_text.CountVectorizer()\n",
        "X = vectorizer.fit_transform(corpus)"
      ],
      "metadata": {
        "id": "_BXRzEfHt_WF"
      },
      "execution_count": 8,
      "outputs": []
    },
    {
      "cell_type": "markdown",
      "source": [
        "Affichage de la liste des mots présents dans le corpus"
      ],
      "metadata": {
        "id": "-VJluB0muUGr"
      }
    },
    {
      "cell_type": "code",
      "source": [
        "print(vectorizer.get_feature_names_out())"
      ],
      "metadata": {
        "id": "3SRZOqoVuYDz",
        "colab": {
          "base_uri": "https://localhost:8080/"
        },
        "outputId": "815d1629-2d1f-47a4-a764-b257930173cf"
      },
      "execution_count": 9,
      "outputs": [
        {
          "output_type": "stream",
          "name": "stdout",
          "text": [
            "['and' 'document' 'first' 'is' 'one' 'second' 'the' 'third' 'this']\n"
          ]
        }
      ]
    },
    {
      "cell_type": "markdown",
      "source": [
        "Exécutez le bloc de code suivant et observez le tableau affiché. Chaque ligne du tableau correspond à une phrase du corpus. Ainsi, la première ligne correspond à la phrase *'This is the first document.'*.\n",
        "\n",
        "Chaque colonne correspond à un mot du corpus, dans le même ordre que la liste affichée au bloc précédent.\n",
        "\n",
        "La valeur indiquée à la ligne *i* et à la colonne *j* correspond au nombre de fois que le mot *j* apparait dans la phrase *i* du corpus."
      ],
      "metadata": {
        "id": "jPrZrqSLucTo"
      }
    },
    {
      "cell_type": "code",
      "source": [
        "print(X.toarray())"
      ],
      "metadata": {
        "id": "WaqqHCT8uhgz",
        "colab": {
          "base_uri": "https://localhost:8080/"
        },
        "outputId": "d80ccd12-f7d3-430a-a548-a53b52a00f2c"
      },
      "execution_count": 10,
      "outputs": [
        {
          "output_type": "stream",
          "name": "stdout",
          "text": [
            "[[0 1 1 1 0 0 1 0 1]\n",
            " [0 2 0 1 0 1 1 0 1]\n",
            " [1 0 0 1 1 0 1 1 1]\n",
            " [0 1 1 1 0 0 1 0 1]]\n"
          ]
        }
      ]
    },
    {
      "cell_type": "markdown",
      "source": [
        "## 1.2. TF-IDF\n",
        "TF-IDF permet de calculer la fréquence d'apparition d'un mot dans un document, c'est-à-dire le nombre de fois que le mot apparait divisé par le nombre total de mots du document."
      ],
      "metadata": {
        "id": "A4pgyYmGvF4Z"
      }
    },
    {
      "cell_type": "markdown",
      "source": [
        "Vectorisation du corpus avec TF-IDF"
      ],
      "metadata": {
        "id": "ETwGoV5NvYj6"
      }
    },
    {
      "cell_type": "code",
      "source": [
        "vectorizer = skl_text.TfidfVectorizer()\n",
        "X = vectorizer.fit_transform(corpus)"
      ],
      "metadata": {
        "id": "HcIIXgU1vNzi"
      },
      "execution_count": 11,
      "outputs": []
    },
    {
      "cell_type": "markdown",
      "source": [
        "Affichage de la liste des mots présents dans le corpus"
      ],
      "metadata": {
        "id": "2PojyugqvbdD"
      }
    },
    {
      "cell_type": "code",
      "source": [
        "print(vectorizer.get_feature_names_out())"
      ],
      "metadata": {
        "id": "i4CLjTmhvgsI",
        "colab": {
          "base_uri": "https://localhost:8080/"
        },
        "outputId": "e0385f6c-dc8b-489c-b25c-2c5770f6ff04"
      },
      "execution_count": 12,
      "outputs": [
        {
          "output_type": "stream",
          "name": "stdout",
          "text": [
            "['and' 'document' 'first' 'is' 'one' 'second' 'the' 'third' 'this']\n"
          ]
        }
      ]
    },
    {
      "cell_type": "markdown",
      "source": [
        "Exécutez le bloc de code suivant et observez le tableau affiché. Chaque ligne du tableau correspond à une phrase du corpus. Ainsi, la première ligne correspond à la phrase *'This is the first document.'*.\n",
        "\n",
        "Chaque colonne correspond à un mot du corpus, dans le même ordre que la liste affichée au bloc précédent.\n",
        "\n",
        "La valeur indiquée à la ligne *i* et à la colonne *j* correspond à la fréquence d'apparition du mot *j* dans la phrase *i* du corpus."
      ],
      "metadata": {
        "id": "I3MJZBpkviO0"
      }
    },
    {
      "cell_type": "code",
      "source": [
        "print(X.toarray())"
      ],
      "metadata": {
        "id": "RTbgq6lHv8VA",
        "colab": {
          "base_uri": "https://localhost:8080/"
        },
        "outputId": "119e55f4-3381-40ec-de64-126ab9d0dd85"
      },
      "execution_count": 13,
      "outputs": [
        {
          "output_type": "stream",
          "name": "stdout",
          "text": [
            "[[0.    0.47  0.58  0.384 0.    0.    0.384 0.    0.384]\n",
            " [0.    0.688 0.    0.281 0.    0.539 0.281 0.    0.281]\n",
            " [0.512 0.    0.    0.267 0.512 0.    0.267 0.512 0.267]\n",
            " [0.    0.47  0.58  0.384 0.    0.    0.384 0.    0.384]]\n"
          ]
        }
      ]
    },
    {
      "cell_type": "markdown",
      "source": [
        "# 2. Extraire des *dense features* avec *word2vec*\n",
        "\n",
        "Resources utiles:\n",
        "* https://radimrehurek.com/gensim/models/word2vec.html\n",
        "* https://radimrehurek.com/gensim/models/word2vec.html#pretrained-models"
      ],
      "metadata": {
        "id": "QFjtL7AgrESr"
      }
    },
    {
      "cell_type": "markdown",
      "source": [
        "## 2.1. Téléchargement d'un modèle avec le package gensim\n",
        "\n",
        "Le code suivant va télécharger des données provenant du package gensim et les stocker dans le dossier *gensim-data* à l'endroit que vous avez indiqué dans la Section 0 du notebook.\n",
        "\n",
        "Si ces données ont déjà été téléchargées, ce script va immédiatement les charger dans un modèle word2vec stocké dans la variable *glove_model_en*."
      ],
      "metadata": {
        "id": "hgPqOYZcrh7t"
      }
    },
    {
      "cell_type": "code",
      "source": [
        "import gensim\n",
        "from gensim import downloader\n",
        "# Model loading\n",
        "if os.path.isdir(\"gensim-data\"):\n",
        "  from gensim.models import KeyedVectors\n",
        "  glove_model_en = KeyedVectors.load_word2vec_format(os.path.join('gensim-data', 'glove-wiki-gigaword-50', 'glove-wiki-gigaword-50.gz'))\n",
        "else:\n",
        "  glove_model_en = downloader.load(\"glove-wiki-gigaword-50\")\n",
        "  os.system('cp -R /root/gensim-data ./gensim-data')"
      ],
      "metadata": {
        "id": "kmuE2GUmrJT2",
        "colab": {
          "base_uri": "https://localhost:8080/"
        },
        "outputId": "7882bcc3-d42a-4929-bcf2-88e590138deb"
      },
      "execution_count": 14,
      "outputs": [
        {
          "output_type": "stream",
          "name": "stdout",
          "text": [
            "[==================================================] 100.0% 66.0/66.0MB downloaded\n"
          ]
        }
      ]
    },
    {
      "cell_type": "markdown",
      "source": [
        "Pour voir le nombre de mots présents dans le modèle word2vec, utilisez la fonction *keys()* sur l'attribut *vocab* du modèle :"
      ],
      "metadata": {
        "id": "myfjD9qNy58m"
      }
    },
    {
      "cell_type": "code",
      "source": [
        "print(\"Loaded vocab size %i\" % len(glove_model_en.vocab.keys()))"
      ],
      "metadata": {
        "id": "zp7QdBwmzL0L",
        "colab": {
          "base_uri": "https://localhost:8080/"
        },
        "outputId": "cb3bf8b3-f0e4-4155-9923-19e3b0748ec5"
      },
      "execution_count": 15,
      "outputs": [
        {
          "output_type": "stream",
          "name": "stdout",
          "text": [
            "Loaded vocab size 400000\n"
          ]
        }
      ]
    },
    {
      "cell_type": "markdown",
      "source": [
        "## 2.2. Similarité"
      ],
      "metadata": {
        "id": "2eMuGQegzXfH"
      }
    },
    {
      "cell_type": "markdown",
      "source": [
        "Avec un modèle word2vec, chaque mot est représenté par un vecteur spécifique. Pour afficher le vecteur d'un mot, nous pouvons procéder comme suit :"
      ],
      "metadata": {
        "id": "xM5L2nOrzzzU"
      }
    },
    {
      "cell_type": "code",
      "source": [
        "print(glove_model_en['plant']) # Vecteur de features du mot plant"
      ],
      "metadata": {
        "id": "JKXca5RozZm_",
        "colab": {
          "base_uri": "https://localhost:8080/"
        },
        "outputId": "842c9c41-e22e-43a6-9274-3f6ea1c97865"
      },
      "execution_count": 16,
      "outputs": [
        {
          "output_type": "stream",
          "name": "stdout",
          "text": [
            "[ 1.317  0.336  0.236  0.949 -0.314  0.499 -0.583 -0.145  0.574 -0.153  0.725 -0.618  0.909 -1.072  0.36   0.771  0.125  2.036 -0.391 -0.792  0.292\n",
            " -1.546 -0.358 -0.442 -0.115 -1.179  0.452  0.639  0.818 -0.131  2.539 -1.211 -0.418 -0.426  0.282 -0.059 -0.1    0.844  1.091  0.352 -0.198 -1.135\n",
            "  0.266 -0.553  1.559  1.082 -0.379 -0.065 -0.726  0.169]\n"
          ]
        }
      ]
    },
    {
      "cell_type": "markdown",
      "source": [
        "Ces vecteurs sont calculés de sorte que des mots fortement liés dans la langue aient des vectors très proches l'un de l'autre. Cette notion de proximité est la similarité entre les mots. Pour mesurer la similarité entre deux mots, nous pouvons procéder comme suit :"
      ],
      "metadata": {
        "id": "RIQgNGcQ0EjK"
      }
    },
    {
      "cell_type": "code",
      "source": [
        "print(glove_model_en.similarity('green','grass')) # Similarité entre le mot green et le mot grass\n",
        "print(glove_model_en.similarity('green','truck')) # Similarité entre le mot green et le mot truck"
      ],
      "metadata": {
        "id": "1tGKo99_0YAj",
        "colab": {
          "base_uri": "https://localhost:8080/"
        },
        "outputId": "326d6bdf-3554-4ef0-aa73-823c5190a6a4"
      },
      "execution_count": 17,
      "outputs": [
        {
          "output_type": "stream",
          "name": "stdout",
          "text": [
            "0.6456315\n",
            "0.4142522\n"
          ]
        }
      ]
    },
    {
      "cell_type": "markdown",
      "source": [
        "*Exercice* - La similarité entre deux mots utilisent un calcul de distance spécifique entre les vecteurs. Quelle est cette distance ? Cosine distance"
      ],
      "metadata": {
        "id": "7BQR_8fJ1Ozm"
      }
    },
    {
      "cell_type": "code",
      "source": [
        "import math\n",
        "def norm_vector(x): # calcule la norme du vecteur x\n",
        "  total = 0\n",
        "  for i in range(len(x)):\n",
        "    total += x[i] * x[i]\n",
        "  return math.sqrt(total)\n",
        "\n",
        "def compute_similarity(x, y): # calcule la distance entre les vecteurs x et y\n",
        "  dot = 0\n",
        "  for i in range(len(x)):\n",
        "    dot += x[i] * y[i]\n",
        "  \n",
        "  return dot / (norm_vector(x) * norm_vector(y))\n",
        "\n",
        "similarity = compute_similarity(glove_model_en['green'], glove_model_en['grass'])\n",
        "print(similarity)"
      ],
      "metadata": {
        "id": "Bt1Apop61oVI",
        "colab": {
          "base_uri": "https://localhost:8080/"
        },
        "outputId": "fc8a4c70-8356-4196-9875-67717aa1c2ac"
      },
      "execution_count": 18,
      "outputs": [
        {
          "output_type": "stream",
          "name": "stdout",
          "text": [
            "0.6456315532940016\n"
          ]
        }
      ]
    },
    {
      "cell_type": "markdown",
      "source": [
        "Le modèle word2vec propose également une fonction *most_similar* permettant de trouver les mots les plus similaires à un autre (c.-à-d. avec la distance la plus petite).\n",
        "\n",
        "Dans l'exemple ci-dessous, nous montrons comment obtenir les mots les plus proches de *obama*. Après exécution, nous pouvons constater que les mots les plus proches sont les noms d'autres présidents des Etats-Unis.\n",
        "\n",
        "L'exemple suivant montre les mots les plus proches de *banana*. On constate qu'il s'agit d'une liste de fruits exotiques.\n",
        "\n",
        "A chaque mot similaire, on retrouve également la similarité entre le mot proposé et le mot demandé ('obama' ou 'banana' dans nos exemples)."
      ],
      "metadata": {
        "id": "3z5vVhsX3Ke9"
      }
    },
    {
      "cell_type": "code",
      "source": [
        "print(glove_model_en.most_similar('obama'))\n",
        "print(glove_model_en.most_similar('banana'))"
      ],
      "metadata": {
        "id": "ZqAkJV8U3noT",
        "colab": {
          "base_uri": "https://localhost:8080/"
        },
        "outputId": "96020236-edd8-4476-9c79-dc211bc75aeb"
      },
      "execution_count": 19,
      "outputs": [
        {
          "output_type": "stream",
          "name": "stdout",
          "text": [
            "[('barack', 0.9674171805381775), ('bush', 0.9642481207847595), ('clinton', 0.9606046080589294), ('mccain', 0.912293553352356), ('dole', 0.8878743052482605), ('gore', 0.8848039507865906), ('hillary', 0.8776552081108093), ('rodham', 0.8401790857315063), ('kerry', 0.8261427879333496), ('biden', 0.8095825910568237)]\n",
            "[('bananas', 0.8152028322219849), ('coconut', 0.7872510552406311), ('pineapple', 0.757981538772583), ('mango', 0.7556401491165161), ('beet', 0.7212650179862976), ('fruit', 0.7181406617164612), ('sugar', 0.7180197834968567), ('growers', 0.7165752053260803), ('peanut', 0.7018108367919922), ('cranberry', 0.6957995295524597)]\n"
          ]
        }
      ]
    },
    {
      "cell_type": "markdown",
      "source": [
        "Le modèle word2vec permet également d'afficher la liste des mots les **moins** similaires à un moment. Pour ce faire, nous utilisons l'attribut *negative* de la fonction *most_similar*."
      ],
      "metadata": {
        "id": "MSUfX6qN4Ast"
      }
    },
    {
      "cell_type": "code",
      "source": [
        "print(glove_model_en.most_similar(negative='obama'))"
      ],
      "metadata": {
        "id": "1Mzzfdw34paU",
        "colab": {
          "base_uri": "https://localhost:8080/"
        },
        "outputId": "42bee704-eb68-4e13-afa8-5c1c983b88db"
      },
      "execution_count": 20,
      "outputs": [
        {
          "output_type": "stream",
          "name": "stdout",
          "text": [
            "[('rw97', 0.8754369020462036), ('keyrates', 0.8377940058708191), ('23aou94', 0.8090196847915649), ('k586-1', 0.7933483719825745), ('westrick', 0.7842056155204773), ('kd96', 0.7752095460891724), ('m.sambucetti', 0.7748785614967346), ('horsky', 0.7734301090240479), ('clevelands', 0.7721912264823914), ('tongnam', 0.7674916386604309)]\n"
          ]
        }
      ]
    },
    {
      "cell_type": "markdown",
      "source": [
        "## 2.3. Arithmétique (analogie)"
      ],
      "metadata": {
        "id": "S8mo8h0ozaeA"
      }
    },
    {
      "cell_type": "markdown",
      "source": [
        "Les vecteurs denses de word2vec permettent d'utiliser de simples opérations arithmétiques sur ces vecteurs pour en manipuler la signification et donc d'effectuer des raisonnements par analogie.\n",
        "\n",
        "Par exemple, si on dit \"Paris est à la France ce que Bruxelles est à la ___ \". En prenant le vecteur de *France* et en lui soustrayant le vecteur de *Paris* et en ajoutant le vecteur de Bruxelles au résultat, le vecteur obtenu devrait être très proche de celui de Belgique, permettant ainsi de compléter cette phrase, et de résoudre l'analogie.\n",
        "\n",
        "Dans le bloc de code suivant, nous montrons comment calculer cette analogie."
      ],
      "metadata": {
        "id": "Mxg3fmr15GYj"
      }
    },
    {
      "cell_type": "code",
      "source": [
        "def analogy(model, x1, x2, y1):\n",
        "    # Cette fonction revient à trouver le mot le plus similaire au vecteur \n",
        "    # calculé comme suit : glove_model_en['france'] - glove_model_en['paris'] + glove_model_en['brussels']\n",
        "    result = model.most_similar(positive=[y1, x2], negative=[x1])\n",
        "    print(result[0:4][0:5])\n",
        "\n",
        "analogy(glove_model_en, 'paris', 'france', 'brussels')"
      ],
      "metadata": {
        "id": "iqz7biZlzcis",
        "colab": {
          "base_uri": "https://localhost:8080/"
        },
        "outputId": "f18a43aa-3b70-4466-f32d-0509441f93ba"
      },
      "execution_count": 21,
      "outputs": [
        {
          "output_type": "stream",
          "name": "stdout",
          "text": [
            "[('eu', 0.8540905117988586), ('belgium', 0.7959123849868774), ('european', 0.7513760924339294), ('luxembourg', 0.7500788569450378)]\n"
          ]
        }
      ]
    },
    {
      "cell_type": "markdown",
      "source": [
        "## 2.4. Visualisation\n",
        "Dans cette section, nous allons voir comment nous pouvons visualiser les vecteurs denses utilisés par word2vec."
      ],
      "metadata": {
        "id": "Y01mOnsyzpMb"
      }
    },
    {
      "cell_type": "markdown",
      "source": [
        "Importation des packages nécessaires à la visualisation"
      ],
      "metadata": {
        "id": "-EOsn80i9Syx"
      }
    },
    {
      "cell_type": "code",
      "source": [
        "import matplotlib.pyplot as plt\n",
        "plt.style.use('ggplot')\n",
        "import sklearn as skl\n",
        "from sklearn import decomposition, manifold"
      ],
      "metadata": {
        "id": "KLb5Ah0Y9XJk"
      },
      "execution_count": 22,
      "outputs": []
    },
    {
      "cell_type": "markdown",
      "source": [
        "Le bout de code suivant utilise **PCA** pour visualiser les vecteurs denses d'une liste prédéfinie de mots."
      ],
      "metadata": {
        "id": "tTdWDKXV9lEc"
      }
    },
    {
      "cell_type": "code",
      "source": [
        "def display_pca_scatterplot(model, words=None, sample=0):\n",
        "    if words == None:\n",
        "        if sample > 0:\n",
        "            words = np.random.choice(list(model.vocab.keys()), sample)\n",
        "        else:\n",
        "            words = [ word for word in model.vocab ]\n",
        "        \n",
        "    word_vectors = np.array([model[w] for w in words])\n",
        "\n",
        "    twodim = decomposition.PCA().fit_transform(word_vectors)[:,:2]\n",
        "    \n",
        "    plt.figure(figsize=(6,6))\n",
        "    plt.scatter(twodim[:,0], twodim[:,1], edgecolors='k', c='r')\n",
        "    for word, (x,y) in zip(words, twodim):\n",
        "        plt.text(x+0.05, y+0.05, word)\n",
        "\n",
        "display_pca_scatterplot(glove_model_en, \n",
        "                        ['coffee', 'tea', 'beer', 'wine', 'brandy', 'rum', 'champagne', 'water',\n",
        "                         'spaghetti', 'borscht', 'hamburger', 'pizza', 'falafel', 'sushi', 'meatballs',\n",
        "                         'dog', 'horse', 'cat', 'monkey', 'parrot', 'koala', 'lizard',\n",
        "                         'frog', 'toad', 'monkey', 'ape', 'kangaroo', 'wombat', 'wolf',\n",
        "                         'france', 'germany', 'hungary', 'luxembourg', 'australia', 'fiji', 'china',\n",
        "                         'homework', 'assignment', 'problem', 'exam', 'test', 'class',\n",
        "                         'school', 'college', 'university', 'institute'])"
      ],
      "metadata": {
        "id": "a1B5I9BkzrSW",
        "colab": {
          "base_uri": "https://localhost:8080/",
          "height": 374
        },
        "outputId": "07f8bcbc-7c05-4096-813c-56533b127559"
      },
      "execution_count": 23,
      "outputs": [
        {
          "output_type": "display_data",
          "data": {
            "text/plain": [
              "<Figure size 432x432 with 1 Axes>"
            ],
            "image/png": "[encoded data removed]"
          },
          "metadata": {}
        }
      ]
    },
    {
      "cell_type": "markdown",
      "source": [
        "*Exercice* - Appliquez la même approche, mais en utilisant t-SNE à la place de PCA afin d'avoir une visualisation à plus haute dimension. \n",
        "\n",
        "Lien utile : https://scikit-learn.org/stable/modules/generated/sklearn.manifold.TSNE.html "
      ],
      "metadata": {
        "id": "D4PGf5_Z95Eq"
      }
    },
    {
      "cell_type": "code",
      "source": [
        "def display_tsne_scatterplot(model, words=None, sample=0):\n",
        "    if words == None:\n",
        "        if sample > 0:\n",
        "            words = np.random.choice(list(model.vocab.keys()), sample)\n",
        "        else:\n",
        "            words = [ word for word in model.vocab ]\n",
        "        \n",
        "    word_vectors = np.array([model[w] for w in words])\n",
        "\n",
        "    twodim = manifold.TSNE().fit_transform(word_vectors)[:,:2]\n",
        "    \n",
        "    plt.figure(figsize=(6,6))\n",
        "    plt.scatter(twodim[:,0], twodim[:,1], edgecolors='k', c='r')\n",
        "    for word, (x,y) in zip(words, twodim):\n",
        "        plt.text(x+0.05, y+0.05, word)\n",
        "\n",
        "display_tsne_scatterplot(glove_model_en, \n",
        "                        ['coffee', 'tea', 'beer', 'wine', 'brandy', 'rum', 'champagne', 'water',\n",
        "                         'spaghetti', 'borscht', 'hamburger', 'pizza', 'falafel', 'sushi', 'meatballs',\n",
        "                         'dog', 'horse', 'cat', 'monkey', 'parrot', 'koala', 'lizard',\n",
        "                         'frog', 'toad', 'monkey', 'ape', 'kangaroo', 'wombat', 'wolf',\n",
        "                         'france', 'germany', 'hungary', 'luxembourg', 'australia', 'fiji', 'china',\n",
        "                         'homework', 'assignment', 'problem', 'exam', 'test', 'class',\n",
        "                         'school', 'college', 'university', 'institute'])"
      ],
      "metadata": {
        "id": "ltGmVHRb-IUy",
        "colab": {
          "base_uri": "https://localhost:8080/",
          "height": 443
        },
        "outputId": "44fe6d67-be6c-456f-c7b1-e421357b5691"
      },
      "execution_count": 28,
      "outputs": [
        {
          "output_type": "stream",
          "name": "stderr",
          "text": [
            "/usr/local/lib/python3.8/dist-packages/sklearn/manifold/_t_sne.py:780: FutureWarning: The default initialization in TSNE will change from 'random' to 'pca' in 1.2.\n",
            "  warnings.warn(\n",
            "/usr/local/lib/python3.8/dist-packages/sklearn/manifold/_t_sne.py:790: FutureWarning: The default learning rate in TSNE will change from 200.0 to 'auto' in 1.2.\n",
            "  warnings.warn(\n"
          ]
        },
        {
          "output_type": "display_data",
          "data": {
            "text/plain": [
              "<Figure size 432x432 with 1 Axes>"
            ],
            "image/png": "[encoded data removed]"
          },
          "metadata": {}
        }
      ]
    },
    {
      "cell_type": "markdown",
      "source": [
        "# 3. POS et NER\n",
        "Ressources utiles :\n",
        "* Pre-trained models: https://spacy.io/models\n",
        "* POS:\n",
        "  * https://spacy.io/usage/linguistic-features#pos-tagging\n",
        "  * https://spacy.io/api/tagger\n",
        "* NER:\n",
        "  * https://spacy.io/usage/linguistic-features#named-entities\n",
        "  * https://spacy.io/api/entityrecognizer\n",
        "* Other word-level features: https://spacy.io/usage/linguistic-features"
      ],
      "metadata": {
        "id": "YV56sp-XG8cx"
      }
    },
    {
      "cell_type": "markdown",
      "source": [
        "## 3.1. Préparation de *spacy*"
      ],
      "metadata": {
        "id": "TnCY4qJvHPo8"
      }
    },
    {
      "cell_type": "code",
      "source": [
        "import spacy\n",
        "\n",
        "spacy_model_en = spacy.load(\"en_core_web_sm\")"
      ],
      "metadata": {
        "id": "feYXZxaWHOAH"
      },
      "execution_count": 29,
      "outputs": []
    },
    {
      "cell_type": "markdown",
      "source": [
        "## 3.2. Utilisation de *spacy* sur une phrase anglaise\n",
        "Dans l'exemple ci-dessous, nous voyons comment utiliser *spacy* pour trouver le lemma et le tag chaque mot d'une phrase."
      ],
      "metadata": {
        "id": "3sFr5WSIHWiY"
      }
    },
    {
      "cell_type": "code",
      "source": [
        "test_text = \"This desert in Egypt has no waters, I must desert you now Sally.\"\n",
        "test_analysed = spacy_model_en(test_text)\n",
        "for token in test_analysed:\n",
        "  print('\\n\\nToken : ', token, '\\nLemma : ', token.lemma_, '\\nType : ', token.pos_)"
      ],
      "metadata": {
        "id": "V41qqMBAHc2P",
        "colab": {
          "base_uri": "https://localhost:8080/"
        },
        "outputId": "917dab30-e222-40a5-f194-9ea1c441315d"
      },
      "execution_count": 36,
      "outputs": [
        {
          "output_type": "stream",
          "name": "stdout",
          "text": [
            "\n",
            "\n",
            "Token :  This \n",
            "Lemma :  this \n",
            "Type :  DET\n",
            "\n",
            "\n",
            "Token :  desert \n",
            "Lemma :  desert \n",
            "Type :  NOUN\n",
            "\n",
            "\n",
            "Token :  in \n",
            "Lemma :  in \n",
            "Type :  ADP\n",
            "\n",
            "\n",
            "Token :  Egypt \n",
            "Lemma :  Egypt \n",
            "Type :  PROPN\n",
            "\n",
            "\n",
            "Token :  has \n",
            "Lemma :  have \n",
            "Type :  VERB\n",
            "\n",
            "\n",
            "Token :  no \n",
            "Lemma :  no \n",
            "Type :  DET\n",
            "\n",
            "\n",
            "Token :  waters \n",
            "Lemma :  water \n",
            "Type :  NOUN\n",
            "\n",
            "\n",
            "Token :  , \n",
            "Lemma :  , \n",
            "Type :  PUNCT\n",
            "\n",
            "\n",
            "Token :  I \n",
            "Lemma :  I \n",
            "Type :  PRON\n",
            "\n",
            "\n",
            "Token :  must \n",
            "Lemma :  must \n",
            "Type :  AUX\n",
            "\n",
            "\n",
            "Token :  desert \n",
            "Lemma :  desert \n",
            "Type :  VERB\n",
            "\n",
            "\n",
            "Token :  you \n",
            "Lemma :  you \n",
            "Type :  PRON\n",
            "\n",
            "\n",
            "Token :  now \n",
            "Lemma :  now \n",
            "Type :  ADV\n",
            "\n",
            "\n",
            "Token :  Sally \n",
            "Lemma :  Sally \n",
            "Type :  PROPN\n",
            "\n",
            "\n",
            "Token :  . \n",
            "Lemma :  . \n",
            "Type :  PUNCT\n"
          ]
        }
      ]
    },
    {
      "cell_type": "markdown",
      "source": [
        "Effectuez la même chose en français. Pour reprendre notre exemple avec TF-IDF, utilisez la phrase *Le fermier ferme la porte de la ferme* et comparez les résultats au problème que nous avions cité (cfr. Section 1.3.). Pour ce faire, vous aurez besoin d'exécuter la ligne de code suivante. Elle permettra de télécharger les données nécessaires pour utiliser *spacy* sur la langue française (ne l'exécutez pas si vous l'avez déjà téléchargé)."
      ],
      "metadata": {
        "id": "980DzbRkIBEd"
      }
    },
    {
      "cell_type": "code",
      "source": [
        " !python -m spacy download fr_core_news_lg"
      ],
      "metadata": {
        "id": "zdH-Hw88Ir9t"
      },
      "execution_count": null,
      "outputs": []
    },
    {
      "cell_type": "code",
      "source": [
        "spacy_model_fr = spacy.load(\"fr_core_news_lg\")\n",
        "\n",
        "test_text = \"Le fermier ferme la porte de la ferme.\"\n",
        "test_analysed = spacy_model_fr(test_text)\n",
        "\n",
        "for token in test_analysed:\n",
        "  print('\\n\\nToken : ', token, '\\nLemma : ', token.lemma_, '\\nType : ', token.pos_)"
      ],
      "metadata": {
        "id": "o8JBhoqKIVAR",
        "colab": {
          "base_uri": "https://localhost:8080/"
        },
        "outputId": "d996d9e0-9d84-42ae-d93f-85a5d21cfc62"
      },
      "execution_count": 35,
      "outputs": [
        {
          "output_type": "stream",
          "name": "stdout",
          "text": [
            "\n",
            "\n",
            "Token :  Le \n",
            "Lemma :  le \n",
            "Type :  DET\n",
            "\n",
            "\n",
            "Token :  fermier \n",
            "Lemma :  fermier \n",
            "Type :  NOUN\n",
            "\n",
            "\n",
            "Token :  ferme \n",
            "Lemma :  ferme \n",
            "Type :  ADJ\n",
            "\n",
            "\n",
            "Token :  la \n",
            "Lemma :  le \n",
            "Type :  DET\n",
            "\n",
            "\n",
            "Token :  porte \n",
            "Lemma :  porte \n",
            "Type :  NOUN\n",
            "\n",
            "\n",
            "Token :  de \n",
            "Lemma :  de \n",
            "Type :  ADP\n",
            "\n",
            "\n",
            "Token :  la \n",
            "Lemma :  le \n",
            "Type :  DET\n",
            "\n",
            "\n",
            "Token :  ferme \n",
            "Lemma :  ferme \n",
            "Type :  NOUN\n",
            "\n",
            "\n",
            "Token :  . \n",
            "Lemma :  . \n",
            "Type :  PUNCT\n"
          ]
        }
      ]
    },
    {
      "cell_type": "markdown",
      "source": [
        "# 4. Embeddings avec transformers"
      ],
      "metadata": {
        "id": "Xt7dEczQKfl9"
      }
    },
    {
      "cell_type": "markdown",
      "source": [
        "Il est possible d'utiliser des réseaux de neurones de type 'transformer' pour calculer des features (descripteurs) représentatifs des mots d'un texte. Ce sont des features denses contextuelles (elle dépendent du contexte du mot). Nous verrons plus tard d'autres utilisations des transformers (prédire des mots manquants dans une phrase par exemple)."
      ],
      "metadata": {
        "id": "70XZhhfqMSyC"
      }
    },
    {
      "cell_type": "markdown",
      "source": [
        "Installation de la librairie *transformers*"
      ],
      "metadata": {
        "id": "hBleITYsMrAp"
      }
    },
    {
      "cell_type": "code",
      "source": [
        "!pip install transformers"
      ],
      "metadata": {
        "id": "qszayrw5LcVa"
      },
      "execution_count": null,
      "outputs": []
    },
    {
      "cell_type": "markdown",
      "source": [
        "L'exemple ci-dessous montre comment utiliser un transformer sur une phrase en anglais. Ici, la phrase sera *a dog in a basket*. Nous utiliserons le modèle *BERT* dont l'identifiant au sein de la librairie est *bert-base-uncased*."
      ],
      "metadata": {
        "id": "ASxSFKu4Mvkd"
      }
    },
    {
      "cell_type": "code",
      "source": [
        "from transformers import pipeline, AutoTokenizer\n",
        "sentence = \"a dog in a basket\"\n",
        "model_id = \"bert-base-uncased\""
      ],
      "metadata": {
        "id": "D6RmCgxzKkAj"
      },
      "execution_count": 38,
      "outputs": []
    },
    {
      "cell_type": "markdown",
      "source": [
        "Ensuite, nous allons remplacer chaque mot de la phrase par un *token*. Un token est une valeur numérique remplaçant chaque mot et servant de clé d'identification pour retrouver le vecteur d'embedding correspondant au mot.\n",
        "\n",
        "En exécutant le code suivant, on constate également que le caractère 'espace' a le token 1037."
      ],
      "metadata": {
        "id": "f3aF_dFmNJ7A"
      }
    },
    {
      "cell_type": "code",
      "source": [
        "tokenizer_id = \"bert-base-uncased\"\n",
        "\n",
        "tokenizer = AutoTokenizer.from_pretrained(tokenizer_id)\n",
        "token_seq = tokenizer.encode(sentence)\n",
        "\n",
        "print(\"Liste des tokens:\", token_seq)"
      ],
      "metadata": {
        "id": "o8VvwftdNbjM",
        "colab": {
          "base_uri": "https://localhost:8080/"
        },
        "outputId": "501194ae-7ac3-4f0a-c3f4-07631c7ab98d"
      },
      "execution_count": 41,
      "outputs": [
        {
          "output_type": "stream",
          "name": "stdout",
          "text": [
            "Liste des tokens: [101, 1037, 3899, 1999, 1037, 10810, 102]\n"
          ]
        }
      ]
    },
    {
      "cell_type": "markdown",
      "source": [
        "Pour obtenir les vecteurs de features de la phrase, nous utilisons ce que nous appelons un *pipeline*. Le code ci-dessous montre d'abord comment récupérer ces vecteurs et comment afficher le vecteur d'embedding d'un token en particulier dans la phrase."
      ],
      "metadata": {
        "id": "RMfQZy5mOJKY"
      }
    },
    {
      "cell_type": "code",
      "source": [
        "# Récupérer les vecteurs de la phrase \n",
        "feature_extraction = pipeline('feature-extraction', model = model_id, tokenizer = tokenizer)\n",
        "features = feature_extraction(sentence)\n",
        "# print(features)\n",
        "\n",
        "# Vecteur du premier token\n",
        "print(features[0][0])\n",
        "\n",
        "# Vecteur du 2ème token (espace)\n",
        "# print(features[0][1])"
      ],
      "metadata": {
        "id": "_JXDm--wOeC8",
        "colab": {
          "base_uri": "https://localhost:8080/"
        },
        "outputId": "71f211fb-110d-47d8-9cc3-006e5f2067a6"
      },
      "execution_count": 46,
      "outputs": [
        {
          "output_type": "stream",
          "name": "stderr",
          "text": [
            "Some weights of the model checkpoint at camembert-base were not used when initializing CamembertModel: ['lm_head.decoder.weight', 'lm_head.layer_norm.bias', 'lm_head.dense.weight', 'lm_head.bias', 'lm_head.layer_norm.weight', 'lm_head.dense.bias']\n",
            "- This IS expected if you are initializing CamembertModel from the checkpoint of a model trained on another task or with another architecture (e.g. initializing a BertForSequenceClassification model from a BertForPreTraining model).\n",
            "- This IS NOT expected if you are initializing CamembertModel from the checkpoint of a model that you expect to be exactly identical (initializing a BertForSequenceClassification model from a BertForSequenceClassification model).\n"
          ]
        },
        {
          "output_type": "stream",
          "name": "stdout",
          "text": [
            "[-0.0010544718243181705, 0.1439327746629715, 0.11019104719161987, -0.12407879531383514, -0.06305617839097977, -0.04562998190522194, 0.0002541440771892667, 0.2182423174381256, 0.06194794923067093, 0.06497929990291595, 0.08099371939897537, 0.12347806245088577, -0.058087579905986786, 0.0562918521463871, 0.21669556200504303, -0.021983660757541656, -0.004190740175545216, -0.05462193861603737, 0.08238481730222702, -0.24006615579128265, 0.06341343373060226, -0.09098684787750244, 0.0024205606896430254, -0.32341957092285156, 0.1808987259864807, -0.15699684619903564, -0.01271890290081501, -0.0592857226729393, -0.020498761907219887, 0.03860490769147873, 0.04397796466946602, -0.20364364981651306, 0.13547320663928986, 0.09582357853651047, 0.18965508043766022, -0.0947115495800972, -0.04652749374508858, 0.14474448561668396, -0.16303987801074982, -0.022654224187135696, -0.20359253883361816, 0.13006140291690826, 0.17673513293266296, -0.03716130927205086, 0.11107567697763443, 0.18849575519561768, -0.25064408779144287, 0.11416827142238617, -0.11165695637464523, 0.05906045436859131, 0.011316516436636448, 0.005071308929473162, -0.3760066628456116, 0.14134928584098816, -0.007666017860174179, 0.003347770543769002, -0.021093223243951797, -0.033617038279771805, 0.09876386821269989, 0.06872397661209106, 0.03240972384810448, 0.07332438975572586, 0.03059312328696251, -0.07468806952238083, -0.0020957402884960175, 0.08110595494508743, -0.048215102404356, 0.20702524483203888, 0.11910855770111084, -0.20428429543972015, 0.13187454640865326, 0.15348173677921295, -0.09437025338411331, -0.0548362210392952, 0.10558108240365982, -0.050616830587387085, -0.05852315574884415, -0.007771657779812813, -0.009494362398982048, 0.0884016677737236, 0.07932555675506592, -0.1946442425251007, -0.12902870774269104, 0.03766784816980362, -0.03882486745715141, 0.14652875065803528, -0.11674357205629349, -0.03950517997145653, 0.13005726039409637, -0.03879617899656296, 0.36866772174835205, -0.03149624541401863, -0.02709212712943554, 0.0912085473537445, 0.08698105812072754, -0.08646436780691147, 0.03293883055448532, -0.07823392748832703, 0.024199223145842552, 0.06189429387450218, -1.9331132173538208, -0.1936938464641571, -0.20217004418373108, 0.09899765253067017, 0.005685081705451012, -0.02763078548014164, -0.10658949613571167, -0.1571515053510666, -0.04221269115805626, -0.047175973653793335, -0.03898690640926361, -0.03161686658859253, 0.07054048776626587, -0.12311362475156784, 0.17671875655651093, 0.10033679753541946, -0.03816968947649002, 0.10871590673923492, -0.030710551887750626, 0.3571999669075012, -0.015774467960000038, 0.02640634961426258, -0.12151366472244263, -0.040655381977558136, -0.053123731166124344, -0.3547705113887787, 0.04682055860757828, 0.17628006637096405, -0.10620467364788055, 0.01537758857011795, 0.27808859944343567, -0.13417087495326996, 0.014960194006562233, 0.15099219977855682, -0.15869399905204773, 0.07730460166931152, -0.022609613835811615, 0.050748325884342194, -0.056361909955739975, 0.005390017759054899, 0.3312191963195801, -0.02567920833826065, 0.1292591094970703, 0.04339565709233284, -0.25670093297958374, 0.15545682609081268, 0.03424566239118576, -0.08963508903980255, 0.00018877943512052298, 0.12704868614673615, -0.019550839439034462, 0.04227618873119354, -0.04068413004279137, -0.15618111193180084, -0.06356780976057053, -0.057439401745796204, -0.03926830366253853, 0.25517141819000244, 0.25059622526168823, -0.04669642448425293, 0.00021540593297686428, -0.326736181974411, 0.14896948635578156, 0.05916961655020714, -0.1651199460029602, 0.00684911385178566, -0.010704388841986656, -0.11944573372602463, -0.1136188730597496, 0.1234189048409462, 0.13328072428703308, -0.09636887907981873, -0.11439717561006546, -0.1424846649169922, 0.022989751771092415, -0.016246017068624496, 0.1359172910451889, 0.22085745632648468, 0.11395134776830673, 0.12271487712860107, 0.012181427329778671, 0.0007521365769207478, 0.036032140254974365, -0.010653844103217125, 0.10777350515127182, -0.07805419713258743, -0.013921606354415417, -0.08113277703523636, 0.12824450433254242, -0.048918478190898895, 0.12192535400390625, 0.24884013831615448, -0.043682243674993515, -0.03908662125468254, -0.09253807365894318, 0.09287206828594208, -0.004585271701216698, -0.12951388955116272, 0.03812960907816887, -0.020202098414301872, -0.06024940311908722, -0.040883298963308334, -0.024605203419923782, 0.034619469195604324, 0.13111330568790436, 0.12614107131958008, -0.022830182686448097, -0.06718447059392929, -0.06868907809257507, 0.010014760307967663, 0.0892157182097435, -0.018433883786201477, 0.08935600519180298, -0.08890809118747711, 0.1463789939880371, -0.16140493750572205, 0.08038271218538284, -0.11299429833889008, -0.09957769513130188, 0.048159994184970856, 0.028761455789208412, -0.05737648531794548, -0.02325292117893696, 0.007899034768342972, 0.016519024968147278, -0.024851057678461075, 0.03251213580369949, 0.18722198903560638, -0.1500435769557953, -0.00162928132340312, 0.29434552788734436, -0.02829548344016075, 0.19003964960575104, 0.0897139310836792, 0.07087220996618271, 0.04188491404056549, 0.023483946919441223, 0.03669551759958267, 0.21769878268241882, 0.004778433591127396, -0.04923197999596596, -0.07689262926578522, -0.01230775285512209, 0.25509577989578247, 0.09226852655410767, -0.009115686640143394, 0.06614112854003906, -0.059191055595874786, 0.030572151765227318, 0.17216116189956665, -0.037324681878089905, 0.015827322378754616, -0.08505517989397049, 0.03340884670615196, 0.08984139561653137, -0.13418446481227875, 0.02457234263420105, -0.00963685754686594, -0.07482749968767166, 0.15640367567539215, -0.03274071589112282, 0.0379052571952343, -0.07997965812683105, 0.026561815291643143, 0.14663240313529968, 0.17652066051959991, 0.10217291861772537, 0.04315049201250076, 0.17694443464279175, 0.025581352412700653, 0.006035174243152142, -0.050126396119594574, -0.4862545132637024, -0.1070500984787941, -0.23893769085407257, 0.0336897112429142, -0.1799377202987671, -0.10493092238903046, 0.19901418685913086, 0.13764594495296478, -0.02799285762012005, -0.10040900856256485, -0.04462173953652382, 0.013468686491250992, -0.07718633115291595, 0.023935463279485703, 0.2963603734970093, 0.16484034061431885, -0.02050739899277687, 0.11956305056810379, 0.00618679728358984, 0.10764951258897781, 0.12936082482337952, 0.09569381922483444, -0.10849593579769135, 0.054947562515735626, 0.28154459595680237, 0.18152183294296265, -0.054625462740659714, -0.00982388760894537, 0.04560902714729309, 0.11588401347398758, -0.049100182950496674, -0.025442756712436676, 0.14706826210021973, 0.044620901346206665, -0.1564352810382843, 0.037922248244285583, 0.037446096539497375, -1.6932061910629272, 0.16995953023433685, 0.04608640819787979, -0.06794534623622894, -0.05607088655233383, 0.09094216674566269, 0.08828502893447876, 0.05797365680336952, -0.004684225656092167, 0.02420758828520775, 0.09512434154748917, 0.08714564144611359, 0.1611987054347992, -0.10167980939149857, 0.03421411290764809, 0.11898951977491379, -0.17435164749622345, -0.052584487944841385, -0.05063420161604881, 0.0389607772231102, 0.15883119404315948, 0.07268510013818741, 0.04057595878839493, 0.1920369565486908, 0.0023846153635531664, -0.05416397005319595, 0.0458047017455101, 0.07487240433692932, -0.0025412729009985924, -0.018956197425723076, 0.03318943455815315, 0.10486878454685211, 0.05233905464410782, 0.025895796716213226, -0.05402234569191933, 0.06985095888376236, -0.1401781439781189, 0.057366400957107544, 0.2015194147825241, -0.037517111748456955, -0.09075406938791275, 0.09829459339380264, -0.028353223577141762, -0.10348266363143921, 0.09993002563714981, -0.08399703353643417, 0.009084674529731274, 0.06737407296895981, -0.1225687563419342, 0.05013299360871315, -0.01099860668182373, 0.03374877944588661, 0.046140775084495544, 0.06660580635070801, -0.0741785317659378, 0.056765295565128326, 0.04788259044289589, -0.015441101975739002, 0.1257377713918686, -0.005492063704878092, -0.03771720081567764, 0.06054259091615677, -0.110089972615242, 0.05475322902202606, 0.07162798941135406, 0.07984193414449692, -0.0051848976872861385, -0.12593376636505127, -0.09461765736341476, -0.09244848042726517, -0.005950614344328642, 0.003314363770186901, 0.14313405752182007, -0.061571039259433746, -0.044926371425390244, -0.07050684094429016, -0.13591668009757996, 0.19116328656673431, 0.05544160306453705, -0.029920868575572968, -0.03750956803560257, -0.029179345816373825, -0.002318035578355193, 0.05572759732604027, -0.04861684516072273, 0.016722463071346283, -0.03729952126741409, 0.03904592618346214, -0.06121760606765747, -0.037953902035951614, 0.20116260647773743, 0.12751036882400513, -0.1953105330467224, -0.08982819318771362, 0.16349022090435028, 0.10752692818641663, 0.14882194995880127, -0.13471409678459167, -0.23219098150730133, 0.01823435164988041, 0.07144993543624878, 0.12530529499053955, 0.11854532361030579, 0.2233000099658966, 0.07351097464561462, -0.12254428118467331, -0.038373496383428574, 0.14379212260246277, 0.02337743528187275, 0.17808741331100464, 0.09596944600343704, 0.2155652642250061, -0.10133872926235199, -0.12008688598871231, 0.038801904767751694, 0.043165963143110275, -0.1427803933620453, 0.058804962784051895, -0.009506011381745338, -0.07080243527889252, -0.13269157707691193, -0.27603480219841003, -0.06967899948358536, -0.049873050302267075, 0.0710938423871994, -0.11908213794231415, 0.28865885734558105, -0.05336698889732361, -0.07381144165992737, -0.0024621025659143925, -0.10035396367311478, -0.05616161599755287, 0.07354376465082169, 0.1776549071073532, 0.035788003355264664, 0.125721737742424, -0.023303816094994545, -0.1923048347234726, -0.19123858213424683, -0.05357736349105835, -0.0036526313051581383, 0.13104593753814697, 0.08513187617063522, 0.07503075897693634, -0.00011287227243883535, 0.07353866100311279, 0.11101040244102478, 0.062045250087976456, 0.13499313592910767, 0.07477957010269165, 0.11167904734611511, -0.08240475505590439, 0.12917309999465942, 0.14521202445030212, 0.09964492172002792, -0.08936195820569992, 0.1824844479560852, -0.20371297001838684, -0.3391762673854828, 0.049233995378017426, -0.12887004017829895, 0.07501515001058578, 0.06853102892637253, 0.09409777075052261, 0.21955205500125885, 0.010723245330154896, 0.048586100339889526, 0.10845547914505005, -0.12458623945713043, 0.10919209569692612, -0.09265158325433731, 0.19926699995994568, 0.1433504968881607, 0.03685262054204941, -0.0037124629598110914, -0.18811555206775665, 0.06841318309307098, 0.19546915590763092, 0.21848447620868683, 0.019387854263186455, 0.11733963340520859, 0.09307849407196045, 0.245468869805336, -0.1292765587568283, 0.1355101466178894, 0.021492939442396164, -0.027461901307106018, 0.04144055023789406, -0.010497543029487133, 0.04094023257493973, 0.034772537648677826, -0.02994430810213089, -0.08806681632995605, 0.020962977781891823, -0.0016845408827066422, -0.06574086099863052, 0.06948860734701157, -0.10098917782306671, -0.16011030972003937, 0.02580481953918934, 0.18751861155033112, 0.005247795023024082, 0.14346538484096527, -0.13289588689804077, -0.03937416523694992, 0.08477537333965302, -0.03945590928196907, 0.02370142936706543, 0.009101709350943565, -0.15767206251621246, 0.13347174227237701, -0.08573313057422638, 0.2566124498844147, 0.0939866229891777, -0.018472114577889442, -0.02049192413687706, 0.2210928499698639, 0.12274865806102753, 0.010354246012866497, -0.025525828823447227, -0.03338772803544998, -0.022445596754550934, 0.06669177860021591, -0.1534435749053955, 0.040155522525310516, 0.08450639247894287, -0.0005512283532880247, 0.23559436202049255, 0.09914710372686386, -0.05423452705144882, -0.12987962365150452, 0.0430312380194664, 0.03639378771185875, 0.0805373564362526, 0.17336444556713104, -0.0420164093375206, 0.21232575178146362, -0.06575452536344528, -0.09790004044771194, -0.01927844248712063, -0.02838645875453949, -0.23960162699222565, 0.10429217666387558, 0.0282780472189188, -0.011440792120993137, -0.12848541140556335, -0.027346812188625336, -0.024994706735014915, 0.037172798067331314, 0.0724346712231636, 0.022450901567935944, -0.0512198880314827, 0.0048398468643426895, 0.10478199273347855, -0.00424528680741787, 0.19827955961227417, -0.10260634869337082, 0.1394258290529251, 0.04080965369939804, -0.07326973974704742, 0.04002193734049797, 0.18270231783390045, 0.0822313204407692, 0.1137622594833374, 0.08195319026708603, -0.03047214262187481, 0.04645852372050285, 0.06041032075881958, 0.26246052980422974, -0.12090343236923218, 0.12580277025699615, 0.14750684797763824, -0.11727989464998245, -0.04586281254887581, -0.03092774748802185, 0.19930222630500793, 0.02946539781987667, 0.0050628711469471455, 0.04442965239286423, 0.04555244371294975, 0.05568896606564522, 0.20236705243587494, 0.11174779385328293, -0.06941360980272293, -0.10403864830732346, 0.10079911351203918, 0.004159232601523399, -0.1938188672065735, -0.03311459347605705, 0.0329604372382164, -0.043033067137002945, 0.15610571205615997, -0.08833137899637222, 0.060130223631858826, -0.0036649168469011784, 0.007580984849482775, -0.06582432240247726, -0.03363944590091705, 0.03418153524398804, 0.1386154294013977, 0.0805654525756836, 0.09222046285867691, 0.0237591452896595, -0.1497221440076828, 0.25694429874420166, -0.02022610418498516, -0.046503182500600815, -0.0028982607182115316, -0.2678768038749695, 0.10089220851659775, 0.04271361231803894, -0.11220764368772507, 0.04455111548304558, -0.1678139567375183, 0.0791400820016861, -0.04549190774559975, 0.1686612367630005, 0.0476100817322731, -0.014609656296670437, -0.14181432127952576, -0.0007976396009325981, -0.17226392030715942, -0.06980034708976746, -0.24252283573150635, -0.010779083706438541, -0.02336885966360569, 0.05332237109541893, -0.10351237654685974, 0.0922849178314209, -0.006041817832738161, -0.04795508831739426, 0.18318717181682587, -0.04987563565373421, 0.06382426619529724, -0.12474853545427322, 0.05548257380723953, 0.06774074584245682, -0.0560411661863327, 0.07257255166769028, -0.18571843206882477, -0.043758317828178406, 0.04020898789167404, 0.15507173538208008, -0.03162214905023575, 0.02350316010415554, -0.08505523949861526, 0.009182384237647057, -0.166806161403656, 0.08328849822282791, 0.11847837269306183, -0.006840195041149855, 0.0358961783349514, -0.05296873673796654, 0.02982465922832489, -0.0942198857665062, 0.1362658441066742, 0.08281689882278442, 0.047322891652584076, 0.10437700897455215, -0.008866584859788418, -0.050718266516923904, -0.10827209055423737, 0.07847266644239426, -0.13197040557861328, -0.03933887556195259, -0.11470526456832886, -0.0008293484570458531, 0.031073596328496933, 0.06847529113292694, -0.014986254274845123, 0.018946947529911995, 0.05303496494889259, 0.034459467977285385, -0.07718836516141891, 0.11498451977968216, -0.02122790925204754, -0.08028218895196915, -0.03461698815226555, 0.1569366306066513, -0.09095697104930878, 0.12467589229345322, 0.019616033881902695, 0.04360153153538704, 0.18113477528095245, 0.401797354221344, -0.1346859633922577, -0.06423477828502655, -0.055453985929489136, -0.032362423837184906, -0.043119996786117554, 0.019567854702472687, 0.10503312945365906, 0.1444491446018219, -0.2945561707019806, 0.052232734858989716, 0.004450859501957893, -0.002539557870477438, 0.06662534922361374, 0.066500224173069, -0.08785869926214218, 0.05761732533574104, 0.06139723211526871, -0.08680593222379684, -0.009297579526901245, 0.22829394042491913, -0.649029016494751, -0.0478568933904171, -0.09156811237335205, 0.10447992384433746, 0.012120298109948635, 0.04530991613864899, 0.002521632006391883, -0.2081238180398941, -0.05152910575270653, -0.02977335825562477, -0.07726790010929108, 0.03272430971264839, 0.13906796276569366, 0.05905934050679207, 0.06604136526584625, 0.1204911395907402, 0.020576244220137596, 0.10974415391683578, 0.10709640383720398, 0.006727913860231638, -0.07392657548189163, 0.12395332753658295, 0.07237685471773148, -0.10539579391479492, 0.15257512032985687, -0.006237684283405542, -0.04905220493674278, 0.07161656022071838, -0.04318220540881157, -0.10280770063400269, -0.10463851690292358, -0.02200148068368435, 0.030308889225125313, -0.04420717805624008, -0.012707504443824291, -0.009629926644265652, 0.07835711538791656, 0.15235908329486847, 0.011106695979833603, 0.14426808059215546, 0.04127011448144913, -0.04385349154472351, -0.056003671139478683, -0.08729646354913712, -0.12301497906446457, -0.0773819237947464, -0.19836470484733582, 0.11608435958623886, 0.005924324505031109, 0.03842957690358162, 0.0814390704035759, -0.0644669160246849, 0.0314047709107399, -0.023549072444438934]\n"
          ]
        }
      ]
    },
    {
      "cell_type": "markdown",
      "source": [
        "Pour le faire en français, nous utiliserons le modèle et le *tokenizer* dont les identifiants sont *camembert-base*. Choisissez également une phrase de votre choix en français.\n",
        "\n",
        "Affichez les tokens de cette phrase, ainsi que les embeddings de celle-ci."
      ],
      "metadata": {
        "id": "2A7ZwKM2OxBl"
      }
    },
    {
      "cell_type": "code",
      "source": [
        "sentence = \"Ma phrase à moi est géniale.\"\n",
        "model_id = \"camembert-base\"\n",
        "tokenizer_id = \"camembert-base\"\n",
        "\n",
        "\n",
        "tokenizer = AutoTokenizer.from_pretrained(tokenizer_id)\n",
        "token_seq = tokenizer.encode(sentence)\n",
        "\n",
        "print(\"Liste des tokens : \", token_seq)\n",
        "\n",
        "# Récupérer les vecteurs de la phrase \n",
        "feature_extraction = pipeline('feature-extraction', model = model_id, tokenizer = tokenizer)\n",
        "features = feature_extraction(sentence)\n",
        "# print(\"Features : \", features)\n",
        "\n",
        "# Vecteur du premier token\n",
        "print(\"embeddings token 1 : \", features[0][0])\n",
        "\n",
        "# Vecteur du 2ème token (espace)\n",
        "#print(\"embeddings token 2 : \", features[0][1])"
      ],
      "metadata": {
        "id": "gzo-mJ-_Lr-e",
        "colab": {
          "base_uri": "https://localhost:8080/"
        },
        "outputId": "63493eb7-23ba-4e14-abae-355189ba45c3"
      },
      "execution_count": 47,
      "outputs": [
        {
          "output_type": "stream",
          "name": "stdout",
          "text": [
            "Liste des tokens :  [5, 769, 3572, 15, 202, 30, 16045, 9, 6]\n"
          ]
        },
        {
          "output_type": "stream",
          "name": "stderr",
          "text": [
            "Some weights of the model checkpoint at camembert-base were not used when initializing CamembertModel: ['lm_head.decoder.weight', 'lm_head.layer_norm.bias', 'lm_head.dense.weight', 'lm_head.bias', 'lm_head.layer_norm.weight', 'lm_head.dense.bias']\n",
            "- This IS expected if you are initializing CamembertModel from the checkpoint of a model trained on another task or with another architecture (e.g. initializing a BertForSequenceClassification model from a BertForPreTraining model).\n",
            "- This IS NOT expected if you are initializing CamembertModel from the checkpoint of a model that you expect to be exactly identical (initializing a BertForSequenceClassification model from a BertForSequenceClassification model).\n"
          ]
        },
        {
          "output_type": "stream",
          "name": "stdout",
          "text": [
            "embeddings token 1 :  [-0.0010544718243181705, 0.1439327746629715, 0.11019104719161987, -0.12407879531383514, -0.06305617839097977, -0.04562998190522194, 0.0002541440771892667, 0.2182423174381256, 0.06194794923067093, 0.06497929990291595, 0.08099371939897537, 0.12347806245088577, -0.058087579905986786, 0.0562918521463871, 0.21669556200504303, -0.021983660757541656, -0.004190740175545216, -0.05462193861603737, 0.08238481730222702, -0.24006615579128265, 0.06341343373060226, -0.09098684787750244, 0.0024205606896430254, -0.32341957092285156, 0.1808987259864807, -0.15699684619903564, -0.01271890290081501, -0.0592857226729393, -0.020498761907219887, 0.03860490769147873, 0.04397796466946602, -0.20364364981651306, 0.13547320663928986, 0.09582357853651047, 0.18965508043766022, -0.0947115495800972, -0.04652749374508858, 0.14474448561668396, -0.16303987801074982, -0.022654224187135696, -0.20359253883361816, 0.13006140291690826, 0.17673513293266296, -0.03716130927205086, 0.11107567697763443, 0.18849575519561768, -0.25064408779144287, 0.11416827142238617, -0.11165695637464523, 0.05906045436859131, 0.011316516436636448, 0.005071308929473162, -0.3760066628456116, 0.14134928584098816, -0.007666017860174179, 0.003347770543769002, -0.021093223243951797, -0.033617038279771805, 0.09876386821269989, 0.06872397661209106, 0.03240972384810448, 0.07332438975572586, 0.03059312328696251, -0.07468806952238083, -0.0020957402884960175, 0.08110595494508743, -0.048215102404356, 0.20702524483203888, 0.11910855770111084, -0.20428429543972015, 0.13187454640865326, 0.15348173677921295, -0.09437025338411331, -0.0548362210392952, 0.10558108240365982, -0.050616830587387085, -0.05852315574884415, -0.007771657779812813, -0.009494362398982048, 0.0884016677737236, 0.07932555675506592, -0.1946442425251007, -0.12902870774269104, 0.03766784816980362, -0.03882486745715141, 0.14652875065803528, -0.11674357205629349, -0.03950517997145653, 0.13005726039409637, -0.03879617899656296, 0.36866772174835205, -0.03149624541401863, -0.02709212712943554, 0.0912085473537445, 0.08698105812072754, -0.08646436780691147, 0.03293883055448532, -0.07823392748832703, 0.024199223145842552, 0.06189429387450218, -1.9331132173538208, -0.1936938464641571, -0.20217004418373108, 0.09899765253067017, 0.005685081705451012, -0.02763078548014164, -0.10658949613571167, -0.1571515053510666, -0.04221269115805626, -0.047175973653793335, -0.03898690640926361, -0.03161686658859253, 0.07054048776626587, -0.12311362475156784, 0.17671875655651093, 0.10033679753541946, -0.03816968947649002, 0.10871590673923492, -0.030710551887750626, 0.3571999669075012, -0.015774467960000038, 0.02640634961426258, -0.12151366472244263, -0.040655381977558136, -0.053123731166124344, -0.3547705113887787, 0.04682055860757828, 0.17628006637096405, -0.10620467364788055, 0.01537758857011795, 0.27808859944343567, -0.13417087495326996, 0.014960194006562233, 0.15099219977855682, -0.15869399905204773, 0.07730460166931152, -0.022609613835811615, 0.050748325884342194, -0.056361909955739975, 0.005390017759054899, 0.3312191963195801, -0.02567920833826065, 0.1292591094970703, 0.04339565709233284, -0.25670093297958374, 0.15545682609081268, 0.03424566239118576, -0.08963508903980255, 0.00018877943512052298, 0.12704868614673615, -0.019550839439034462, 0.04227618873119354, -0.04068413004279137, -0.15618111193180084, -0.06356780976057053, -0.057439401745796204, -0.03926830366253853, 0.25517141819000244, 0.25059622526168823, -0.04669642448425293, 0.00021540593297686428, -0.326736181974411, 0.14896948635578156, 0.05916961655020714, -0.1651199460029602, 0.00684911385178566, -0.010704388841986656, -0.11944573372602463, -0.1136188730597496, 0.1234189048409462, 0.13328072428703308, -0.09636887907981873, -0.11439717561006546, -0.1424846649169922, 0.022989751771092415, -0.016246017068624496, 0.1359172910451889, 0.22085745632648468, 0.11395134776830673, 0.12271487712860107, 0.012181427329778671, 0.0007521365769207478, 0.036032140254974365, -0.010653844103217125, 0.10777350515127182, -0.07805419713258743, -0.013921606354415417, -0.08113277703523636, 0.12824450433254242, -0.048918478190898895, 0.12192535400390625, 0.24884013831615448, -0.043682243674993515, -0.03908662125468254, -0.09253807365894318, 0.09287206828594208, -0.004585271701216698, -0.12951388955116272, 0.03812960907816887, -0.020202098414301872, -0.06024940311908722, -0.040883298963308334, -0.024605203419923782, 0.034619469195604324, 0.13111330568790436, 0.12614107131958008, -0.022830182686448097, -0.06718447059392929, -0.06868907809257507, 0.010014760307967663, 0.0892157182097435, -0.018433883786201477, 0.08935600519180298, -0.08890809118747711, 0.1463789939880371, -0.16140493750572205, 0.08038271218538284, -0.11299429833889008, -0.09957769513130188, 0.048159994184970856, 0.028761455789208412, -0.05737648531794548, -0.02325292117893696, 0.007899034768342972, 0.016519024968147278, -0.024851057678461075, 0.03251213580369949, 0.18722198903560638, -0.1500435769557953, -0.00162928132340312, 0.29434552788734436, -0.02829548344016075, 0.19003964960575104, 0.0897139310836792, 0.07087220996618271, 0.04188491404056549, 0.023483946919441223, 0.03669551759958267, 0.21769878268241882, 0.004778433591127396, -0.04923197999596596, -0.07689262926578522, -0.01230775285512209, 0.25509577989578247, 0.09226852655410767, -0.009115686640143394, 0.06614112854003906, -0.059191055595874786, 0.030572151765227318, 0.17216116189956665, -0.037324681878089905, 0.015827322378754616, -0.08505517989397049, 0.03340884670615196, 0.08984139561653137, -0.13418446481227875, 0.02457234263420105, -0.00963685754686594, -0.07482749968767166, 0.15640367567539215, -0.03274071589112282, 0.0379052571952343, -0.07997965812683105, 0.026561815291643143, 0.14663240313529968, 0.17652066051959991, 0.10217291861772537, 0.04315049201250076, 0.17694443464279175, 0.025581352412700653, 0.006035174243152142, -0.050126396119594574, -0.4862545132637024, -0.1070500984787941, -0.23893769085407257, 0.0336897112429142, -0.1799377202987671, -0.10493092238903046, 0.19901418685913086, 0.13764594495296478, -0.02799285762012005, -0.10040900856256485, -0.04462173953652382, 0.013468686491250992, -0.07718633115291595, 0.023935463279485703, 0.2963603734970093, 0.16484034061431885, -0.02050739899277687, 0.11956305056810379, 0.00618679728358984, 0.10764951258897781, 0.12936082482337952, 0.09569381922483444, -0.10849593579769135, 0.054947562515735626, 0.28154459595680237, 0.18152183294296265, -0.054625462740659714, -0.00982388760894537, 0.04560902714729309, 0.11588401347398758, -0.049100182950496674, -0.025442756712436676, 0.14706826210021973, 0.044620901346206665, -0.1564352810382843, 0.037922248244285583, 0.037446096539497375, -1.6932061910629272, 0.16995953023433685, 0.04608640819787979, -0.06794534623622894, -0.05607088655233383, 0.09094216674566269, 0.08828502893447876, 0.05797365680336952, -0.004684225656092167, 0.02420758828520775, 0.09512434154748917, 0.08714564144611359, 0.1611987054347992, -0.10167980939149857, 0.03421411290764809, 0.11898951977491379, -0.17435164749622345, -0.052584487944841385, -0.05063420161604881, 0.0389607772231102, 0.15883119404315948, 0.07268510013818741, 0.04057595878839493, 0.1920369565486908, 0.0023846153635531664, -0.05416397005319595, 0.0458047017455101, 0.07487240433692932, -0.0025412729009985924, -0.018956197425723076, 0.03318943455815315, 0.10486878454685211, 0.05233905464410782, 0.025895796716213226, -0.05402234569191933, 0.06985095888376236, -0.1401781439781189, 0.057366400957107544, 0.2015194147825241, -0.037517111748456955, -0.09075406938791275, 0.09829459339380264, -0.028353223577141762, -0.10348266363143921, 0.09993002563714981, -0.08399703353643417, 0.009084674529731274, 0.06737407296895981, -0.1225687563419342, 0.05013299360871315, -0.01099860668182373, 0.03374877944588661, 0.046140775084495544, 0.06660580635070801, -0.0741785317659378, 0.056765295565128326, 0.04788259044289589, -0.015441101975739002, 0.1257377713918686, -0.005492063704878092, -0.03771720081567764, 0.06054259091615677, -0.110089972615242, 0.05475322902202606, 0.07162798941135406, 0.07984193414449692, -0.0051848976872861385, -0.12593376636505127, -0.09461765736341476, -0.09244848042726517, -0.005950614344328642, 0.003314363770186901, 0.14313405752182007, -0.061571039259433746, -0.044926371425390244, -0.07050684094429016, -0.13591668009757996, 0.19116328656673431, 0.05544160306453705, -0.029920868575572968, -0.03750956803560257, -0.029179345816373825, -0.002318035578355193, 0.05572759732604027, -0.04861684516072273, 0.016722463071346283, -0.03729952126741409, 0.03904592618346214, -0.06121760606765747, -0.037953902035951614, 0.20116260647773743, 0.12751036882400513, -0.1953105330467224, -0.08982819318771362, 0.16349022090435028, 0.10752692818641663, 0.14882194995880127, -0.13471409678459167, -0.23219098150730133, 0.01823435164988041, 0.07144993543624878, 0.12530529499053955, 0.11854532361030579, 0.2233000099658966, 0.07351097464561462, -0.12254428118467331, -0.038373496383428574, 0.14379212260246277, 0.02337743528187275, 0.17808741331100464, 0.09596944600343704, 0.2155652642250061, -0.10133872926235199, -0.12008688598871231, 0.038801904767751694, 0.043165963143110275, -0.1427803933620453, 0.058804962784051895, -0.009506011381745338, -0.07080243527889252, -0.13269157707691193, -0.27603480219841003, -0.06967899948358536, -0.049873050302267075, 0.0710938423871994, -0.11908213794231415, 0.28865885734558105, -0.05336698889732361, -0.07381144165992737, -0.0024621025659143925, -0.10035396367311478, -0.05616161599755287, 0.07354376465082169, 0.1776549071073532, 0.035788003355264664, 0.125721737742424, -0.023303816094994545, -0.1923048347234726, -0.19123858213424683, -0.05357736349105835, -0.0036526313051581383, 0.13104593753814697, 0.08513187617063522, 0.07503075897693634, -0.00011287227243883535, 0.07353866100311279, 0.11101040244102478, 0.062045250087976456, 0.13499313592910767, 0.07477957010269165, 0.11167904734611511, -0.08240475505590439, 0.12917309999465942, 0.14521202445030212, 0.09964492172002792, -0.08936195820569992, 0.1824844479560852, -0.20371297001838684, -0.3391762673854828, 0.049233995378017426, -0.12887004017829895, 0.07501515001058578, 0.06853102892637253, 0.09409777075052261, 0.21955205500125885, 0.010723245330154896, 0.048586100339889526, 0.10845547914505005, -0.12458623945713043, 0.10919209569692612, -0.09265158325433731, 0.19926699995994568, 0.1433504968881607, 0.03685262054204941, -0.0037124629598110914, -0.18811555206775665, 0.06841318309307098, 0.19546915590763092, 0.21848447620868683, 0.019387854263186455, 0.11733963340520859, 0.09307849407196045, 0.245468869805336, -0.1292765587568283, 0.1355101466178894, 0.021492939442396164, -0.027461901307106018, 0.04144055023789406, -0.010497543029487133, 0.04094023257493973, 0.034772537648677826, -0.02994430810213089, -0.08806681632995605, 0.020962977781891823, -0.0016845408827066422, -0.06574086099863052, 0.06948860734701157, -0.10098917782306671, -0.16011030972003937, 0.02580481953918934, 0.18751861155033112, 0.005247795023024082, 0.14346538484096527, -0.13289588689804077, -0.03937416523694992, 0.08477537333965302, -0.03945590928196907, 0.02370142936706543, 0.009101709350943565, -0.15767206251621246, 0.13347174227237701, -0.08573313057422638, 0.2566124498844147, 0.0939866229891777, -0.018472114577889442, -0.02049192413687706, 0.2210928499698639, 0.12274865806102753, 0.010354246012866497, -0.025525828823447227, -0.03338772803544998, -0.022445596754550934, 0.06669177860021591, -0.1534435749053955, 0.040155522525310516, 0.08450639247894287, -0.0005512283532880247, 0.23559436202049255, 0.09914710372686386, -0.05423452705144882, -0.12987962365150452, 0.0430312380194664, 0.03639378771185875, 0.0805373564362526, 0.17336444556713104, -0.0420164093375206, 0.21232575178146362, -0.06575452536344528, -0.09790004044771194, -0.01927844248712063, -0.02838645875453949, -0.23960162699222565, 0.10429217666387558, 0.0282780472189188, -0.011440792120993137, -0.12848541140556335, -0.027346812188625336, -0.024994706735014915, 0.037172798067331314, 0.0724346712231636, 0.022450901567935944, -0.0512198880314827, 0.0048398468643426895, 0.10478199273347855, -0.00424528680741787, 0.19827955961227417, -0.10260634869337082, 0.1394258290529251, 0.04080965369939804, -0.07326973974704742, 0.04002193734049797, 0.18270231783390045, 0.0822313204407692, 0.1137622594833374, 0.08195319026708603, -0.03047214262187481, 0.04645852372050285, 0.06041032075881958, 0.26246052980422974, -0.12090343236923218, 0.12580277025699615, 0.14750684797763824, -0.11727989464998245, -0.04586281254887581, -0.03092774748802185, 0.19930222630500793, 0.02946539781987667, 0.0050628711469471455, 0.04442965239286423, 0.04555244371294975, 0.05568896606564522, 0.20236705243587494, 0.11174779385328293, -0.06941360980272293, -0.10403864830732346, 0.10079911351203918, 0.004159232601523399, -0.1938188672065735, -0.03311459347605705, 0.0329604372382164, -0.043033067137002945, 0.15610571205615997, -0.08833137899637222, 0.060130223631858826, -0.0036649168469011784, 0.007580984849482775, -0.06582432240247726, -0.03363944590091705, 0.03418153524398804, 0.1386154294013977, 0.0805654525756836, 0.09222046285867691, 0.0237591452896595, -0.1497221440076828, 0.25694429874420166, -0.02022610418498516, -0.046503182500600815, -0.0028982607182115316, -0.2678768038749695, 0.10089220851659775, 0.04271361231803894, -0.11220764368772507, 0.04455111548304558, -0.1678139567375183, 0.0791400820016861, -0.04549190774559975, 0.1686612367630005, 0.0476100817322731, -0.014609656296670437, -0.14181432127952576, -0.0007976396009325981, -0.17226392030715942, -0.06980034708976746, -0.24252283573150635, -0.010779083706438541, -0.02336885966360569, 0.05332237109541893, -0.10351237654685974, 0.0922849178314209, -0.006041817832738161, -0.04795508831739426, 0.18318717181682587, -0.04987563565373421, 0.06382426619529724, -0.12474853545427322, 0.05548257380723953, 0.06774074584245682, -0.0560411661863327, 0.07257255166769028, -0.18571843206882477, -0.043758317828178406, 0.04020898789167404, 0.15507173538208008, -0.03162214905023575, 0.02350316010415554, -0.08505523949861526, 0.009182384237647057, -0.166806161403656, 0.08328849822282791, 0.11847837269306183, -0.006840195041149855, 0.0358961783349514, -0.05296873673796654, 0.02982465922832489, -0.0942198857665062, 0.1362658441066742, 0.08281689882278442, 0.047322891652584076, 0.10437700897455215, -0.008866584859788418, -0.050718266516923904, -0.10827209055423737, 0.07847266644239426, -0.13197040557861328, -0.03933887556195259, -0.11470526456832886, -0.0008293484570458531, 0.031073596328496933, 0.06847529113292694, -0.014986254274845123, 0.018946947529911995, 0.05303496494889259, 0.034459467977285385, -0.07718836516141891, 0.11498451977968216, -0.02122790925204754, -0.08028218895196915, -0.03461698815226555, 0.1569366306066513, -0.09095697104930878, 0.12467589229345322, 0.019616033881902695, 0.04360153153538704, 0.18113477528095245, 0.401797354221344, -0.1346859633922577, -0.06423477828502655, -0.055453985929489136, -0.032362423837184906, -0.043119996786117554, 0.019567854702472687, 0.10503312945365906, 0.1444491446018219, -0.2945561707019806, 0.052232734858989716, 0.004450859501957893, -0.002539557870477438, 0.06662534922361374, 0.066500224173069, -0.08785869926214218, 0.05761732533574104, 0.06139723211526871, -0.08680593222379684, -0.009297579526901245, 0.22829394042491913, -0.649029016494751, -0.0478568933904171, -0.09156811237335205, 0.10447992384433746, 0.012120298109948635, 0.04530991613864899, 0.002521632006391883, -0.2081238180398941, -0.05152910575270653, -0.02977335825562477, -0.07726790010929108, 0.03272430971264839, 0.13906796276569366, 0.05905934050679207, 0.06604136526584625, 0.1204911395907402, 0.020576244220137596, 0.10974415391683578, 0.10709640383720398, 0.006727913860231638, -0.07392657548189163, 0.12395332753658295, 0.07237685471773148, -0.10539579391479492, 0.15257512032985687, -0.006237684283405542, -0.04905220493674278, 0.07161656022071838, -0.04318220540881157, -0.10280770063400269, -0.10463851690292358, -0.02200148068368435, 0.030308889225125313, -0.04420717805624008, -0.012707504443824291, -0.009629926644265652, 0.07835711538791656, 0.15235908329486847, 0.011106695979833603, 0.14426808059215546, 0.04127011448144913, -0.04385349154472351, -0.056003671139478683, -0.08729646354913712, -0.12301497906446457, -0.0773819237947464, -0.19836470484733582, 0.11608435958623886, 0.005924324505031109, 0.03842957690358162, 0.0814390704035759, -0.0644669160246849, 0.0314047709107399, -0.023549072444438934]\n"
          ]
        }
      ]
    },
    {
      "cell_type": "markdown",
      "source": [
        "# 4. Exploration personnelle de base de données\n",
        "Pour vous préparer à la prochaine séance, nous vous invitons à effectuer une petite recherche sur internet sur le sujet des bases de données dédiées au NLP. Existe-t-il des équivalents des DBs ImageNet ou COCO pour le NLP, c.-à-d. des bases de donnés utilisées de manière récurente dans ce domaine.\n",
        "\n",
        "Le NLP est un domaine complexe aussi parce que les modèles d'IA doivent être entrainés pour chaque langue séparément. Est-ce exact ? N'existe-t-il pas des DBs ou des méthodologies d'apprentissage multilingues ?\n",
        "\n",
        "Finalement, essayer de télécharger quelques DBs. Utilisez pour ce faire les répertoires et tutoriels proposés : \n",
        "* https://huggingface.co/datasets (permet une recherche par type de tâche NLP, par langue, et aussi de restreindre la recherche à un intervalle de taille/volume de la DB)\n",
        "* https://scikit-learn.org/0.19/datasets/twenty_newsgroups.html\n",
        "\n",
        "Suivez ceci pour savoir comment télécharger l'un des dataset disponibles dans le répertoire huggingface https://huggingface.co/docs/datasets/loading_datasets.html"
      ],
      "metadata": {
        "id": "IaqY7GMjPoBX"
      }
    }
  ]
}