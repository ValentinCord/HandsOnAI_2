{
  "nbformat": 4,
  "nbformat_minor": 0,
  "metadata": {
    "colab": {
      "provenance": [],
      "authorship_tag": "ABX9TyO2G8CjPD+TElYJvNNtGjoN",
      "include_colab_link": true
    },
    "kernelspec": {
      "name": "python3",
      "display_name": "Python 3"
    },
    "language_info": {
      "name": "python"
    },
    "accelerator": "GPU",
    "gpuClass": "standard"
  },
  "cells": [
    {
      "cell_type": "markdown",
      "metadata": {
        "id": "view-in-github",
        "colab_type": "text"
      },
      "source": [
        "<a href=\"https://colab.research.google.com/github/ValentinCord/HandsOnAI_2/blob/main/NLP_DataAnalysis.ipynb\" target=\"_parent\"><img src=\"https://colab.research.google.com/assets/colab-badge.svg\" alt=\"Open In Colab\"/></a>"
      ]
    },
    {
      "cell_type": "code",
      "source": [
        "# basics \n",
        "import os\n",
        "import numpy as np\n",
        "import pandas as pd\n",
        "from sklearn.metrics import accuracy_score\n",
        "from google.colab import drive\n",
        "\n",
        "# nltk \n",
        "from collections import defaultdict\n",
        "from collections import Counter\n",
        "import nltk\n",
        "nltk.download('stopwords')\n",
        "from nltk.corpus import stopwords\n",
        "stop=set(stopwords.words('french'))\n",
        "\n",
        "# plot \n",
        "import matplotlib.pyplot as plt \n",
        "import seaborn as sns "
      ],
      "metadata": {
        "id": "IItKtGo1O8yQ",
        "colab": {
          "base_uri": "https://localhost:8080/"
        },
        "outputId": "fdb41aa3-b5db-4e6f-e7af-173999013a58"
      },
      "execution_count": 73,
      "outputs": [
        {
          "output_type": "stream",
          "name": "stderr",
          "text": [
            "[nltk_data] Downloading package stopwords to /root/nltk_data...\n",
            "[nltk_data]   Package stopwords is already up-to-date!\n"
          ]
        }
      ]
    },
    {
      "cell_type": "code",
      "source": [
        "drive.mount('/content/drive', force_remount=True)"
      ],
      "metadata": {
        "colab": {
          "base_uri": "https://localhost:8080/"
        },
        "id": "fGXyKBKhQAVX",
        "outputId": "8a7d5758-8be2-4b9f-f91c-26be05e2a935"
      },
      "execution_count": 74,
      "outputs": [
        {
          "output_type": "stream",
          "name": "stdout",
          "text": [
            "Mounted at /content/drive\n"
          ]
        }
      ]
    },
    {
      "cell_type": "markdown",
      "source": [
        "# Lecture et analyse pandas"
      ],
      "metadata": {
        "id": "quksqXzGSHdX"
      }
    },
    {
      "cell_type": "code",
      "source": [
        "train_path = '/content/drive/MyDrive/HandOnAI_2_NLP/fake_train.csv'\n",
        "test_path = '/content/drive/MyDrive/HandOnAI_2_NLP/fake_test.csv'"
      ],
      "metadata": {
        "id": "tn28aeSpQpJn"
      },
      "execution_count": 75,
      "outputs": []
    },
    {
      "cell_type": "code",
      "source": [
        "df_train = pd.read_csv(train_path)\n",
        "df_test = pd.read_csv(test_path)"
      ],
      "metadata": {
        "id": "tiOqzZa_QBHP"
      },
      "execution_count": 76,
      "outputs": []
    },
    {
      "cell_type": "code",
      "source": [
        "df_train.head()"
      ],
      "metadata": {
        "colab": {
          "base_uri": "https://localhost:8080/",
          "height": 206
        },
        "id": "rdN07nGKSwcN",
        "outputId": "eb5a0d64-a038-4385-f914-6a5bf4234639"
      },
      "execution_count": 77,
      "outputs": [
        {
          "output_type": "execute_result",
          "data": {
            "text/plain": [
              "   Unnamed: 0                                               data  label  \\\n",
              "0           0  Au 22e jour consécutif de la grève reconductib...      0   \n",
              "1           1  Depuis plusieurs mois, les initiatives des che...      0   \n",
              "2           2  Google vient d'introduire une  mise à jour  de...      0   \n",
              "3           3  Portrait.  Chacun s’empresse autour d’elle tan...      0   \n",
              "4           4  « Il n’y a pas de risque de pénurie » de carbu...      0   \n",
              "\n",
              "  target_name  \n",
              "0        News  \n",
              "1        News  \n",
              "2        News  \n",
              "3        News  \n",
              "4        News  "
            ],
            "text/html": [
              "\n",
              "  <div id=\"df-cd2519ee-8227-418e-a8d4-7147cf8b497b\">\n",
              "    <div class=\"colab-df-container\">\n",
              "      <div>\n",
              "<style scoped>\n",
              "    .dataframe tbody tr th:only-of-type {\n",
              "        vertical-align: middle;\n",
              "    }\n",
              "\n",
              "    .dataframe tbody tr th {\n",
              "        vertical-align: top;\n",
              "    }\n",
              "\n",
              "    .dataframe thead th {\n",
              "        text-align: right;\n",
              "    }\n",
              "</style>\n",
              "<table border=\"1\" class=\"dataframe\">\n",
              "  <thead>\n",
              "    <tr style=\"text-align: right;\">\n",
              "      <th></th>\n",
              "      <th>Unnamed: 0</th>\n",
              "      <th>data</th>\n",
              "      <th>label</th>\n",
              "      <th>target_name</th>\n",
              "    </tr>\n",
              "  </thead>\n",
              "  <tbody>\n",
              "    <tr>\n",
              "      <th>0</th>\n",
              "      <td>0</td>\n",
              "      <td>Au 22e jour consécutif de la grève reconductib...</td>\n",
              "      <td>0</td>\n",
              "      <td>News</td>\n",
              "    </tr>\n",
              "    <tr>\n",
              "      <th>1</th>\n",
              "      <td>1</td>\n",
              "      <td>Depuis plusieurs mois, les initiatives des che...</td>\n",
              "      <td>0</td>\n",
              "      <td>News</td>\n",
              "    </tr>\n",
              "    <tr>\n",
              "      <th>2</th>\n",
              "      <td>2</td>\n",
              "      <td>Google vient d'introduire une  mise à jour  de...</td>\n",
              "      <td>0</td>\n",
              "      <td>News</td>\n",
              "    </tr>\n",
              "    <tr>\n",
              "      <th>3</th>\n",
              "      <td>3</td>\n",
              "      <td>Portrait.  Chacun s’empresse autour d’elle tan...</td>\n",
              "      <td>0</td>\n",
              "      <td>News</td>\n",
              "    </tr>\n",
              "    <tr>\n",
              "      <th>4</th>\n",
              "      <td>4</td>\n",
              "      <td>« Il n’y a pas de risque de pénurie » de carbu...</td>\n",
              "      <td>0</td>\n",
              "      <td>News</td>\n",
              "    </tr>\n",
              "  </tbody>\n",
              "</table>\n",
              "</div>\n",
              "      <button class=\"colab-df-convert\" onclick=\"convertToInteractive('df-cd2519ee-8227-418e-a8d4-7147cf8b497b')\"\n",
              "              title=\"Convert this dataframe to an interactive table.\"\n",
              "              style=\"display:none;\">\n",
              "        \n",
              "  <svg xmlns=\"http://www.w3.org/2000/svg\" height=\"24px\"viewBox=\"0 0 24 24\"\n",
              "       width=\"24px\">\n",
              "    <path d=\"M0 0h24v24H0V0z\" fill=\"none\"/>\n",
              "    <path d=\"M18.56 5.44l.94 2.06.94-2.06 2.06-.94-2.06-.94-.94-2.06-.94 2.06-2.06.94zm-11 1L8.5 8.5l.94-2.06 2.06-.94-2.06-.94L8.5 2.5l-.94 2.06-2.06.94zm10 10l.94 2.06.94-2.06 2.06-.94-2.06-.94-.94-2.06-.94 2.06-2.06.94z\"/><path d=\"M17.41 7.96l-1.37-1.37c-.4-.4-.92-.59-1.43-.59-.52 0-1.04.2-1.43.59L10.3 9.45l-7.72 7.72c-.78.78-.78 2.05 0 2.83L4 21.41c.39.39.9.59 1.41.59.51 0 1.02-.2 1.41-.59l7.78-7.78 2.81-2.81c.8-.78.8-2.07 0-2.86zM5.41 20L4 18.59l7.72-7.72 1.47 1.35L5.41 20z\"/>\n",
              "  </svg>\n",
              "      </button>\n",
              "      \n",
              "  <style>\n",
              "    .colab-df-container {\n",
              "      display:flex;\n",
              "      flex-wrap:wrap;\n",
              "      gap: 12px;\n",
              "    }\n",
              "\n",
              "    .colab-df-convert {\n",
              "      background-color: #E8F0FE;\n",
              "      border: none;\n",
              "      border-radius: 50%;\n",
              "      cursor: pointer;\n",
              "      display: none;\n",
              "      fill: #1967D2;\n",
              "      height: 32px;\n",
              "      padding: 0 0 0 0;\n",
              "      width: 32px;\n",
              "    }\n",
              "\n",
              "    .colab-df-convert:hover {\n",
              "      background-color: #E2EBFA;\n",
              "      box-shadow: 0px 1px 2px rgba(60, 64, 67, 0.3), 0px 1px 3px 1px rgba(60, 64, 67, 0.15);\n",
              "      fill: #174EA6;\n",
              "    }\n",
              "\n",
              "    [theme=dark] .colab-df-convert {\n",
              "      background-color: #3B4455;\n",
              "      fill: #D2E3FC;\n",
              "    }\n",
              "\n",
              "    [theme=dark] .colab-df-convert:hover {\n",
              "      background-color: #434B5C;\n",
              "      box-shadow: 0px 1px 3px 1px rgba(0, 0, 0, 0.15);\n",
              "      filter: drop-shadow(0px 1px 2px rgba(0, 0, 0, 0.3));\n",
              "      fill: #FFFFFF;\n",
              "    }\n",
              "  </style>\n",
              "\n",
              "      <script>\n",
              "        const buttonEl =\n",
              "          document.querySelector('#df-cd2519ee-8227-418e-a8d4-7147cf8b497b button.colab-df-convert');\n",
              "        buttonEl.style.display =\n",
              "          google.colab.kernel.accessAllowed ? 'block' : 'none';\n",
              "\n",
              "        async function convertToInteractive(key) {\n",
              "          const element = document.querySelector('#df-cd2519ee-8227-418e-a8d4-7147cf8b497b');\n",
              "          const dataTable =\n",
              "            await google.colab.kernel.invokeFunction('convertToInteractive',\n",
              "                                                     [key], {});\n",
              "          if (!dataTable) return;\n",
              "\n",
              "          const docLinkHtml = 'Like what you see? Visit the ' +\n",
              "            '<a target=\"_blank\" href=https://colab.research.google.com/notebooks/data_table.ipynb>data table notebook</a>'\n",
              "            + ' to learn more about interactive tables.';\n",
              "          element.innerHTML = '';\n",
              "          dataTable['output_type'] = 'display_data';\n",
              "          await google.colab.output.renderOutput(dataTable, element);\n",
              "          const docLink = document.createElement('div');\n",
              "          docLink.innerHTML = docLinkHtml;\n",
              "          element.appendChild(docLink);\n",
              "        }\n",
              "      </script>\n",
              "    </div>\n",
              "  </div>\n",
              "  "
            ]
          },
          "metadata": {},
          "execution_count": 77
        }
      ]
    },
    {
      "cell_type": "code",
      "source": [
        "df_train['label'].value_counts()"
      ],
      "metadata": {
        "colab": {
          "base_uri": "https://localhost:8080/"
        },
        "id": "MZQbWAE_QLJQ",
        "outputId": "47763739-69b6-4d9c-8894-7a10018da47f"
      },
      "execution_count": 78,
      "outputs": [
        {
          "output_type": "execute_result",
          "data": {
            "text/plain": [
              "0    816\n",
              "1    642\n",
              "Name: label, dtype: int64"
            ]
          },
          "metadata": {},
          "execution_count": 78
        }
      ]
    },
    {
      "cell_type": "code",
      "source": [
        "df_train['target_name'].value_counts()"
      ],
      "metadata": {
        "colab": {
          "base_uri": "https://localhost:8080/"
        },
        "id": "a5U3-H0rQMy8",
        "outputId": "2ab9b424-dcec-4083-a68b-438757aa55f1"
      },
      "execution_count": 79,
      "outputs": [
        {
          "output_type": "execute_result",
          "data": {
            "text/plain": [
              "News         816\n",
              "Fake News    642\n",
              "Name: target_name, dtype: int64"
            ]
          },
          "metadata": {},
          "execution_count": 79
        }
      ]
    },
    {
      "cell_type": "code",
      "source": [
        "df_train = df_train.drop(['Unnamed: 0', 'target_name'], axis = 1)\n",
        "df_test = df_test.drop(['Unnamed: 0', 'target_name'], axis = 1)"
      ],
      "metadata": {
        "id": "rZUl2_lTINc4"
      },
      "execution_count": 80,
      "outputs": []
    },
    {
      "cell_type": "code",
      "source": [
        "df_train['len_data'] = df_train['data'].apply(lambda x: len(x))\n",
        "df_test['len_data'] = df_test['data'].apply(lambda x: len(x))"
      ],
      "metadata": {
        "id": "eJjTBcGhy-bx"
      },
      "execution_count": 81,
      "outputs": []
    },
    {
      "cell_type": "code",
      "source": [
        "df_train['log_len_data'] = np.log(df_train['len_data'])\n",
        "df_test['log_len_data'] = np.log(df_test['len_data'])"
      ],
      "metadata": {
        "id": "qBWNjwOSE3fN"
      },
      "execution_count": 82,
      "outputs": []
    },
    {
      "cell_type": "code",
      "source": [
        "df_train.head()"
      ],
      "metadata": {
        "colab": {
          "base_uri": "https://localhost:8080/",
          "height": 206
        },
        "id": "I9-l_EVbzQ4n",
        "outputId": "dab30bc3-6123-4c62-d523-a61304b0c8c0"
      },
      "execution_count": 83,
      "outputs": [
        {
          "output_type": "execute_result",
          "data": {
            "text/plain": [
              "                                                data  label  len_data  \\\n",
              "0  Au 22e jour consécutif de la grève reconductib...      0       631   \n",
              "1  Depuis plusieurs mois, les initiatives des che...      0      2610   \n",
              "2  Google vient d'introduire une  mise à jour  de...      0      2231   \n",
              "3  Portrait.  Chacun s’empresse autour d’elle tan...      0      2990   \n",
              "4  « Il n’y a pas de risque de pénurie » de carbu...      0      1296   \n",
              "\n",
              "   log_len_data  \n",
              "0      6.447306  \n",
              "1      7.867106  \n",
              "2      7.710205  \n",
              "3      8.003029  \n",
              "4      7.167038  "
            ],
            "text/html": [
              "\n",
              "  <div id=\"df-15461b1e-171f-4c09-a112-3c03a96a3019\">\n",
              "    <div class=\"colab-df-container\">\n",
              "      <div>\n",
              "<style scoped>\n",
              "    .dataframe tbody tr th:only-of-type {\n",
              "        vertical-align: middle;\n",
              "    }\n",
              "\n",
              "    .dataframe tbody tr th {\n",
              "        vertical-align: top;\n",
              "    }\n",
              "\n",
              "    .dataframe thead th {\n",
              "        text-align: right;\n",
              "    }\n",
              "</style>\n",
              "<table border=\"1\" class=\"dataframe\">\n",
              "  <thead>\n",
              "    <tr style=\"text-align: right;\">\n",
              "      <th></th>\n",
              "      <th>data</th>\n",
              "      <th>label</th>\n",
              "      <th>len_data</th>\n",
              "      <th>log_len_data</th>\n",
              "    </tr>\n",
              "  </thead>\n",
              "  <tbody>\n",
              "    <tr>\n",
              "      <th>0</th>\n",
              "      <td>Au 22e jour consécutif de la grève reconductib...</td>\n",
              "      <td>0</td>\n",
              "      <td>631</td>\n",
              "      <td>6.447306</td>\n",
              "    </tr>\n",
              "    <tr>\n",
              "      <th>1</th>\n",
              "      <td>Depuis plusieurs mois, les initiatives des che...</td>\n",
              "      <td>0</td>\n",
              "      <td>2610</td>\n",
              "      <td>7.867106</td>\n",
              "    </tr>\n",
              "    <tr>\n",
              "      <th>2</th>\n",
              "      <td>Google vient d'introduire une  mise à jour  de...</td>\n",
              "      <td>0</td>\n",
              "      <td>2231</td>\n",
              "      <td>7.710205</td>\n",
              "    </tr>\n",
              "    <tr>\n",
              "      <th>3</th>\n",
              "      <td>Portrait.  Chacun s’empresse autour d’elle tan...</td>\n",
              "      <td>0</td>\n",
              "      <td>2990</td>\n",
              "      <td>8.003029</td>\n",
              "    </tr>\n",
              "    <tr>\n",
              "      <th>4</th>\n",
              "      <td>« Il n’y a pas de risque de pénurie » de carbu...</td>\n",
              "      <td>0</td>\n",
              "      <td>1296</td>\n",
              "      <td>7.167038</td>\n",
              "    </tr>\n",
              "  </tbody>\n",
              "</table>\n",
              "</div>\n",
              "      <button class=\"colab-df-convert\" onclick=\"convertToInteractive('df-15461b1e-171f-4c09-a112-3c03a96a3019')\"\n",
              "              title=\"Convert this dataframe to an interactive table.\"\n",
              "              style=\"display:none;\">\n",
              "        \n",
              "  <svg xmlns=\"http://www.w3.org/2000/svg\" height=\"24px\"viewBox=\"0 0 24 24\"\n",
              "       width=\"24px\">\n",
              "    <path d=\"M0 0h24v24H0V0z\" fill=\"none\"/>\n",
              "    <path d=\"M18.56 5.44l.94 2.06.94-2.06 2.06-.94-2.06-.94-.94-2.06-.94 2.06-2.06.94zm-11 1L8.5 8.5l.94-2.06 2.06-.94-2.06-.94L8.5 2.5l-.94 2.06-2.06.94zm10 10l.94 2.06.94-2.06 2.06-.94-2.06-.94-.94-2.06-.94 2.06-2.06.94z\"/><path d=\"M17.41 7.96l-1.37-1.37c-.4-.4-.92-.59-1.43-.59-.52 0-1.04.2-1.43.59L10.3 9.45l-7.72 7.72c-.78.78-.78 2.05 0 2.83L4 21.41c.39.39.9.59 1.41.59.51 0 1.02-.2 1.41-.59l7.78-7.78 2.81-2.81c.8-.78.8-2.07 0-2.86zM5.41 20L4 18.59l7.72-7.72 1.47 1.35L5.41 20z\"/>\n",
              "  </svg>\n",
              "      </button>\n",
              "      \n",
              "  <style>\n",
              "    .colab-df-container {\n",
              "      display:flex;\n",
              "      flex-wrap:wrap;\n",
              "      gap: 12px;\n",
              "    }\n",
              "\n",
              "    .colab-df-convert {\n",
              "      background-color: #E8F0FE;\n",
              "      border: none;\n",
              "      border-radius: 50%;\n",
              "      cursor: pointer;\n",
              "      display: none;\n",
              "      fill: #1967D2;\n",
              "      height: 32px;\n",
              "      padding: 0 0 0 0;\n",
              "      width: 32px;\n",
              "    }\n",
              "\n",
              "    .colab-df-convert:hover {\n",
              "      background-color: #E2EBFA;\n",
              "      box-shadow: 0px 1px 2px rgba(60, 64, 67, 0.3), 0px 1px 3px 1px rgba(60, 64, 67, 0.15);\n",
              "      fill: #174EA6;\n",
              "    }\n",
              "\n",
              "    [theme=dark] .colab-df-convert {\n",
              "      background-color: #3B4455;\n",
              "      fill: #D2E3FC;\n",
              "    }\n",
              "\n",
              "    [theme=dark] .colab-df-convert:hover {\n",
              "      background-color: #434B5C;\n",
              "      box-shadow: 0px 1px 3px 1px rgba(0, 0, 0, 0.15);\n",
              "      filter: drop-shadow(0px 1px 2px rgba(0, 0, 0, 0.3));\n",
              "      fill: #FFFFFF;\n",
              "    }\n",
              "  </style>\n",
              "\n",
              "      <script>\n",
              "        const buttonEl =\n",
              "          document.querySelector('#df-15461b1e-171f-4c09-a112-3c03a96a3019 button.colab-df-convert');\n",
              "        buttonEl.style.display =\n",
              "          google.colab.kernel.accessAllowed ? 'block' : 'none';\n",
              "\n",
              "        async function convertToInteractive(key) {\n",
              "          const element = document.querySelector('#df-15461b1e-171f-4c09-a112-3c03a96a3019');\n",
              "          const dataTable =\n",
              "            await google.colab.kernel.invokeFunction('convertToInteractive',\n",
              "                                                     [key], {});\n",
              "          if (!dataTable) return;\n",
              "\n",
              "          const docLinkHtml = 'Like what you see? Visit the ' +\n",
              "            '<a target=\"_blank\" href=https://colab.research.google.com/notebooks/data_table.ipynb>data table notebook</a>'\n",
              "            + ' to learn more about interactive tables.';\n",
              "          element.innerHTML = '';\n",
              "          dataTable['output_type'] = 'display_data';\n",
              "          await google.colab.output.renderOutput(dataTable, element);\n",
              "          const docLink = document.createElement('div');\n",
              "          docLink.innerHTML = docLinkHtml;\n",
              "          element.appendChild(docLink);\n",
              "        }\n",
              "      </script>\n",
              "    </div>\n",
              "  </div>\n",
              "  "
            ]
          },
          "metadata": {},
          "execution_count": 83
        }
      ]
    },
    {
      "cell_type": "code",
      "source": [
        "fig,(ax1,ax2)=plt.subplots(2,2,figsize=(20,10))\n",
        "sns.histplot(data = df_train, x = 'len_data', hue = 'label', ax=ax1[0])\n",
        "sns.histplot(data = df_test, x = 'len_data', hue = 'label', ax = ax1[1])\n",
        "\n",
        "sns.histplot(data = df_train, x = 'log_len_data', hue = 'label', ax = ax2[0])\n",
        "sns.histplot(data = df_test, x = 'log_len_data', hue = 'label', ax = ax2[1])\n"
      ],
      "metadata": {
        "colab": {
          "base_uri": "https://localhost:8080/",
          "height": 626
        },
        "id": "dk8yVfQB7tC_",
        "outputId": "1fd73f21-fd0f-4c80-a29a-80ca612f600f"
      },
      "execution_count": 84,
      "outputs": [
        {
          "output_type": "execute_result",
          "data": {
            "text/plain": [
              "<matplotlib.axes._subplots.AxesSubplot at 0x7f0ee62e5790>"
            ]
          },
          "metadata": {},
          "execution_count": 84
        },
        {
          "output_type": "display_data",
          "data": {
            "text/plain": [
              "<Figure size 1440x720 with 4 Axes>"
            ],
            "image/png": "[encoded data removed]"
          },
          "metadata": {
            "needs_background": "light"
          }
        }
      ]
    },
    {
      "cell_type": "code",
      "source": [
        "import spacy \n",
        "!python3 -m spacy download fr_core_news_md\n",
        "from spacy.lang.fr.examples import sentences \n",
        "\n",
        "nlp = spacy.load(\"fr_core_news_md\")"
      ],
      "metadata": {
        "colab": {
          "base_uri": "https://localhost:8080/"
        },
        "id": "YFNNI0VD3ZHO",
        "outputId": "7de3ff4e-4bd7-4bc4-e724-a2120ce575c1"
      },
      "execution_count": 85,
      "outputs": [
        {
          "output_type": "stream",
          "name": "stdout",
          "text": [
            "Looking in indexes: https://pypi.org/simple, https://us-python.pkg.dev/colab-wheels/public/simple/\n",
            "Collecting fr-core-news-md==3.4.0\n",
            "  Downloading https://github.com/explosion/spacy-models/releases/download/fr_core_news_md-3.4.0/fr_core_news_md-3.4.0-py3-none-any.whl (45.8 MB)\n",
            "\u001b[K     |████████████████████████████████| 45.8 MB 1.7 MB/s \n",
            "\u001b[?25hRequirement already satisfied: spacy<3.5.0,>=3.4.0 in /usr/local/lib/python3.8/dist-packages (from fr-core-news-md==3.4.0) (3.4.4)\n",
            "Requirement already satisfied: langcodes<4.0.0,>=3.2.0 in /usr/local/lib/python3.8/dist-packages (from spacy<3.5.0,>=3.4.0->fr-core-news-md==3.4.0) (3.3.0)\n",
            "Requirement already satisfied: packaging>=20.0 in /usr/local/lib/python3.8/dist-packages (from spacy<3.5.0,>=3.4.0->fr-core-news-md==3.4.0) (21.3)\n",
            "Requirement already satisfied: preshed<3.1.0,>=3.0.2 in /usr/local/lib/python3.8/dist-packages (from spacy<3.5.0,>=3.4.0->fr-core-news-md==3.4.0) (3.0.8)\n",
            "Requirement already satisfied: cymem<2.1.0,>=2.0.2 in /usr/local/lib/python3.8/dist-packages (from spacy<3.5.0,>=3.4.0->fr-core-news-md==3.4.0) (2.0.7)\n",
            "Requirement already satisfied: smart-open<7.0.0,>=5.2.1 in /usr/local/lib/python3.8/dist-packages (from spacy<3.5.0,>=3.4.0->fr-core-news-md==3.4.0) (6.3.0)\n",
            "Requirement already satisfied: requests<3.0.0,>=2.13.0 in /usr/local/lib/python3.8/dist-packages (from spacy<3.5.0,>=3.4.0->fr-core-news-md==3.4.0) (2.23.0)\n",
            "Requirement already satisfied: spacy-legacy<3.1.0,>=3.0.10 in /usr/local/lib/python3.8/dist-packages (from spacy<3.5.0,>=3.4.0->fr-core-news-md==3.4.0) (3.0.10)\n",
            "Requirement already satisfied: setuptools in /usr/local/lib/python3.8/dist-packages (from spacy<3.5.0,>=3.4.0->fr-core-news-md==3.4.0) (57.4.0)\n",
            "Requirement already satisfied: thinc<8.2.0,>=8.1.0 in /usr/local/lib/python3.8/dist-packages (from spacy<3.5.0,>=3.4.0->fr-core-news-md==3.4.0) (8.1.5)\n",
            "Requirement already satisfied: pydantic!=1.8,!=1.8.1,<1.11.0,>=1.7.4 in /usr/local/lib/python3.8/dist-packages (from spacy<3.5.0,>=3.4.0->fr-core-news-md==3.4.0) (1.10.2)\n",
            "Requirement already satisfied: catalogue<2.1.0,>=2.0.6 in /usr/local/lib/python3.8/dist-packages (from spacy<3.5.0,>=3.4.0->fr-core-news-md==3.4.0) (2.0.8)\n",
            "Requirement already satisfied: wasabi<1.1.0,>=0.9.1 in /usr/local/lib/python3.8/dist-packages (from spacy<3.5.0,>=3.4.0->fr-core-news-md==3.4.0) (0.10.1)\n",
            "Requirement already satisfied: jinja2 in /usr/local/lib/python3.8/dist-packages (from spacy<3.5.0,>=3.4.0->fr-core-news-md==3.4.0) (2.11.3)\n",
            "Requirement already satisfied: pathy>=0.3.5 in /usr/local/lib/python3.8/dist-packages (from spacy<3.5.0,>=3.4.0->fr-core-news-md==3.4.0) (0.10.1)\n",
            "Requirement already satisfied: numpy>=1.15.0 in /usr/local/lib/python3.8/dist-packages (from spacy<3.5.0,>=3.4.0->fr-core-news-md==3.4.0) (1.21.6)\n",
            "Requirement already satisfied: spacy-loggers<2.0.0,>=1.0.0 in /usr/local/lib/python3.8/dist-packages (from spacy<3.5.0,>=3.4.0->fr-core-news-md==3.4.0) (1.0.4)\n",
            "Requirement already satisfied: typer<0.8.0,>=0.3.0 in /usr/local/lib/python3.8/dist-packages (from spacy<3.5.0,>=3.4.0->fr-core-news-md==3.4.0) (0.7.0)\n",
            "Requirement already satisfied: tqdm<5.0.0,>=4.38.0 in /usr/local/lib/python3.8/dist-packages (from spacy<3.5.0,>=3.4.0->fr-core-news-md==3.4.0) (4.64.1)\n",
            "Requirement already satisfied: murmurhash<1.1.0,>=0.28.0 in /usr/local/lib/python3.8/dist-packages (from spacy<3.5.0,>=3.4.0->fr-core-news-md==3.4.0) (1.0.9)\n",
            "Requirement already satisfied: srsly<3.0.0,>=2.4.3 in /usr/local/lib/python3.8/dist-packages (from spacy<3.5.0,>=3.4.0->fr-core-news-md==3.4.0) (2.4.5)\n",
            "Requirement already satisfied: pyparsing!=3.0.5,>=2.0.2 in /usr/local/lib/python3.8/dist-packages (from packaging>=20.0->spacy<3.5.0,>=3.4.0->fr-core-news-md==3.4.0) (3.0.9)\n",
            "Requirement already satisfied: typing-extensions>=4.1.0 in /usr/local/lib/python3.8/dist-packages (from pydantic!=1.8,!=1.8.1,<1.11.0,>=1.7.4->spacy<3.5.0,>=3.4.0->fr-core-news-md==3.4.0) (4.4.0)\n",
            "Requirement already satisfied: chardet<4,>=3.0.2 in /usr/local/lib/python3.8/dist-packages (from requests<3.0.0,>=2.13.0->spacy<3.5.0,>=3.4.0->fr-core-news-md==3.4.0) (3.0.4)\n",
            "Requirement already satisfied: urllib3!=1.25.0,!=1.25.1,<1.26,>=1.21.1 in /usr/local/lib/python3.8/dist-packages (from requests<3.0.0,>=2.13.0->spacy<3.5.0,>=3.4.0->fr-core-news-md==3.4.0) (1.24.3)\n",
            "Requirement already satisfied: certifi>=2017.4.17 in /usr/local/lib/python3.8/dist-packages (from requests<3.0.0,>=2.13.0->spacy<3.5.0,>=3.4.0->fr-core-news-md==3.4.0) (2022.12.7)\n",
            "Requirement already satisfied: idna<3,>=2.5 in /usr/local/lib/python3.8/dist-packages (from requests<3.0.0,>=2.13.0->spacy<3.5.0,>=3.4.0->fr-core-news-md==3.4.0) (2.10)\n",
            "Requirement already satisfied: blis<0.8.0,>=0.7.8 in /usr/local/lib/python3.8/dist-packages (from thinc<8.2.0,>=8.1.0->spacy<3.5.0,>=3.4.0->fr-core-news-md==3.4.0) (0.7.9)\n",
            "Requirement already satisfied: confection<1.0.0,>=0.0.1 in /usr/local/lib/python3.8/dist-packages (from thinc<8.2.0,>=8.1.0->spacy<3.5.0,>=3.4.0->fr-core-news-md==3.4.0) (0.0.3)\n",
            "Requirement already satisfied: click<9.0.0,>=7.1.1 in /usr/local/lib/python3.8/dist-packages (from typer<0.8.0,>=0.3.0->spacy<3.5.0,>=3.4.0->fr-core-news-md==3.4.0) (7.1.2)\n",
            "Requirement already satisfied: MarkupSafe>=0.23 in /usr/local/lib/python3.8/dist-packages (from jinja2->spacy<3.5.0,>=3.4.0->fr-core-news-md==3.4.0) (2.0.1)\n",
            "\u001b[38;5;2m✔ Download and installation successful\u001b[0m\n",
            "You can now load the package via spacy.load('fr_core_news_md')\n"
          ]
        }
      ]
    },
    {
      "cell_type": "code",
      "source": [
        "fig,(ax1,ax2)=plt.subplots(1,2,figsize=(20,5))\n",
        "word=df_train[df_train['label']==1]['data'].str.split().apply(lambda x : [len(i) for i in x])\n",
        "sns.distplot(word.map(lambda x: np.mean(x)),ax=ax1,color='blue')\n",
        "ax1.set_title('fake')\n",
        "word=df_train[df_train['label']==0]['data'].str.split().apply(lambda x : [len(i) for i in x])\n",
        "sns.distplot(word.map(lambda x: np.mean(x)),ax=ax2,color='red')\n",
        "ax2.set_title('News')\n",
        "fig.suptitle('Average word length in each tweet')"
      ],
      "metadata": {
        "colab": {
          "base_uri": "https://localhost:8080/",
          "height": 551
        },
        "id": "Gs0Xs3Rg6qLq",
        "outputId": "c46d98c0-34c5-4802-898f-02562c7cc6a7"
      },
      "execution_count": 86,
      "outputs": [
        {
          "output_type": "stream",
          "name": "stderr",
          "text": [
            "/usr/local/lib/python3.8/dist-packages/numpy/core/fromnumeric.py:3440: RuntimeWarning: Mean of empty slice.\n",
            "  return _methods._mean(a, axis=axis, dtype=dtype,\n",
            "/usr/local/lib/python3.8/dist-packages/numpy/core/_methods.py:189: RuntimeWarning: invalid value encountered in double_scalars\n",
            "  ret = ret.dtype.type(ret / rcount)\n",
            "/usr/local/lib/python3.8/dist-packages/seaborn/distributions.py:2619: FutureWarning: `distplot` is a deprecated function and will be removed in a future version. Please adapt your code to use either `displot` (a figure-level function with similar flexibility) or `histplot` (an axes-level function for histograms).\n",
            "  warnings.warn(msg, FutureWarning)\n",
            "/usr/local/lib/python3.8/dist-packages/seaborn/distributions.py:2619: FutureWarning: `distplot` is a deprecated function and will be removed in a future version. Please adapt your code to use either `displot` (a figure-level function with similar flexibility) or `histplot` (an axes-level function for histograms).\n",
            "  warnings.warn(msg, FutureWarning)\n"
          ]
        },
        {
          "output_type": "execute_result",
          "data": {
            "text/plain": [
              "Text(0.5, 0.98, 'Average word length in each tweet')"
            ]
          },
          "metadata": {},
          "execution_count": 86
        },
        {
          "output_type": "display_data",
          "data": {
            "text/plain": [
              "<Figure size 1440x360 with 2 Axes>"
            ],
            "image/png": "[encoded data removed]"
          },
          "metadata": {
            "needs_background": "light"
          }
        }
      ]
    },
    {
      "cell_type": "code",
      "source": [
        "def create_corpus(df, label):\n",
        "    corpus=[]\n",
        "    \n",
        "    for x in df[df['label']==label]['data'].str.split():\n",
        "        for i in x:\n",
        "            corpus.append(i)\n",
        "    return corpus"
      ],
      "metadata": {
        "id": "07sv3eQN9s99"
      },
      "execution_count": 87,
      "outputs": []
    },
    {
      "cell_type": "code",
      "source": [
        "corpus=create_corpus(df_train, 0)\n",
        "dic=defaultdict(int)\n",
        "for word in corpus:\n",
        "    dic[word]+=1\n",
        "        \n",
        "top=sorted(dic.items(), key=lambda x:x[1],reverse=True)[:10]\n",
        "\n",
        "plt.figure(figsize=(16,5))\n",
        "counter=Counter(corpus)\n",
        "most=counter.most_common()\n",
        "x=[]\n",
        "y=[]\n",
        "for word,count in most[:10]:\n",
        "    x.append(word)\n",
        "    y.append(count)\n",
        "\n",
        "sns.barplot(x=y,y=x)"
      ],
      "metadata": {
        "id": "fCcz_Oa8jJ6I",
        "outputId": "352e19d9-81fa-4aef-96d1-d171df832a82",
        "colab": {
          "base_uri": "https://localhost:8080/",
          "height": 338
        }
      },
      "execution_count": 88,
      "outputs": [
        {
          "output_type": "execute_result",
          "data": {
            "text/plain": [
              "<matplotlib.axes._subplots.AxesSubplot at 0x7f0d9ec41670>"
            ]
          },
          "metadata": {},
          "execution_count": 88
        },
        {
          "output_type": "display_data",
          "data": {
            "text/plain": [
              "<Figure size 1152x360 with 1 Axes>"
            ],
            "image/png": "[encoded data removed]"
          },
          "metadata": {
            "needs_background": "light"
          }
        }
      ]
    },
    {
      "cell_type": "code",
      "source": [
        "corpus=create_corpus(df_train, 1)\n",
        "dic=defaultdict(int)\n",
        "for word in corpus:\n",
        "    dic[word]+=1\n",
        "        \n",
        "top=sorted(dic.items(), key=lambda x:x[1],reverse=True)[:10]\n",
        "\n",
        "plt.figure(figsize=(16,5))\n",
        "counter=Counter(corpus)\n",
        "most=counter.most_common()\n",
        "x=[]\n",
        "y=[]\n",
        "for word,count in most[:10]:\n",
        "    x.append(word)\n",
        "    y.append(count)\n",
        "\n",
        "sns.barplot(x=y,y=x)"
      ],
      "metadata": {
        "id": "V0oRdeEPjLrr",
        "outputId": "1236cf30-ff4b-4093-cdd8-9d5b9a15ffe8",
        "colab": {
          "base_uri": "https://localhost:8080/",
          "height": 338
        }
      },
      "execution_count": 89,
      "outputs": [
        {
          "output_type": "execute_result",
          "data": {
            "text/plain": [
              "<matplotlib.axes._subplots.AxesSubplot at 0x7f0d974a2610>"
            ]
          },
          "metadata": {},
          "execution_count": 89
        },
        {
          "output_type": "display_data",
          "data": {
            "text/plain": [
              "<Figure size 1152x360 with 1 Axes>"
            ],
            "image/png": "[encoded data removed]"
          },
          "metadata": {
            "needs_background": "light"
          }
        }
      ]
    },
    {
      "cell_type": "code",
      "source": [
        "import re\n",
        "\n",
        "REPLACE_BY_SPACE_RE = re.compile('[/(){}\\|@,;]')\n",
        "BAD_SYMBOLS_RE = re.compile('[^0-9a-zÀ-ÿ #+_]')\n",
        "STOPWORDS = set(stopwords.words('french'))\n",
        "\n",
        "new_stopwords = {\"a\", \"comme\", \"cette\", \"dun\", \"dune\", \"plus\", 'cest', \"aussi\", \"deux\", 'fait', \"depuis\", \"faire\", \"tout\", \"si\", \"où\"}\n",
        "STOPWORDS = STOPWORDS | new_stopwords\n",
        "\n",
        "def clean_text(text):\n",
        "    text = text.lower() # lowercase text\n",
        "    text = REPLACE_BY_SPACE_RE.sub(' ', text)\n",
        "    text = BAD_SYMBOLS_RE.sub('', text)\n",
        "    text = ' '.join(word for word in text.split() if word not in STOPWORDS) # remove stopwors from text\n",
        "    return text"
      ],
      "metadata": {
        "id": "EBN7OZ_bjhD7"
      },
      "execution_count": 101,
      "outputs": []
    },
    {
      "cell_type": "code",
      "source": [
        "df_train['data'] = df_train[\"data\"].apply(lambda x : clean_text(x))\n",
        "df_test['data'] = df_test[\"data\"].apply(lambda x : clean_text(x))"
      ],
      "metadata": {
        "id": "oftdqJmoqAmM"
      },
      "execution_count": 102,
      "outputs": []
    },
    {
      "cell_type": "code",
      "source": [
        "corpus=create_corpus(df_train, 0)\n",
        "dic=defaultdict(int)\n",
        "for word in corpus:\n",
        "    dic[word]+=1\n",
        "        \n",
        "top=sorted(dic.items(), key=lambda x:x[1],reverse=True)[:10]\n",
        "\n",
        "plt.figure(figsize=(16,10))\n",
        "counter=Counter(corpus)\n",
        "most=counter.most_common()\n",
        "x=[]\n",
        "y=[]\n",
        "for word,count in most[:40]:\n",
        "    x.append(word)\n",
        "    y.append(count)\n",
        "\n",
        "sns.barplot(x=y,y=x)"
      ],
      "metadata": {
        "id": "I0agTKeZj1VE",
        "outputId": "80d66a91-fb65-451c-96f6-854bfbe72afa",
        "colab": {
          "base_uri": "https://localhost:8080/",
          "height": 610
        }
      },
      "execution_count": 105,
      "outputs": [
        {
          "output_type": "execute_result",
          "data": {
            "text/plain": [
              "<matplotlib.axes._subplots.AxesSubplot at 0x7f0d9e756250>"
            ]
          },
          "metadata": {},
          "execution_count": 105
        },
        {
          "output_type": "display_data",
          "data": {
            "text/plain": [
              "<Figure size 1152x720 with 1 Axes>"
            ],
            "image/png": "[encoded data removed]"
          },
          "metadata": {
            "needs_background": "light"
          }
        }
      ]
    },
    {
      "cell_type": "code",
      "source": [
        "corpus=create_corpus(df_train, 1)\n",
        "dic=defaultdict(int)\n",
        "for word in corpus:\n",
        "    dic[word]+=1\n",
        "        \n",
        "top=sorted(dic.items(), key=lambda x:x[1],reverse=True)[:20]\n",
        "\n",
        "plt.figure(figsize=(16,10))\n",
        "counter=Counter(corpus)\n",
        "most=counter.most_common()\n",
        "x=[]\n",
        "y=[]\n",
        "for word,count in most[:40]:\n",
        "    x.append(word)\n",
        "    y.append(count)\n",
        "\n",
        "sns.barplot(x=y,y=x)"
      ],
      "metadata": {
        "id": "oGczLkzWoTia",
        "outputId": "07c42d36-35cf-469e-f4f1-848736a5ca94",
        "colab": {
          "base_uri": "https://localhost:8080/",
          "height": 610
        }
      },
      "execution_count": 107,
      "outputs": [
        {
          "output_type": "execute_result",
          "data": {
            "text/plain": [
              "<matplotlib.axes._subplots.AxesSubplot at 0x7f0d9ec265b0>"
            ]
          },
          "metadata": {},
          "execution_count": 107
        },
        {
          "output_type": "display_data",
          "data": {
            "text/plain": [
              "<Figure size 1152x720 with 1 Axes>"
            ],
            "image/png": "[encoded data removed]"
          },
          "metadata": {
            "needs_background": "light"
          }
        }
      ]
    },
    {
      "cell_type": "code",
      "source": [
        "for idx, di in enumerate(df_train['data']): \n",
        "  text = di.split()\n",
        "  if \"islam\" in text: \n",
        "    print(idx)"
      ],
      "metadata": {
        "id": "CPiVpDjas1Lo",
        "outputId": "6703815e-c3f2-4096-9149-6ab8f5435f46",
        "colab": {
          "base_uri": "https://localhost:8080/"
        }
      },
      "execution_count": 118,
      "outputs": [
        {
          "output_type": "stream",
          "name": "stdout",
          "text": [
            "153\n",
            "520\n",
            "1136\n"
          ]
        }
      ]
    },
    {
      "cell_type": "code",
      "source": [
        "df_train.iloc[1136].data"
      ],
      "metadata": {
        "id": "JoT-BGFms_wg",
        "outputId": "7ce44b38-1f79-48df-ffe4-533c0b6111ab",
        "colab": {
          "base_uri": "https://localhost:8080/",
          "height": 1000
        }
      },
      "execution_count": 123,
      "outputs": [
        {
          "output_type": "execute_result",
          "data": {
            "text/plain": [
              "'juin 2019 sapeurspompiers toute france déposé préavis grève dénonçant leurs conditions travail réunis paris mardi 15 octobre 2019 manifestation denvergure leurs revendications sécurité retraite assurée revalorisation prime feu moyens parti république début daprèsmidi cortège devait disperser nation vers 18 heures dautres manifestations déjà lieu derniers mois notamment versailles yvelines pardon faisait linformation faut cela cesse immédiatement islam islam islam islam islam islam islam islam islam islam islam islam islam islam islam islam islam islam islam islam islam islam islam islam islam islam islam islam islam islam islam islam islam islam islam islam islam islam islam islam islam islam islam islam islam islam islam islam islam islam islam islam islam islam islam islam islam islam islam islam islam islam islam islam islam islam islam islam islam islam islam islam islam islam islam islam islam islam islam islam islam islam islam islam islam islam islam islam islam islam islam islam islam islam islam islam islam islam islam islam islam islam islam islam islam islam islam islam islam islam islam islam islam islam islam islam islam islam islam islam islam islam islam islam islam islam islam islam islam islam islam islam islam islam islam islam islam islam islam islam islam islam islam islam islam islam islam islam islam islam islam islam islam islam islam islam islam islam islam islam islam islam islam islam islam islam islam islam islam islam islam islam islam islam islam islam islam islam islam islam islam islam islam islam islam islam islam islam islam islam islam islam islam islam islam islam islam islam islam islam islam islam islam islam islam islam islam islam islam islam islam islam islam islam islam islam islam islam islam islam islam islam islam islam islam islam islam islam islam islam islam islam islam islam islam islam islam islam islam islam islam islam islam islam islam islam islam islam islam islam islam islam islam islam islam islam islam islam islam islam islam islam islam islam islam islam islam islam islam islam islam islam islam islam islam islam islam islam islam islam islam islam islam islam islam islam islam islam islam islam islam islam islam islam islam islam islam islam islam islam islam islam islam islam islam islam islam islam islam islam islam islam islam islam islam islam islam islam islam islam islam islam islam islam islam islam islam islam islam islam islam islam islam islam islam islam islam islam islam islam islam islam islam islam islam islam islam islam islam islam islam islam islam islam islam islam islam islam islam islam islam islam islam islam islam islam islam islam islam islam islam islam islam islam islam islam islam islam islam islam islam islam islam islam islam islam islam islam islam islam islam islam islam islam islam islam islam islam islam islam islam islam islam islam islam islam islam islam islam islam islam islam islam islam islam islam islam islam islam islam islam islam islam islam islam islam islam islam islam islam islam islam islam islam islam islam islam islam islam islam islam islam islam islam islam islam islam islam islam islam islam islam islam islam islam islam islam islam islam islam islam islam islam islam islam islam islam islam islam islam islam islam islam islam islam islam islam islam islam islam islam islam islam islam islam islam islam islam islam islam islam islam islam islam islam islam islam islam islam islam islam islam islam islam islam islam islam islam islam islam islam islam islam islam islam islam islam islam islam islam islam islam islam islam islam islam islam islam islam islam islam islam islam islam islam islam islam islam islam islam islam islam islam islam islam islam islam islam islam islam islam islam islam islam islam islam islam islam islam islam islam islam islam islam islam islam islam islam islam islam islam islam islam islam islam islam islam islam islam islam islam islam islam islam islam islam islam islam islam islam islam islam islam islam islam islam islam islam islam islam islam islam islam islam islam islam islam islam islam islam islam islam islam islam islam islam islam islam islam islam islam islam islam islam islam islam islam islam islam islam islam islam islam islam islam islam islam islam islam islam islam islam islam islam islam islam islam islam islam islam islam islam islam islam islam islam islam islam islam islam islam islam islam islam islam islam islam islam islam islam islam islam islam islam islam islam islam islam islam islam islam islam islam islam islam islam islam islam islam islam islam islam islam islam islam islam islam islam islam islam islam islam islam islam islam islam islam islam islam islam islam islam islam islam islam islam islam islam islam islam islam islam islam islam islam islam islam islam islam islam islam islam islam islam islam islam islam islam islam islam islam islam islam islam islam islam islam islam islam islam islam islam islam islam islam islam islam islam islam islam islam islam islam islam islam islam islam islam islam islam islam islam islam islam islam islam islam islam islam islam islam islam islam islam islam islam islam islam islam islam islam islam islam islam islam islam islam islam islam islam islam islam islam islam islam islam islam islam islam islam islam islam islam islam islam islam islam islam islam islam islam islam islam islam islam islam islam islam islam islam islam islam islam islam islam islam islam islam islam islam islam islam islam islam islam islam islam islam islam islam islam islam islam islam islam islam islam islam islam islam islam islam islam islam islam islam islam islam islam islam islam islam islam islam islam islam islam islam islam islam islam islam islam islam islam islam islam islam islam islam islam islam islam islam islam islam islam islam islam islam islam islam islam islam islam islam islam islam islam islam islam islam islam islam islam islam islam islam islam islam islam islam islam islam islam islam islam islam islam islam islam islam islam islam islam islam islam islam islam islam islam islam islam islam islam islam islam islam islam islam islam islam islam islam islam islam islam islam islam islam islam islam islam islam islam islam islam islam islam islam islam islam islam islam islam islam islam islam islam islam islam islam islam islam islam islam islam islam islam islam islam islam islam islam islam islam islam islam islam islam islam islam islam islam islam islam islam islam islam islam islam islam islam islam islam islam islam islam islam islam islam islam islam islam islam islam islam islam islam islam islam islam islam islam islam islam islam islam islam islam islam islam islam islam islam islam islam islam islam islam islam islam islam islam islam islam islam islam islam islam islam islam islam islam islam islam islam islam islam islam islam islam islam islam islam islam islam islam islam islam islam islam islam islam islam islam islam islam islam islam islam islam islam islam islam islam islam islam islam islam islam islam islam islam islam islam islam islam islam islam islam islam islam islam islam islam islam islam islam islam islam islam islam islam islam islam islam islam islam islam islam islam islam islam islam islam islam islam islam islam islam islam islam islam islam islam islam islam islam islam islam islam islam islam islam islam islam islam islam islam islam islam islam islam islam islam islam islam islam islam islam islam islam islam islam islam islam islam islam islam islam islam islam islam islam islam islam islam islam islam islam islam islam islam islam islam islam islam islam islam islam islam islam islam islam islam islam islam islam islam islam islam islam islam islam islam islam islam islam islam islam islam islam islam islam islam islam islam islam islam islam islam islam islam islam islam islam islam islam islam islam islam islam islam islam islam islam islam islam islam islam islam islam islam islam islam islam islam islam islam islam islam islam islam islam islam islam islam islam islam islam islam islam islam islam islam islam islam islam islam islam islam islam islam islam islam islam islam islam islam islam islam islam islam islam islam islam islam islam islam islam islam islam islam islam islam islam islam islam islam islam islam islam islam islam islam islam islam islam islam islam islam islam islam islam islam islam islam islam islam islam islam islam islam islam islam islam islam islam islam islam islam islam islam islam islam islam islam islam islam islam islam islam islam islam islam islam islam islam islam islam islam islam islam islam islam islam islam islam islam islam islam islam islam islam islam islam islam islam islam islam islam islam islam islam islam islam islam islam islam islam islam islam islam islam islam islam islam islam islam islam islam islam islam islam islam islam islam islam islam islam islam islam islam islam islam islam islam islam islam islam islam islam islam islam islam islam islam islam islam islam islam islam islam islam islam islam islam islam islam islam islam islam islam islam islam islam islam islam islam islam islam islam islam islam islam islam islam islam islam islam islam islam islam islam islam islam islam islam islam islam islam islam islam islam islam islam islam islam islam islam islam islam islam islam islam islam islam islam islam islam islam islam islam islam islam islam islam islam islam islam islam islam islam islam islam islam islam islam islam islam islam islam islam islam islam islam islam islam islam islam islam islam islam islam islam islam islam islam islam islam islam islam islam islam islam islam islam islam islam islam islam islam islam islam islam islam islam islam islam islam islam islam islam islam islam islam islam islam islam islam islam islam islam islam islam islam islam islam islam islam islam islam islam islam islam islam islam islam islam islam islam islam islam islam islam islam islam islam islam islam islam islam islam islam islam islam islam islam islam islam islam islam islam islam islam islam islam islam islam islam islam islam islam islam islam islam islam islam islam islam islam islam islam islam islam islam islam islam islam islam islam islam islam islam islam islam islam islam islam islam islam islam islam islam islam islam islam islam islam islam islam islam islam islam islam islam islam islam islam islam islam islam islam islam islam islam islam islam islam islam islam islam islam islam islam islam islam islam islam islam islam islam islam islam islam islam islam islam islam islam islam islam islam islam islam islam islam islam islam islam islam islam islam islam islam islam islam islam islam islam islam islam islam islam islam islam islam islam islam islam islam islam islam islam islam islam islam islam islam islam islam islam islam islam islam islam islam islam islam islam islam islam islam islam islam islam islam islam islam islam islam islam islam islam islam islam islam islam islam islam islam islam islam islam islam islam islam islam islam islam islam islam islam islam islam islam islam islam islam islam islam islam islam islam islam islam islam islam islam islam islam islam islam islam islam islam islam islam islam islam islam islam islam islam islam islam islam islam islam islam islam islam islam islam islam islam islam islam islam islam islam islam islam islam islam islam islam islam islam islam islam islam islam islam islam islam islam islam islam islam islam islam islam islam islam islam islam islam islam islam islam islam islam islam islam islam islam islam islam islam islam islam islam islam islam islam islam islam islam islam islam islam islam islam islam islam islam islam islam islam islam islam islam islam islam islam islam islam islam islam islam islam islam islam islam islam islam islam islam islam islam islam islam islam islam islam islam islam islam islam islam islam islam islam islam islam islam islam islam islam islam islam islam islam islam islam islam islam islam islam islam islam islam islam islam islam islam islam islam islam islam islam islam islam islam islam islam islam islam islam islam islam islam islam islam islam islam islam islam islam islam islam islam islam islam islam islam islam islam islam islam islam islam islam islam islam islam islam islam islam islam islam islam islam islam islam islam islam islam islam islam islam islam islam islam islam islam islam islam islam islam islam islam islam islam islam islam islam islam islam islam islam islam islam islam islam islam islam islam islam islam islam islam islam islam islam islam islam islam islam islam islam islam islam islam islam islam islam islam islam islam islam islam islam islam islam islam islam islam islam islam islam islam islam islam islam islam islam islam islam islam islam islam islam islam islam islam islam islam islam islam islam islam islam islam islam islam islam islam islam islam islam islam islam islam islam islam islam islam islam islam islam islam islam islam islam islam islam islam islam islam islam islam islam islam islam islam islam islam islam islam islam islam islam islam islam islam islam islam islam islam islam islam islam islam islam islam islam islam islam islam islam islam islam islam islam islam islam islam islam islam islam islam islam islam islam islam islam islam islam islam islam islam islam islam islam islam islam islam islam islam islam islam islam islam islam islam islam islam islam islam islam islam islam islam islam islam islam islam islam islam islam islam islam islam islam islam islam islam islam islam islam islam islam islam islam islam islam islam islam islam islam islam islam islam islam islam islam islam islam islam islam islam islam islam islam islam islam islam islam islam islam islam islam islam islam islam islam islam islam islam islam islam islam islam islam islam islam islam islam islam islam islam islam islam islam islam islam islam islam islam islam islam islam islam islam islam islam islam islam islam islam islam islam islam islam islam islam islam islam islam islam islam islam islam islam islam islam islam islam islam islam islam islam islam islam islam islam islam islam islam islam islam islam islam islam islam islam islam islam islam islam islam islam islam islam islam islam islam islam islam islam islam islam islam islam islam islam islam islam islam islam islam islam islam islam islam islam islam islam islam islam islam islam islam islam islam islam islam islam islam islam islam islam islam islam islam islam islam islam islam islam islam islam islam islam islam islam islam islam islam islam islam islam islam islam islam islam islam islam islam islam islam islam islam islam islam islam islam islam islam islam islam islam islam islam islam islam islam islam islam islam islam islam islam islam islam islam islam islam islam islam islam islam islam islam islam islam islam islam islam islam islam islam islam islam islam islam islam islam islam islam islam islam islam islam islam islam islam islam islam islam islam islam islam islam islam islam islam islam islam islam islam islam islam islam islam islam islam islam islam islam islam islam islam islam islam islam islam islam islam islam islam islam islam islam islam islam islam islam islam islam islam islam islam islam islam islam islam islam islam islam islam islam islam islam islam islam islam islam islam islam islam islam islam islam islam islam islam islam islam islam islam islam islam islam islam islam islam islam islam islam islam islam islam islam islam islam islam islam islam islam islam islam islam islam islam islam islam islam islam islam islam islam islam islam islam islam islam islam islam islam islam islam islam islam islam islam islam islam islam islam islam islam islam islam islam islam islam islam islam islam islam islam islam islam islam islam islam islam islam islam islam islam islam islam islam islam islam islam islam islam islam islam islam islam islam islam islam islam islam islam islam islam islam islam islam islam islam islam islam islam islam islam islam islam islam islam islam islam islam islam islam islam islam islam islam islam islam islam islam islam islam islam islam islam islam islam islam islam islam islam islam islam islam islam islam islam islam islam islam islam islam islam islam islam islam islam islam islam islam islam islam islam islam islam islam islam islam islam islam islam islam islam islam islam islam islam islam islam islam islam islam islam islam islam islam islam islam islam islam islam islam islam islam islam islam islam islam islam islam islam islam islam islam islam islam islam islam islam islam islam islam islam islam islam islam islam islam islam islam islam islam islam islam islam islam islam islam islam islam islam islam islam islam islam islam islam islam islam islam islam islam islam islam islam islam islam islam islam islam islam islam islam islam islam islam islam islam islam islam islam islam islam islam islam islam islam islam islam islam islam islam islam islam islam islam islam islam islam islam islam islam islam islam islam islam islam islam islam islam islam islam islam islam islam islam islam islam islam islam islam islam islam islam islam islam islam islam islam islam islam islam islam islam islam islam islam islam islam islam islam islam islam islam islam islam islam islam islam islam islam islam islam islam islam islam islam islam islam islam islam islam islam islam islam islam islam islam islam islam islam islam islam islam islam islam islam islam islam islam islam islam islam islam islam islam islam islam islam islam islam islam islam islam islam islam islam islam islam islam islam islam islam islam islam islam islam islam islam islam islam islam islam islam islam islam islam islam islam islam islam islam islam islam islam islam islam islam islam islam islam islam islam islam islam islam islam islam islam islam islam islam islam islam islam islam islam islam islam islam islam islam islam islam islam islam islam islam islam islam islam islam islam islam islam islam islam islam islam islam islam islam islam islam islam islam islam islam islam islam islam islam islam islam islam islam islam islam islam islam islam islam islam islam islam islam islam islam islam islam islam islam islam islam islam islam islam islam islam islam islam islam islam islam islam islam islam islam islam islam islam islam islam islam islam islam islam islam islam islam islam islam islam islam islam islam islam islam islam islam islam islam islam islam islam islam islam islam islam islam islam islam islam islam islam islam islam islam islam islam islam islam islam islam islam islam islam islam islam islam islam islam islam islam islam islam islam islam islam islam islam islam islam islam islam islam islam islam islam islam islam islam islam islam islam islam islam islam islam islam islam islam islam islam islam islam islam islam islam islam islam islam islam islam islam islam islam islam islam islam islam islam islam islam islam islam islam islam islam islam islam islam islam islam islam islam islam islam islam islam islam islam islam islam islam islam islam islam islam islam islam islam islam islam islam islam islam islam islam islam islam islam islam islam islam islam islam islam islam islam islam islam islam islam islam islam islam islam islam islam islam islam islam islam islam islam islam islam islam islam islam islam islam islam islam islam islam islam islam islam islam islam islam islam islam islam islam islam islam islam islam islam islam islam islam islam islam islam islam islam islam islam islam islam islam islam islam islam islam islam islam islam islam islam islam islam islam islam islam islam islam islam islam islam islam islam islam islam islam islam islam islam islam islam islam islam islam islam islam islam islam islam islam islam islam islam islam islam islam islam islam islam islam islam islam islam islam islam islam islam islam islam islam islam islam islam islam islam islam islam islam islam islam islam islam islam islam islam islam islam islam islam islam islam islam islam bite islam islam islam islam islam islam islam islam islam islam islam islam islam islam islam islam islam islam islam islam islam islam islam islam islam islam islam islam islam islam islam islam islam islam islam islam islam islam islam islam islam islam islam islam islam islam islam islam islam islam islam islam islam islam islam islam islam islam islam islam islam islam islam islam islam islam islam islam islam islam islam islam islam islam islam islam islam islam islam islam islam islam islam islam islam islam islam islam islam islam islam islam islam islam islam islam islam islam islam islam islam islam islam islam islam islam islam islam islam islam islam islam islam islam islam islam islam islam islam islam islam islam islam islam islam islam islam islam islam islam islam islam islam islam islam islam islam islam islam islam islam islam islam islam islam islam islam islam islam islam islam islam islam islam islam islam islam islam islam islam islam islam islam islam islam islam islam islam islam islam islam islam'"
            ],
            "application/vnd.google.colaboratory.intrinsic+json": {
              "type": "string"
            }
          },
          "metadata": {},
          "execution_count": 123
        }
      ]
    },
    {
      "cell_type": "code",
      "source": [],
      "metadata": {
        "id": "WKPtS7f3txDb"
      },
      "execution_count": null,
      "outputs": []
    }
  ]
}