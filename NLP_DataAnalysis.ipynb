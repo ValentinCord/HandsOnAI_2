{
  "nbformat": 4,
  "nbformat_minor": 0,
  "metadata": {
    "colab": {
      "provenance": [],
      "authorship_tag": "ABX9TyOUVPydz/OJ50w/yzg8WmYa",
      "include_colab_link": true
    },
    "kernelspec": {
      "name": "python3",
      "display_name": "Python 3"
    },
    "language_info": {
      "name": "python"
    },
    "accelerator": "GPU",
    "gpuClass": "standard"
  },
  "cells": [
    {
      "cell_type": "markdown",
      "metadata": {
        "id": "view-in-github",
        "colab_type": "text"
      },
      "source": [
        "<a href=\"https://colab.research.google.com/github/ValentinCord/HandsOnAI_2/blob/main/NLP_DataAnalysis.ipynb\" target=\"_parent\"><img src=\"https://colab.research.google.com/assets/colab-badge.svg\" alt=\"Open In Colab\"/></a>"
      ]
    },
    {
      "cell_type": "code",
      "source": [
        "# basics \n",
        "import os\n",
        "import numpy as np\n",
        "import pandas as pd\n",
        "from sklearn.metrics import accuracy_score\n",
        "from google.colab import drive\n",
        "import re\n",
        "\n",
        "# nltk \n",
        "from collections import defaultdict\n",
        "from collections import Counter\n",
        "import nltk\n",
        "nltk.download('stopwords')\n",
        "from nltk.corpus import stopwords\n",
        "stop=set(stopwords.words('french'))\n",
        "\n",
        "# plot \n",
        "import matplotlib.pyplot as plt \n",
        "import seaborn as sns "
      ],
      "metadata": {
        "id": "IItKtGo1O8yQ",
        "colab": {
          "base_uri": "https://localhost:8080/"
        },
        "outputId": "54cd388f-25cb-46df-b914-747a6e680e7d"
      },
      "execution_count": 327,
      "outputs": [
        {
          "output_type": "stream",
          "name": "stderr",
          "text": [
            "[nltk_data] Downloading package stopwords to /root/nltk_data...\n",
            "[nltk_data]   Package stopwords is already up-to-date!\n"
          ]
        }
      ]
    },
    {
      "cell_type": "code",
      "source": [
        "drive.mount('/content/drive', force_remount=True)"
      ],
      "metadata": {
        "colab": {
          "base_uri": "https://localhost:8080/"
        },
        "id": "fGXyKBKhQAVX",
        "outputId": "2531282e-eb27-4317-9212-0f6704e1c161"
      },
      "execution_count": 328,
      "outputs": [
        {
          "output_type": "stream",
          "name": "stdout",
          "text": [
            "Mounted at /content/drive\n"
          ]
        }
      ]
    },
    {
      "cell_type": "markdown",
      "source": [
        "# Lecture et analyse pandas"
      ],
      "metadata": {
        "id": "quksqXzGSHdX"
      }
    },
    {
      "cell_type": "code",
      "source": [
        "train_path = '/content/drive/MyDrive/HandOnAI_2_NLP/fake_train.csv'\n",
        "test_path = '/content/drive/MyDrive/HandOnAI_2_NLP/fake_test.csv'"
      ],
      "metadata": {
        "id": "tn28aeSpQpJn"
      },
      "execution_count": 329,
      "outputs": []
    },
    {
      "cell_type": "code",
      "source": [
        "df_train = pd.read_csv(train_path)\n",
        "df_test = pd.read_csv(test_path)"
      ],
      "metadata": {
        "id": "tiOqzZa_QBHP"
      },
      "execution_count": 330,
      "outputs": []
    },
    {
      "cell_type": "code",
      "source": [
        "df_train.head()"
      ],
      "metadata": {
        "colab": {
          "base_uri": "https://localhost:8080/",
          "height": 206
        },
        "id": "rdN07nGKSwcN",
        "outputId": "ad357a35-28b5-48f7-fe56-44c80350f98f"
      },
      "execution_count": 331,
      "outputs": [
        {
          "output_type": "execute_result",
          "data": {
            "text/plain": [
              "   Unnamed: 0                                               data  label  \\\n",
              "0           0  Au 22e jour consécutif de la grève reconductib...      0   \n",
              "1           1  Depuis plusieurs mois, les initiatives des che...      0   \n",
              "2           2  Google vient d'introduire une  mise à jour  de...      0   \n",
              "3           3  Portrait.  Chacun s’empresse autour d’elle tan...      0   \n",
              "4           4  « Il n’y a pas de risque de pénurie » de carbu...      0   \n",
              "\n",
              "  target_name  \n",
              "0        News  \n",
              "1        News  \n",
              "2        News  \n",
              "3        News  \n",
              "4        News  "
            ],
            "text/html": [
              "\n",
              "  <div id=\"df-e00a9da1-efb9-4908-b756-3e12847c198a\">\n",
              "    <div class=\"colab-df-container\">\n",
              "      <div>\n",
              "<style scoped>\n",
              "    .dataframe tbody tr th:only-of-type {\n",
              "        vertical-align: middle;\n",
              "    }\n",
              "\n",
              "    .dataframe tbody tr th {\n",
              "        vertical-align: top;\n",
              "    }\n",
              "\n",
              "    .dataframe thead th {\n",
              "        text-align: right;\n",
              "    }\n",
              "</style>\n",
              "<table border=\"1\" class=\"dataframe\">\n",
              "  <thead>\n",
              "    <tr style=\"text-align: right;\">\n",
              "      <th></th>\n",
              "      <th>Unnamed: 0</th>\n",
              "      <th>data</th>\n",
              "      <th>label</th>\n",
              "      <th>target_name</th>\n",
              "    </tr>\n",
              "  </thead>\n",
              "  <tbody>\n",
              "    <tr>\n",
              "      <th>0</th>\n",
              "      <td>0</td>\n",
              "      <td>Au 22e jour consécutif de la grève reconductib...</td>\n",
              "      <td>0</td>\n",
              "      <td>News</td>\n",
              "    </tr>\n",
              "    <tr>\n",
              "      <th>1</th>\n",
              "      <td>1</td>\n",
              "      <td>Depuis plusieurs mois, les initiatives des che...</td>\n",
              "      <td>0</td>\n",
              "      <td>News</td>\n",
              "    </tr>\n",
              "    <tr>\n",
              "      <th>2</th>\n",
              "      <td>2</td>\n",
              "      <td>Google vient d'introduire une  mise à jour  de...</td>\n",
              "      <td>0</td>\n",
              "      <td>News</td>\n",
              "    </tr>\n",
              "    <tr>\n",
              "      <th>3</th>\n",
              "      <td>3</td>\n",
              "      <td>Portrait.  Chacun s’empresse autour d’elle tan...</td>\n",
              "      <td>0</td>\n",
              "      <td>News</td>\n",
              "    </tr>\n",
              "    <tr>\n",
              "      <th>4</th>\n",
              "      <td>4</td>\n",
              "      <td>« Il n’y a pas de risque de pénurie » de carbu...</td>\n",
              "      <td>0</td>\n",
              "      <td>News</td>\n",
              "    </tr>\n",
              "  </tbody>\n",
              "</table>\n",
              "</div>\n",
              "      <button class=\"colab-df-convert\" onclick=\"convertToInteractive('df-e00a9da1-efb9-4908-b756-3e12847c198a')\"\n",
              "              title=\"Convert this dataframe to an interactive table.\"\n",
              "              style=\"display:none;\">\n",
              "        \n",
              "  <svg xmlns=\"http://www.w3.org/2000/svg\" height=\"24px\"viewBox=\"0 0 24 24\"\n",
              "       width=\"24px\">\n",
              "    <path d=\"M0 0h24v24H0V0z\" fill=\"none\"/>\n",
              "    <path d=\"M18.56 5.44l.94 2.06.94-2.06 2.06-.94-2.06-.94-.94-2.06-.94 2.06-2.06.94zm-11 1L8.5 8.5l.94-2.06 2.06-.94-2.06-.94L8.5 2.5l-.94 2.06-2.06.94zm10 10l.94 2.06.94-2.06 2.06-.94-2.06-.94-.94-2.06-.94 2.06-2.06.94z\"/><path d=\"M17.41 7.96l-1.37-1.37c-.4-.4-.92-.59-1.43-.59-.52 0-1.04.2-1.43.59L10.3 9.45l-7.72 7.72c-.78.78-.78 2.05 0 2.83L4 21.41c.39.39.9.59 1.41.59.51 0 1.02-.2 1.41-.59l7.78-7.78 2.81-2.81c.8-.78.8-2.07 0-2.86zM5.41 20L4 18.59l7.72-7.72 1.47 1.35L5.41 20z\"/>\n",
              "  </svg>\n",
              "      </button>\n",
              "      \n",
              "  <style>\n",
              "    .colab-df-container {\n",
              "      display:flex;\n",
              "      flex-wrap:wrap;\n",
              "      gap: 12px;\n",
              "    }\n",
              "\n",
              "    .colab-df-convert {\n",
              "      background-color: #E8F0FE;\n",
              "      border: none;\n",
              "      border-radius: 50%;\n",
              "      cursor: pointer;\n",
              "      display: none;\n",
              "      fill: #1967D2;\n",
              "      height: 32px;\n",
              "      padding: 0 0 0 0;\n",
              "      width: 32px;\n",
              "    }\n",
              "\n",
              "    .colab-df-convert:hover {\n",
              "      background-color: #E2EBFA;\n",
              "      box-shadow: 0px 1px 2px rgba(60, 64, 67, 0.3), 0px 1px 3px 1px rgba(60, 64, 67, 0.15);\n",
              "      fill: #174EA6;\n",
              "    }\n",
              "\n",
              "    [theme=dark] .colab-df-convert {\n",
              "      background-color: #3B4455;\n",
              "      fill: #D2E3FC;\n",
              "    }\n",
              "\n",
              "    [theme=dark] .colab-df-convert:hover {\n",
              "      background-color: #434B5C;\n",
              "      box-shadow: 0px 1px 3px 1px rgba(0, 0, 0, 0.15);\n",
              "      filter: drop-shadow(0px 1px 2px rgba(0, 0, 0, 0.3));\n",
              "      fill: #FFFFFF;\n",
              "    }\n",
              "  </style>\n",
              "\n",
              "      <script>\n",
              "        const buttonEl =\n",
              "          document.querySelector('#df-e00a9da1-efb9-4908-b756-3e12847c198a button.colab-df-convert');\n",
              "        buttonEl.style.display =\n",
              "          google.colab.kernel.accessAllowed ? 'block' : 'none';\n",
              "\n",
              "        async function convertToInteractive(key) {\n",
              "          const element = document.querySelector('#df-e00a9da1-efb9-4908-b756-3e12847c198a');\n",
              "          const dataTable =\n",
              "            await google.colab.kernel.invokeFunction('convertToInteractive',\n",
              "                                                     [key], {});\n",
              "          if (!dataTable) return;\n",
              "\n",
              "          const docLinkHtml = 'Like what you see? Visit the ' +\n",
              "            '<a target=\"_blank\" href=https://colab.research.google.com/notebooks/data_table.ipynb>data table notebook</a>'\n",
              "            + ' to learn more about interactive tables.';\n",
              "          element.innerHTML = '';\n",
              "          dataTable['output_type'] = 'display_data';\n",
              "          await google.colab.output.renderOutput(dataTable, element);\n",
              "          const docLink = document.createElement('div');\n",
              "          docLink.innerHTML = docLinkHtml;\n",
              "          element.appendChild(docLink);\n",
              "        }\n",
              "      </script>\n",
              "    </div>\n",
              "  </div>\n",
              "  "
            ]
          },
          "metadata": {},
          "execution_count": 331
        }
      ]
    },
    {
      "cell_type": "code",
      "source": [
        "df_train['label'].value_counts()"
      ],
      "metadata": {
        "colab": {
          "base_uri": "https://localhost:8080/"
        },
        "id": "MZQbWAE_QLJQ",
        "outputId": "82633fb1-0baf-44fb-e4e3-8fb591b1eb83"
      },
      "execution_count": 332,
      "outputs": [
        {
          "output_type": "execute_result",
          "data": {
            "text/plain": [
              "0    816\n",
              "1    642\n",
              "Name: label, dtype: int64"
            ]
          },
          "metadata": {},
          "execution_count": 332
        }
      ]
    },
    {
      "cell_type": "code",
      "source": [
        "df_train['len_data'] = df_train['data'].apply(lambda x: len(x))\n",
        "df_test['len_data'] = df_test['data'].apply(lambda x: len(x))"
      ],
      "metadata": {
        "id": "eJjTBcGhy-bx"
      },
      "execution_count": 333,
      "outputs": []
    },
    {
      "cell_type": "code",
      "source": [
        "df_train['log_len_data'] = np.log(df_train['len_data'])\n",
        "df_test['log_len_data'] = np.log(df_test['len_data'])"
      ],
      "metadata": {
        "id": "qBWNjwOSE3fN"
      },
      "execution_count": 334,
      "outputs": []
    },
    {
      "cell_type": "code",
      "source": [
        "fig,(ax1,ax2)=plt.subplots(2,2,figsize=(12, 8))\n",
        "sns.histplot(data = df_train, x = 'len_data', hue = 'target_name', ax=ax1[0])\n",
        "sns.histplot(data = df_test, x = 'len_data', hue = 'target_name', ax = ax1[1])\n",
        "\n",
        "sns.histplot(data = df_train, x = 'log_len_data', hue = 'target_name', ax = ax2[0])\n",
        "sns.histplot(data = df_test, x = 'log_len_data', hue = 'target_name', ax = ax2[1])\n"
      ],
      "metadata": {
        "colab": {
          "base_uri": "https://localhost:8080/",
          "height": 518
        },
        "id": "dk8yVfQB7tC_",
        "outputId": "cb0867ac-f6cf-470d-dd85-bdf94dff1129"
      },
      "execution_count": 335,
      "outputs": [
        {
          "output_type": "execute_result",
          "data": {
            "text/plain": [
              "<matplotlib.axes._subplots.AxesSubplot at 0x7fecead47070>"
            ]
          },
          "metadata": {},
          "execution_count": 335
        },
        {
          "output_type": "display_data",
          "data": {
            "text/plain": [
              "<Figure size 864x576 with 4 Axes>"
            ],
            "image/png": "[encoded data removed]"
          },
          "metadata": {
            "needs_background": "light"
          }
        }
      ]
    },
    {
      "cell_type": "code",
      "source": [
        "REPLACE_BY_SPACE_RE = re.compile('[/(){}\\|@,;]')\n",
        "BAD_SYMBOLS_RE = re.compile('[^0-9a-zÀ-ÿ #+_]')\n",
        "STOPWORDS = set(stopwords.words('french'))\n",
        "\n",
        "new_stopwords = {\"a\", \"comme\", \"cette\", \"dun\", \"dune\", \"plus\", 'cest', \"aussi\", \"deux\", 'fait', \"depuis\", \"faire\", \"tout\", \"si\", \"où\"}\n",
        "STOPWORDS = STOPWORDS | new_stopwords\n",
        "\n",
        "def clean_text(text):\n",
        "    text = text.lower() # lowercase text\n",
        "    text = REPLACE_BY_SPACE_RE.sub(' ', text)\n",
        "    text = BAD_SYMBOLS_RE.sub('', text)\n",
        "    return text"
      ],
      "metadata": {
        "id": "PsmgXr9d-qtl"
      },
      "execution_count": 336,
      "outputs": []
    },
    {
      "cell_type": "code",
      "source": [
        "df_train['data'] = df_train[\"data\"].apply(lambda x : clean_text(x))\n",
        "df_test['data'] = df_test[\"data\"].apply(lambda x : clean_text(x))"
      ],
      "metadata": {
        "id": "KRYOBf0R-wY2"
      },
      "execution_count": 337,
      "outputs": []
    },
    {
      "cell_type": "code",
      "source": [
        "fig,(ax1,ax2)=plt.subplots(1,2,figsize=(12,4))\n",
        "word=df_train[df_train['label']==1]['data'].str.split().apply(lambda x : [len(i) for i in x])\n",
        "sns.distplot(word.map(lambda x: np.mean(x)),ax=ax1,color='blue')\n",
        "ax1.set_title('fake')\n",
        "word=df_train[df_train['label']==0]['data'].str.split().apply(lambda x : [len(i) for i in x])\n",
        "sns.distplot(word.map(lambda x: np.mean(x)),ax=ax2,color='red')\n",
        "ax2.set_title('News')\n",
        "fig.suptitle('Average word length in each News')"
      ],
      "metadata": {
        "colab": {
          "base_uri": "https://localhost:8080/",
          "height": 489
        },
        "id": "Gs0Xs3Rg6qLq",
        "outputId": "7e84e9c7-28a5-4c8f-dd3d-67a5f7cc3374"
      },
      "execution_count": 338,
      "outputs": [
        {
          "output_type": "stream",
          "name": "stderr",
          "text": [
            "/usr/local/lib/python3.8/dist-packages/numpy/core/fromnumeric.py:3440: RuntimeWarning: Mean of empty slice.\n",
            "  return _methods._mean(a, axis=axis, dtype=dtype,\n",
            "/usr/local/lib/python3.8/dist-packages/numpy/core/_methods.py:189: RuntimeWarning: invalid value encountered in double_scalars\n",
            "  ret = ret.dtype.type(ret / rcount)\n",
            "/usr/local/lib/python3.8/dist-packages/seaborn/distributions.py:2619: FutureWarning: `distplot` is a deprecated function and will be removed in a future version. Please adapt your code to use either `displot` (a figure-level function with similar flexibility) or `histplot` (an axes-level function for histograms).\n",
            "  warnings.warn(msg, FutureWarning)\n",
            "/usr/local/lib/python3.8/dist-packages/seaborn/distributions.py:2619: FutureWarning: `distplot` is a deprecated function and will be removed in a future version. Please adapt your code to use either `displot` (a figure-level function with similar flexibility) or `histplot` (an axes-level function for histograms).\n",
            "  warnings.warn(msg, FutureWarning)\n"
          ]
        },
        {
          "output_type": "execute_result",
          "data": {
            "text/plain": [
              "Text(0.5, 0.98, 'Average word length in each News')"
            ]
          },
          "metadata": {},
          "execution_count": 338
        },
        {
          "output_type": "display_data",
          "data": {
            "text/plain": [
              "<Figure size 864x288 with 2 Axes>"
            ],
            "image/png": "[encoded data removed]"
          },
          "metadata": {
            "needs_background": "light"
          }
        }
      ]
    },
    {
      "cell_type": "code",
      "source": [
        "for idx, di in enumerate(df_train['data']): \n",
        "  text = di.split()\n",
        "  words = [len(i) for i in text]\n",
        "  for ti in text: \n",
        "    if len(ti) > 50:\n",
        "      print(ti, idx, df_train.iloc[idx].label)\n",
        "    \n",
        "  if np.mean(words) < 3 or np.mean(words) > 10:\n",
        "    print(text, idx, df_train.iloc[idx].label)"
      ],
      "metadata": {
        "id": "Ie0wvgcC0_N6",
        "outputId": "211618d6-6e71-45d3-fb9a-02ce196f29ce",
        "colab": {
          "base_uri": "https://localhost:8080/"
        }
      },
      "execution_count": 339,
      "outputs": [
        {
          "output_type": "stream",
          "name": "stdout",
          "text": [
            "20hmediaslenquetechocdunewyorktimessurleplombdenotredame16721696html 1156 1\n",
            "['200', '3', '3'] 1180 1\n",
            "['communiqué', 'de', 'gilbert', 'montagné', 'bonzaheuazi', 'uazehyazge', 'hazeh', 'uazheuajz', 'iazheja', 'iuazh', 'eijkazh', 'eijazh', 'ehjazb', 'uhajdb', 'azkljeh', 'aiuejh', 'azojlekabz', 'elhkajzhb', 'eklhazgeiauzh', 'ùomi', 'ùmqmlksdj', 'ùqzàei', 'zoiehaçpwdjiifjaeziuyzaàpzckiioleijf', 'dfyuijjazpokbzdofiujazoklbhazeiu', 'viazhgueböu', 'uiaghzeiuoad', '0sjdôaz', 'd+8', 'az9eu', '7az', 'dudz08aaz', 'd883923äzd', 'dijoqsdiojazoiuneazmlej', 'azoieyaz9poeja', 'aziuapozdjazdazdaz', 'kamzodazyha3oinaomilmkje9a', 'zoazleiamzeoazùoek2a3p', 'e9', 'y238u', 'j2mlifkjc', '2oïu', '918poi2u', 'bite', 'dans', 'ton', 'cul', 'azuehaozuehaozehazuehazuheazueh', 'dans', 'ton', 'cul', 'azeijazipjbazpiuejaziochnczioeyhea', 'zpeouizv089aezuhekazhbeiuazey', 'ciopazlh', 'eoazue0az', 'ueaz9eya+'] 1230 1\n",
            "01001100001001100010001100110000001100110011100100111011011011110111001001101001011001110110100101101110011001010010000001100100011101010010000001110 1429 1\n",
            "10001101001011100110111001101110101001000000111001001100101011011010110111101101110011101000110010100100000001001100110000101100111011100100110000101 1429 1\n",
            "11011001100101001110110010000001101100011011110110111001100111011101000110010101101101011100000111001100100000011000010111011001100001011011100111010 1429 1\n",
            "00010000001001010001001100110010101100001011000110111010101110100011001010011101101110011011101010111001100100000010000110110100001110010011010010111001101110100 1429 1\n",
            "01000001011010000010000001101110011011110110111000101100001000000101000001101100011101010111010001101111001000000110001100100110001000110011000000110 1429 1\n",
            "01100111001001110110110010101110011011101000010000001101100011001010010000001100011011010000110100101100101011011100010000001100100011001010010000001 1429 1\n",
            "00110101101001011000110110101101100101011110010010111000100000010011000010011000100011001100000011001100111001001110110110000101101101011010010010000 1429 1\n",
            "00110010001100101001000000100110101101001011000110110101101100101011110010010000001100011001001100010001100110000001100110011100100111011011001010111 1429 1\n",
            "0011011101000010000001000100011010010110111001100111011011110010111000001010 1429 1\n",
            "01000100011101010010000001110011011101010110001101110010011001010011111100100000010011110111010101101001001000000111001101100101011010010111101001100 1429 1\n",
            "['0101001101', '011101000100010011101000100010011101000100010', '01001100001001100010001100110000001100110011100100111011011011110111001001101001011001110110100101101110011001010010000001100100011101010010000001110', '10001101001011100110111001101110101001000000111001001100101011011010110111101101110011101000110010100100000001001100110000101100111011100100110000101', '11011001100101001110110010000001101100011011110110111001100111011101000110010101101101011100000111001100100000011000010111011001100001011011100111010', '00010000001001010001001100110010101100001011000110111010101110100011001010011101101110011011101010111001100100000010000110110100001110010011010010111001101110100', '01111001011011110110110001101111', '01000001011010000010000001101110011011110110111000101100001000000101000001101100011101010111010001101111001000000110001100100110001000110011000000110', '01100111001001110110110010101110011011101000010000001101100011001010010000001100011011010000110100101100101011011100010000001100100011001010010000001', '00110101101001011000110110101101100101011110010010111000100000010011000010011000100011001100000011001100111001001110110110000101101101011010010010000', '00110010001100101001000000100110101101001011000110110101101100101011110010010000001100011001001100010001100110000001100110011100100111011011001010111', '0011011101000010000001000100011010010110111001100111011011110010111000001010', '01000100011101010010000001110011011101010110001101110010011001010011111100100000010011110111010101101001001000000111001101100101011010010111101001100', '101', 'la', 'rédaction'] 1429 1\n"
          ]
        },
        {
          "output_type": "stream",
          "name": "stderr",
          "text": [
            "/usr/local/lib/python3.8/dist-packages/numpy/core/fromnumeric.py:3440: RuntimeWarning: Mean of empty slice.\n",
            "  return _methods._mean(a, axis=axis, dtype=dtype,\n",
            "/usr/local/lib/python3.8/dist-packages/numpy/core/_methods.py:189: RuntimeWarning: invalid value encountered in double_scalars\n",
            "  ret = ret.dtype.type(ret / rcount)\n"
          ]
        }
      ]
    },
    {
      "cell_type": "code",
      "source": [
        "df_train = df_train.drop(df_train.index[1429])\n",
        "df_train = df_train.drop(df_train.index[1230])\n",
        "df_train = df_train.drop(df_train.index[1180])"
      ],
      "metadata": {
        "id": "ZTXyMvN48msc"
      },
      "execution_count": 340,
      "outputs": []
    },
    {
      "cell_type": "code",
      "source": [
        "fig,(ax1,ax2)=plt.subplots(1,2,figsize=(12,4))\n",
        "word=df_train[df_train['label']==1]['data'].str.split().apply(lambda x : [len(i) for i in x])\n",
        "sns.distplot(word.map(lambda x: np.mean(x)),ax=ax1,color='blue')\n",
        "ax1.set_title('fake')\n",
        "word=df_train[df_train['label']==0]['data'].str.split().apply(lambda x : [len(i) for i in x])\n",
        "sns.distplot(word.map(lambda x: np.mean(x)),ax=ax2,color='red')\n",
        "ax2.set_title('News')\n",
        "fig.suptitle('Average word length in each News')"
      ],
      "metadata": {
        "id": "3b3AoyUT_Lvo",
        "outputId": "f02f5b2e-67eb-4153-ec37-b02a355d456c",
        "colab": {
          "base_uri": "https://localhost:8080/",
          "height": 417
        }
      },
      "execution_count": 341,
      "outputs": [
        {
          "output_type": "stream",
          "name": "stderr",
          "text": [
            "/usr/local/lib/python3.8/dist-packages/seaborn/distributions.py:2619: FutureWarning: `distplot` is a deprecated function and will be removed in a future version. Please adapt your code to use either `displot` (a figure-level function with similar flexibility) or `histplot` (an axes-level function for histograms).\n",
            "  warnings.warn(msg, FutureWarning)\n",
            "/usr/local/lib/python3.8/dist-packages/seaborn/distributions.py:2619: FutureWarning: `distplot` is a deprecated function and will be removed in a future version. Please adapt your code to use either `displot` (a figure-level function with similar flexibility) or `histplot` (an axes-level function for histograms).\n",
            "  warnings.warn(msg, FutureWarning)\n"
          ]
        },
        {
          "output_type": "execute_result",
          "data": {
            "text/plain": [
              "Text(0.5, 0.98, 'Average word length in each News')"
            ]
          },
          "metadata": {},
          "execution_count": 341
        },
        {
          "output_type": "display_data",
          "data": {
            "text/plain": [
              "<Figure size 864x288 with 2 Axes>"
            ],
            "image/png": "[encoded data removed]"
          },
          "metadata": {
            "needs_background": "light"
          }
        }
      ]
    },
    {
      "cell_type": "code",
      "source": [
        "def create_corpus(df, label):\n",
        "    corpus=[]\n",
        "    \n",
        "    for x in df[df['label']==label]['data'].str.split():\n",
        "        for i in x:\n",
        "            corpus.append(i)\n",
        "    return corpus"
      ],
      "metadata": {
        "id": "07sv3eQN9s99"
      },
      "execution_count": 342,
      "outputs": []
    },
    {
      "cell_type": "code",
      "source": [
        "def calculate_most_frequent_words(corpus):\n",
        "  dic=defaultdict(int)\n",
        "  for word in corpus:\n",
        "      dic[word]+=1\n",
        "          \n",
        "  top=sorted(dic.items(), key=lambda x:x[1],reverse=True)[:10]\n",
        "\n",
        "  plt.figure(figsize=(8,4))\n",
        "  counter=Counter(corpus)\n",
        "  most=counter.most_common()\n",
        "  x=[]\n",
        "  y=[]\n",
        "  for word,count in most[:10]:\n",
        "      x.append(word)\n",
        "      y.append(count)\n",
        "\n",
        "  return x, y"
      ],
      "metadata": {
        "id": "PY_mF1lzD4Z3"
      },
      "execution_count": 343,
      "outputs": []
    },
    {
      "cell_type": "code",
      "source": [
        "fig,(ax1,ax2)=plt.subplots(1,2,figsize=(16,4))\n",
        "\n",
        "# fake news\n",
        "corpus=create_corpus(df_train, 1)\n",
        "x,y = calculate_most_frequent_words(corpus)\n",
        "sns.barplot(x=y,y=x, ax = ax1)\n",
        "ax1.set_title('fake')\n",
        "\n",
        "# real news\n",
        "corpus=create_corpus(df_train, 0)\n",
        "x,y = calculate_most_frequent_words(corpus)\n",
        "sns.barplot(x=y,y=x, ax = ax2)\n",
        "ax2.set_title('real')\n"
      ],
      "metadata": {
        "id": "fCcz_Oa8jJ6I",
        "outputId": "35d6e5f0-bff9-4cf5-bc86-caee6cbe6b2a",
        "colab": {
          "base_uri": "https://localhost:8080/",
          "height": 335
        }
      },
      "execution_count": 344,
      "outputs": [
        {
          "output_type": "execute_result",
          "data": {
            "text/plain": [
              "Text(0.5, 1.0, 'real')"
            ]
          },
          "metadata": {},
          "execution_count": 344
        },
        {
          "output_type": "display_data",
          "data": {
            "text/plain": [
              "<Figure size 1152x288 with 2 Axes>"
            ],
            "image/png": "[encoded data removed]"
          },
          "metadata": {
            "needs_background": "light"
          }
        },
        {
          "output_type": "display_data",
          "data": {
            "text/plain": [
              "<Figure size 576x288 with 0 Axes>"
            ]
          },
          "metadata": {}
        },
        {
          "output_type": "display_data",
          "data": {
            "text/plain": [
              "<Figure size 576x288 with 0 Axes>"
            ]
          },
          "metadata": {}
        }
      ]
    },
    {
      "cell_type": "code",
      "source": [
        "REPLACE_BY_SPACE_RE = re.compile('[/(){}\\|@,;]')\n",
        "BAD_SYMBOLS_RE = re.compile('[^0-9a-zÀ-ÿ #+_]')\n",
        "STOPWORDS = set(stopwords.words('french'))\n",
        "\n",
        "new_stopwords = {\"a\", \"comme\", \"cette\", \"dun\", \"dune\", \"plus\", 'cest', \"aussi\", \"deux\", 'fait', \"depuis\", \"faire\", \"tout\", \"si\", \"où\", \"quil\", \"très\", \"bien\", \"contre\", \"après\", \"entre\", 'ça', 'avant', 'être', \"alors\", \"sans\", 'nest', 'sest'}\n",
        "STOPWORDS = STOPWORDS | new_stopwords\n",
        "\n",
        "def clean_text(text):\n",
        "    text = text.lower() # lowercase text\n",
        "    text = REPLACE_BY_SPACE_RE.sub(' ', text)\n",
        "    text = BAD_SYMBOLS_RE.sub('', text)\n",
        "    text = ' '.join(word for word in text.split() if word not in STOPWORDS) # remove stopwors from text\n",
        "    return text"
      ],
      "metadata": {
        "id": "KiSO0GEh-71q"
      },
      "execution_count": 345,
      "outputs": []
    },
    {
      "cell_type": "code",
      "source": [
        "df_train['data'] = df_train[\"data\"].apply(lambda x : clean_text(x))\n",
        "df_test['data'] = df_test[\"data\"].apply(lambda x : clean_text(x))"
      ],
      "metadata": {
        "id": "oftdqJmoqAmM"
      },
      "execution_count": 346,
      "outputs": []
    },
    {
      "cell_type": "code",
      "source": [
        "fig,(ax1,ax2)=plt.subplots(1,2,figsize=(16,4))\n",
        "\n",
        "# fake news\n",
        "corpus=create_corpus(df_train, 1)\n",
        "x,y = calculate_most_frequent_words(corpus)\n",
        "sns.barplot(x=y,y=x, ax = ax1)\n",
        "ax1.set_title('fake')\n",
        "\n",
        "# real news\n",
        "corpus=create_corpus(df_train, 0)\n",
        "x,y = calculate_most_frequent_words(corpus)\n",
        "sns.barplot(x=y,y=x, ax = ax2)\n",
        "ax2.set_title('real')"
      ],
      "metadata": {
        "id": "oGczLkzWoTia",
        "outputId": "2454271f-ffce-4fa4-c121-548d31dd2960",
        "colab": {
          "base_uri": "https://localhost:8080/",
          "height": 335
        }
      },
      "execution_count": 347,
      "outputs": [
        {
          "output_type": "execute_result",
          "data": {
            "text/plain": [
              "Text(0.5, 1.0, 'real')"
            ]
          },
          "metadata": {},
          "execution_count": 347
        },
        {
          "output_type": "display_data",
          "data": {
            "text/plain": [
              "<Figure size 1152x288 with 2 Axes>"
            ],
            "image/png": "[encoded data removed]"
          },
          "metadata": {
            "needs_background": "light"
          }
        },
        {
          "output_type": "display_data",
          "data": {
            "text/plain": [
              "<Figure size 576x288 with 0 Axes>"
            ]
          },
          "metadata": {}
        },
        {
          "output_type": "display_data",
          "data": {
            "text/plain": [
              "<Figure size 576x288 with 0 Axes>"
            ]
          },
          "metadata": {}
        }
      ]
    },
    {
      "cell_type": "code",
      "source": [
        "for idx, di in enumerate(df_train['data']): \n",
        "  text = di.split()\n",
        "  if \"islam\" in text: \n",
        "    print(idx)\n",
        "\n",
        "  "
      ],
      "metadata": {
        "id": "CPiVpDjas1Lo",
        "outputId": "6729ece2-e19a-4449-b3c4-88ea707cd2a5",
        "colab": {
          "base_uri": "https://localhost:8080/"
        }
      },
      "execution_count": 348,
      "outputs": [
        {
          "output_type": "stream",
          "name": "stdout",
          "text": [
            "153\n",
            "520\n",
            "1136\n"
          ]
        }
      ]
    },
    {
      "cell_type": "code",
      "source": [
        "df_train.iloc[1136].data"
      ],
      "metadata": {
        "id": "JoT-BGFms_wg",
        "outputId": "f1a2cdf9-776a-472b-8069-3fd8e631e422",
        "colab": {
          "base_uri": "https://localhost:8080/",
          "height": 143
        }
      },
      "execution_count": 349,
      "outputs": [
        {
          "output_type": "execute_result",
          "data": {
            "text/plain": [
              "'juin 2019 sapeurspompiers toute france déposé préavis grève dénonçant leurs conditions travail réunis paris mardi 15 octobre 2019 manifestation denvergure leurs revendications sécurité retraite assurée revalorisation prime feu moyens parti république début daprèsmidi cortège devait disperser nation vers 18 heures dautres manifestations déjà lieu derniers mois notamment versailles yvelines pardon faisait linformation faut cela cesse immédiatement islam islam islam islam islam islam islam islam islam islam islam islam islam islam islam islam islam islam islam islam islam islam islam islam islam islam islam islam islam islam islam islam islam islam islam islam islam islam islam islam islam islam islam islam islam islam islam islam islam islam islam islam islam islam islam islam islam islam islam islam islam islam islam islam islam islam islam islam islam islam islam islam islam islam islam islam islam islam islam islam islam islam islam islam islam islam islam islam islam islam islam islam islam islam islam islam islam islam islam islam islam islam islam islam islam islam islam islam islam islam islam islam islam islam islam islam islam islam islam islam islam islam islam islam islam islam islam islam islam islam islam islam islam islam islam islam islam islam islam islam islam islam islam islam islam islam islam islam islam islam islam islam islam islam islam islam islam islam islam islam islam islam islam islam islam islam islam islam islam islam islam islam islam islam islam islam islam islam islam islam islam islam islam islam islam islam islam islam islam islam islam islam islam islam islam islam islam islam islam islam islam islam islam islam islam islam islam islam islam islam islam islam islam islam islam islam islam islam islam islam islam islam islam islam islam islam islam islam islam islam islam islam islam islam islam islam islam islam islam islam islam islam islam islam islam islam islam islam islam islam islam islam islam islam islam islam islam islam islam islam islam islam islam islam islam islam islam islam islam islam islam islam islam islam islam islam islam islam islam islam islam islam islam islam islam islam islam islam islam islam islam islam islam islam islam islam islam islam islam islam islam islam islam islam islam islam islam islam islam islam islam islam islam islam islam islam islam islam islam islam islam islam islam islam islam islam islam islam islam islam islam islam islam islam islam islam islam islam islam islam islam islam islam islam islam islam islam islam islam islam islam islam islam islam islam islam islam islam islam islam islam islam islam islam islam islam islam islam islam islam islam islam islam islam islam islam islam islam islam islam islam islam islam islam islam islam islam islam islam islam islam islam islam islam islam islam islam islam islam islam islam islam islam islam islam islam islam islam islam islam islam islam islam islam islam islam islam islam islam islam islam islam islam islam islam islam islam islam islam islam islam islam islam islam islam islam islam islam islam islam islam islam islam islam islam islam islam islam islam islam islam islam islam islam islam islam islam islam islam islam islam islam islam islam islam islam islam islam islam islam islam islam islam islam islam islam islam islam islam islam islam islam islam islam islam islam islam islam islam islam islam islam islam islam islam islam islam islam islam islam islam islam islam islam islam islam islam islam islam islam islam islam islam islam islam islam islam islam islam islam islam islam islam islam islam islam islam islam islam islam islam islam islam islam islam islam islam islam islam islam islam islam islam islam islam islam islam islam islam islam islam islam islam islam islam islam islam islam islam islam islam islam islam islam islam islam islam islam islam islam islam islam islam islam islam islam islam islam islam islam islam islam islam islam islam islam islam islam islam islam islam islam islam islam islam islam islam islam islam islam islam islam islam islam islam islam islam islam islam islam islam islam islam islam islam islam islam islam islam islam islam islam islam islam islam islam islam islam islam islam islam islam islam islam islam islam islam islam islam islam islam islam islam islam islam islam islam islam islam islam islam islam islam islam islam islam islam islam islam islam islam islam islam islam islam islam islam islam islam islam islam islam islam islam islam islam islam islam islam islam islam islam islam islam islam islam islam islam islam islam islam islam islam islam islam islam islam islam islam islam islam islam islam islam islam islam islam islam islam islam islam islam islam islam islam islam islam islam islam islam islam islam islam islam islam islam islam islam islam islam islam islam islam islam islam islam islam islam islam islam islam islam islam islam islam islam islam islam islam islam islam islam islam islam islam islam islam islam islam islam islam islam islam islam islam islam islam islam islam islam islam islam islam islam islam islam islam islam islam islam islam islam islam islam islam islam islam islam islam islam islam islam islam islam islam islam islam islam islam islam islam islam islam islam islam islam islam islam islam islam islam islam islam islam islam islam islam islam islam islam islam islam islam islam islam islam islam islam islam islam islam islam islam islam islam islam islam islam islam islam islam islam islam islam islam islam islam islam islam islam islam islam islam islam islam islam islam islam islam islam islam islam islam islam islam islam islam islam islam islam islam islam islam islam islam islam islam islam islam islam islam islam islam islam islam islam islam islam islam islam islam islam islam islam islam islam islam islam islam islam islam islam islam islam islam islam islam islam islam islam islam islam islam islam islam islam islam islam islam islam islam islam islam islam islam islam islam islam islam islam islam islam islam islam islam islam islam islam islam islam islam islam islam islam islam islam islam islam islam islam islam islam islam islam islam islam islam islam islam islam islam islam islam islam islam islam islam islam islam islam islam islam islam islam islam islam islam islam islam islam islam islam islam islam islam islam islam islam islam islam islam islam islam islam islam islam islam islam islam islam islam islam islam islam islam islam islam islam islam islam islam islam islam islam islam islam islam islam islam islam islam islam islam islam islam islam islam islam islam islam islam islam islam islam islam islam islam islam islam islam islam islam islam islam islam islam islam islam islam islam islam islam islam islam islam islam islam islam islam islam islam islam islam islam islam islam islam islam islam islam islam islam islam islam islam islam islam islam islam islam islam islam islam islam islam islam islam islam islam islam islam islam islam islam islam islam islam islam islam islam islam islam islam islam islam islam islam islam islam islam islam islam islam islam islam islam islam islam islam islam islam islam islam islam islam islam islam islam islam islam islam islam islam islam islam islam islam islam islam islam islam islam islam islam islam islam islam islam islam islam islam islam islam islam islam islam islam islam islam islam islam islam islam islam islam islam islam islam islam islam islam islam islam islam islam islam islam islam islam islam islam islam islam islam islam islam islam islam islam islam islam islam islam islam islam islam islam islam islam islam islam islam islam islam islam islam islam islam islam islam islam islam islam islam islam islam islam islam islam islam islam islam islam islam islam islam islam islam islam islam islam islam islam islam islam islam islam islam islam islam islam islam islam islam islam islam islam islam islam islam islam islam islam islam islam islam islam islam islam islam islam islam islam islam islam islam islam islam islam islam islam islam islam islam islam islam islam islam islam islam islam islam islam islam islam islam islam islam islam islam islam islam islam islam islam islam islam islam islam islam islam islam islam islam islam islam islam islam islam islam islam islam islam islam islam islam islam islam islam islam islam islam islam islam islam islam islam islam islam islam islam islam islam islam islam islam islam islam islam islam islam islam islam islam islam islam islam islam islam islam islam islam islam islam islam islam islam islam islam islam islam islam islam islam islam islam islam islam islam islam islam islam islam islam islam islam islam islam islam islam islam islam islam islam islam islam islam islam islam islam islam islam islam islam islam islam islam islam islam islam islam islam islam islam islam islam islam islam islam islam islam islam islam islam islam islam islam islam islam islam islam islam islam islam islam islam islam islam islam islam islam islam islam islam islam islam islam islam islam islam islam islam islam islam islam islam islam islam islam islam islam islam islam islam islam islam islam islam islam islam islam islam islam islam islam islam islam islam islam islam islam islam islam islam islam islam islam islam islam islam islam islam islam islam islam islam islam islam islam islam islam islam islam islam islam islam islam islam islam islam islam islam islam islam islam islam islam islam islam islam islam islam islam islam islam islam islam islam islam islam islam islam islam islam islam islam islam islam islam islam islam islam islam islam islam islam islam islam islam islam islam islam islam islam islam islam islam islam islam islam islam islam islam islam islam islam islam islam islam islam islam islam islam islam islam islam islam islam islam islam islam islam islam islam islam islam islam islam islam islam islam islam islam islam islam islam islam islam islam islam islam islam islam islam islam islam islam islam islam islam islam islam islam islam islam islam islam islam islam islam islam islam islam islam islam islam islam islam islam islam islam islam islam islam islam islam islam islam islam islam islam islam islam islam islam islam islam islam islam islam islam islam islam islam islam islam islam islam islam islam islam islam islam islam islam islam islam islam islam islam islam islam islam islam islam islam islam islam islam islam islam islam islam islam islam islam islam islam islam islam islam islam islam islam islam islam islam islam islam islam islam islam islam islam islam islam islam islam islam islam islam islam islam islam islam islam islam islam islam islam islam islam islam islam islam islam islam islam islam islam islam islam islam islam islam islam islam islam islam islam islam islam islam islam islam islam islam islam islam islam islam islam islam islam islam islam islam islam islam islam islam islam islam islam islam islam islam islam islam islam islam islam islam islam islam islam islam islam islam islam islam islam islam islam islam islam islam islam islam islam islam islam islam islam islam islam islam islam islam islam islam islam islam islam islam islam islam islam islam islam islam islam islam islam islam islam islam islam islam islam islam islam islam islam islam islam islam islam islam islam islam islam islam islam islam islam islam islam islam islam islam islam islam islam islam islam islam islam islam islam islam islam islam islam islam islam islam islam islam islam islam islam islam islam islam islam islam islam islam islam islam islam islam islam islam islam islam islam islam islam islam islam islam islam islam islam islam islam islam islam islam islam islam islam islam islam islam islam islam islam islam islam islam islam islam islam islam islam islam islam islam islam islam islam islam islam islam islam islam islam islam islam islam islam islam islam islam islam islam islam islam islam islam islam islam islam islam islam islam islam islam islam islam islam islam islam islam islam islam islam islam islam islam islam islam islam islam islam islam islam islam islam islam islam islam islam islam islam islam islam islam islam islam islam islam islam islam islam islam islam islam islam islam islam islam islam islam islam islam islam islam islam islam islam islam islam islam islam islam islam islam islam islam islam islam islam islam islam islam islam islam islam islam islam islam islam islam islam islam islam islam islam islam islam islam islam islam islam islam islam islam islam islam islam islam islam islam islam islam islam islam islam islam islam islam islam islam islam islam islam islam islam islam islam islam islam islam islam islam islam islam islam islam islam islam islam islam islam islam islam islam islam islam islam islam islam islam islam islam islam islam islam islam islam islam islam islam islam islam islam islam islam islam islam islam islam islam islam islam islam islam islam islam islam islam islam islam islam islam islam islam islam islam islam islam islam islam islam islam islam islam islam islam islam islam islam islam islam islam islam islam islam islam islam islam islam islam islam islam islam islam islam islam islam islam islam islam islam islam islam islam islam islam islam islam islam islam islam islam islam islam islam islam islam islam islam islam islam islam islam islam islam islam islam islam islam islam islam islam islam islam islam islam islam islam islam islam islam islam islam islam islam islam islam islam islam islam islam islam islam islam islam islam islam islam islam islam islam islam islam islam islam islam islam islam islam islam islam islam islam islam islam islam islam islam islam islam islam islam islam islam islam islam islam islam islam islam islam islam islam islam islam islam islam islam islam islam islam islam islam islam islam islam islam islam islam islam islam islam islam islam islam islam islam islam islam islam islam islam islam islam islam islam islam islam islam islam islam islam islam islam islam islam islam islam islam islam islam islam islam islam islam islam islam islam islam islam islam islam islam islam islam islam islam islam islam islam islam islam islam islam islam islam islam islam islam islam islam islam islam islam islam islam islam islam islam islam islam islam islam islam islam islam islam islam islam islam islam islam islam islam islam islam islam islam islam islam islam islam islam islam islam islam islam islam islam islam islam islam islam islam islam islam islam islam islam islam islam islam islam islam islam islam islam islam islam islam islam islam islam islam islam islam islam islam islam islam islam islam islam islam islam islam islam islam islam islam islam islam islam islam islam islam islam islam islam islam islam islam islam islam islam islam islam islam islam islam islam islam islam islam islam islam islam islam islam islam islam islam islam islam islam islam islam islam islam islam islam islam islam islam islam islam islam islam islam islam islam islam islam islam islam islam islam islam islam islam islam islam islam islam islam islam islam islam islam islam islam islam islam islam islam islam islam islam islam islam islam islam islam islam islam islam islam islam islam islam islam islam islam islam islam islam islam islam islam islam islam islam islam islam islam islam islam islam islam islam islam islam islam islam islam islam islam islam islam islam islam islam islam islam islam islam islam islam islam islam islam islam islam islam islam islam islam islam islam islam islam islam islam islam islam islam islam islam islam islam islam islam islam islam islam islam islam islam islam islam islam islam islam islam islam islam islam islam islam islam islam islam islam islam islam islam islam islam islam islam islam islam islam islam islam islam islam islam islam islam islam islam islam islam islam islam islam islam islam islam islam islam islam islam islam islam islam islam islam islam islam islam islam islam islam islam islam islam islam islam islam islam islam islam islam islam islam islam islam islam islam islam islam islam islam islam islam islam islam islam islam islam islam islam islam islam islam islam islam islam islam islam islam islam islam islam islam islam islam islam islam islam islam islam islam islam islam islam islam islam islam islam islam islam islam islam islam islam islam islam islam islam islam islam islam islam islam islam islam islam islam islam islam islam islam islam islam islam islam islam islam islam islam islam islam islam islam islam islam islam islam islam islam islam islam islam islam islam islam islam islam islam islam islam islam islam islam islam islam islam islam islam islam islam islam islam islam islam islam islam islam islam islam islam islam islam islam islam islam islam islam islam islam islam islam islam islam islam islam islam islam islam islam islam islam islam islam islam islam islam islam islam islam islam islam islam islam islam islam islam islam islam islam islam islam islam islam islam islam islam islam islam islam islam islam islam islam islam islam islam islam islam islam islam islam islam islam islam islam islam islam islam islam islam islam islam islam islam islam islam islam islam islam islam islam islam islam islam islam islam islam islam islam islam islam islam islam islam islam islam islam islam islam islam islam islam islam islam islam islam islam islam islam islam islam islam islam islam islam islam islam islam islam islam islam islam islam islam islam islam islam islam islam islam islam islam islam islam islam islam islam islam islam islam islam islam islam islam islam islam islam islam islam islam islam islam islam islam islam islam islam islam islam islam islam islam islam islam islam islam islam islam islam islam islam islam islam islam islam islam islam islam islam islam islam islam islam islam islam islam islam islam islam islam islam islam islam islam islam islam islam islam islam islam islam islam islam islam islam islam islam islam islam islam islam islam islam islam islam islam islam islam islam islam islam islam islam islam islam islam islam islam islam islam islam islam islam islam islam islam islam islam islam islam islam islam islam islam islam islam islam islam islam islam islam islam islam islam islam islam islam islam islam islam islam islam islam islam islam islam islam islam islam islam islam islam islam islam islam islam islam islam islam islam islam islam islam islam islam islam islam islam islam islam islam islam islam islam islam islam islam islam islam islam islam islam islam islam islam islam islam islam islam islam islam islam islam islam islam islam islam islam islam islam islam islam islam islam islam islam islam islam islam islam islam islam islam islam islam islam islam islam islam islam islam islam islam islam islam islam islam islam islam islam islam islam islam islam islam islam islam islam islam islam islam islam islam islam islam islam islam islam islam islam islam islam islam islam islam islam islam islam islam islam islam islam islam islam islam islam islam islam islam islam islam islam islam islam islam islam islam islam islam islam islam islam islam islam islam islam islam islam islam islam islam islam islam islam islam islam islam islam islam islam islam islam islam islam islam islam islam islam islam islam islam islam islam islam islam islam islam islam islam islam islam islam islam islam islam islam islam islam islam islam islam islam islam islam islam islam islam islam islam islam islam islam islam islam islam islam islam islam islam islam islam islam islam islam islam islam islam islam islam islam islam islam islam islam islam islam islam islam islam islam islam islam islam islam islam islam islam islam islam islam islam islam islam islam islam islam islam islam islam islam islam islam islam islam islam islam islam islam islam islam islam islam islam islam islam islam islam islam islam islam islam islam islam islam islam islam islam islam islam islam islam islam islam islam islam islam islam bite islam islam islam islam islam islam islam islam islam islam islam islam islam islam islam islam islam islam islam islam islam islam islam islam islam islam islam islam islam islam islam islam islam islam islam islam islam islam islam islam islam islam islam islam islam islam islam islam islam islam islam islam islam islam islam islam islam islam islam islam islam islam islam islam islam islam islam islam islam islam islam islam islam islam islam islam islam islam islam islam islam islam islam islam islam islam islam islam islam islam islam islam islam islam islam islam islam islam islam islam islam islam islam islam islam islam islam islam islam islam islam islam islam islam islam islam islam islam islam islam islam islam islam islam islam islam islam islam islam islam islam islam islam islam islam islam islam islam islam islam islam islam islam islam islam islam islam islam islam islam islam islam islam islam islam islam islam islam islam islam islam islam islam islam islam islam islam islam islam islam islam islam'"
            ],
            "application/vnd.google.colaboratory.intrinsic+json": {
              "type": "string"
            }
          },
          "metadata": {},
          "execution_count": 349
        }
      ]
    },
    {
      "cell_type": "code",
      "source": [
        "df_train.iloc[1427].data"
      ],
      "metadata": {
        "id": "WKPtS7f3txDb",
        "outputId": "d71eaa2a-3b20-4e54-a861-78231035bced",
        "colab": {
          "base_uri": "https://localhost:8080/",
          "height": 143
        }
      },
      "execution_count": 350,
      "outputs": [
        {
          "output_type": "execute_result",
          "data": {
            "text/plain": [
              "'officiel daleks cybermen guidés master décidé dapporter soutien révolte gilets jaunes finir jamais prix carburants nécessaires leurs déplacements lespace intersidéral communiqué presse daleks exterminate exterminate exterminate exterminate exterminate exterminate exterminate exterminate exterminate exterminate exterminate exterminate e xterminate exterminate exterminate exterminate exterminate exterminate exterminate exterminate exterminate ex terminate exterminate exterminate exterminate exterminate exterminate exterminate exterminate exterminate exterminate exterminate exterminate exterminate exterminate exterminate exterminate exterminate exterminate exterminate exterminate exterminate exterminate exterminate exterminate exterminate exterminate exterminate exterm inate exterminate exterminate exterminate exterminate exterminate exterminate exterminate exterminate exterminate exterminate exterminate exterminate exterminate exterminate exterminate exterminate exterminate exterminate exterminate exterminate exterminate exterminate exterminate exterminate exterminate exterminate exterminate exterminate exterminate exterminate ex terminate exterminate exterminate exterminate exterminate exterminate exterminate exterminate exterminate exterminate exterminate exterminate exterminate exterminate exterminate exterminate exterminate exterminate exterminate exterminate exterminate exterminate exterminate exterminate exterminate exterminate exterminate exterminate exterminate exterminate exterminate exterminate exterminate exterminate exterminate exterminate exterminate exterminate exterminate exterminate exterminate exterminate exterminate extermin ate exterminate exterminate exterminate exterminate exterminate exterminate exterminate exterminate exterminate exterminate exterminate exterminate exterminate exterminate exterminate exter minate exterminate exterminate exterminate exterminate exterminate exterminate exterminate exterminate exterminate exterminate exterminate exterminate exterminate exterminate exterminate exterminate exterminate exterminate exterminate exterminate exterminate exterminate exterminate exterminate exterminate exterminate exterminate exterminate exterminate exterminate exterminate exterminate exterminate exterminate exterminate exterminate exterminate exterminate exterminate exterminate exterminate exterminate exterminate exterminate exterminate exterminate exterminate exterminate exterminate exterminate exterminate exterminate'"
            ],
            "application/vnd.google.colaboratory.intrinsic+json": {
              "type": "string"
            }
          },
          "metadata": {},
          "execution_count": 350
        }
      ]
    }
  ]
}